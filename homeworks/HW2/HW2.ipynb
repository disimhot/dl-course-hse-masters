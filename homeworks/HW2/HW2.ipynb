{
 "cells": [
  {
   "cell_type": "markdown",
   "metadata": {
    "id": "w35Q6hOIy4sk",
    "pycharm": {
     "name": "#%% md\n"
    }
   },
   "source": [
    "# Глубинное обучение, ИИ ВШЭ\n",
    "\n",
    "## Домашнее задание 2. Классификация при помощи CNN. \n",
    "\n",
    "### Общая информация\n",
    "\n",
    "### Оценивание и штрафы\n",
    "\n",
    "Максимально допустимая оценка за работу без бонусов — 10 баллов. Сдавать задание после указанного срока жесткого дедлайна нельзя.\n",
    "\n",
    "Сдача работы после мягкого дедлайна штрафуется ступенчато, -1 балл в сутки. Один раз за модуль студентам предоставляется возможность использовать отсрочку и сдать в жесткий дедлайн без штрафа.\n",
    "\n",
    "Задание выполняется самостоятельно. «Похожие» решения считаются плагиатом и все задействованные студенты (в том числе те, у кого списали) не могут получить за него больше 0 баллов. Если вы нашли решение какого-то из заданий (или его часть) в открытом источнике, необходимо указать ссылку на этот источник в отдельном блоке в конце вашей работы (скорее всего вы будете не единственным, кто это нашел, поэтому чтобы исключить подозрение в плагиате, необходима ссылка на источник).\n",
    "\n",
    "Неэффективная реализация кода может негативно отразиться на оценке. Также оценка может быть снижена за плохо читаемый код и плохо оформленные графики. Все ответы должны сопровождаться кодом или комментариями о том, как они были получены.\n",
    "\n",
    "Использование генеративных моделей допустимо на следующих условиях:\n",
    "- Количество кода, написанное генеративными моделями, не превышает 30%\n",
    "- Указана модель, использованная для генерации, а также промпт\n",
    "- В конце работы необходимо описать свой опыт использования генеративного ИИ для решения данного домашнего задания. Укажите как часто Вам приходилось исправлять код своими руками или просить модель что-то исправить. Было ли это быстрее, чем написать код самим? \n",
    "\n",
    "В случае невыполнения этих требований работа не оценивается и оценка за неё не превышает 0 баллов.\n",
    "\n",
    "### О задании\n",
    "\n",
    "В этом задании вам предстоит познакомиться со сверточными сетями и их обучением для классификации изображений с использованием библиотеки PyTorch.\n"
   ]
  },
  {
   "cell_type": "code",
   "execution_count": 7,
   "metadata": {
    "id": "SaACifdX2QOo",
    "jupyter": {
     "is_executing": true
    },
    "pycharm": {
     "name": "#%%\n"
    }
   },
   "outputs": [],
   "source": [
    "import matplotlib.pyplot as plt\n",
    "import numpy as np\n",
    "import torch\n",
    "import torch.nn as nn\n",
    "import torch.nn.functional as F\n",
    "import torch.optim as optim\n",
    "import torchvision\n",
    "import torchvision.transforms as transforms\n",
    "from sklearn.model_selection import train_test_split"
   ]
  },
  {
   "cell_type": "markdown",
   "metadata": {
    "id": "TIXaUYM-0JFl",
    "pycharm": {
     "name": "#%% md\n"
    }
   },
   "source": [
    "## 0. Загрузка данных\n",
    "\n",
    "Работать мы будем с набором данных [CIFAR10](https://www.cs.toronto.edu/~kriz/cifar.html). CIFAR10 представляет собой набор изображений 32х32 пикселя, разделенных на 10 классов.\n",
    "\n",
    "![title](https://pytorch.org/tutorials/_images/cifar10.png)\n",
    "\n",
    "\n"
   ]
  },
  {
   "cell_type": "markdown",
   "metadata": {
    "id": "g-0EEjl_10vB",
    "pycharm": {
     "name": "#%% md\n"
    }
   },
   "source": [
    "Набор данных уже определен в <code>torchvision.datasets</code>, так что возьмем его оттуда. \n",
    "\n"
   ]
  },
  {
   "cell_type": "code",
   "execution_count": 8,
   "metadata": {
    "id": "Cbwe92dT3aPZ",
    "pycharm": {
     "name": "#%%\n"
    }
   },
   "outputs": [],
   "source": [
    "# Для тру нормализации\n",
    "# mean = [0.4914, 0.4822, 0.4465]\n",
    "# std = [0.2470, 0.2435, 0.2616]\n",
    "# Тут взяты значения как в одном из туториалов пайторча :)\n",
    "\n",
    "\n",
    "def get_cifar10_data(batch_size, transform_train):\n",
    "    torch.manual_seed(0)\n",
    "    np.random.seed(0)\n",
    "\n",
    "    transform_test = transforms.Compose(\n",
    "        [\n",
    "            transforms.ToTensor(),\n",
    "            # Переводим цвета пикселей в отрезок [-1, 1]\n",
    "            transforms.Normalize((0.5, 0.5, 0.5), (0.5, 0.5, 0.5)),\n",
    "        ]\n",
    "    )\n",
    "\n",
    "    # Загружаем данные\n",
    "    trainvalset = torchvision.datasets.CIFAR10(\n",
    "        root=\"./data\", train=True, download=True, transform=transform_train\n",
    "    )\n",
    "    testset = torchvision.datasets.CIFAR10(\n",
    "        root=\"./data\", train=False, download=True, transform=transform_test\n",
    "    )\n",
    "\n",
    "    # В датасете определено разбиение только на train и test,\n",
    "    # так что валидацию дополнительно выделяем из обучающей выборки\n",
    "    train_idx, valid_idx = train_test_split(\n",
    "        np.arange(len(trainvalset)), test_size=0.3, shuffle=True, random_state=0\n",
    "    )\n",
    "    trainset = torch.utils.data.Subset(trainvalset, train_idx)\n",
    "    valset = torch.utils.data.Subset(trainvalset, valid_idx)\n",
    "\n",
    "    train_loader = torch.utils.data.DataLoader(\n",
    "        trainset, batch_size=batch_size, shuffle=True, num_workers=2\n",
    "    )\n",
    "    val_loader = torch.utils.data.DataLoader(\n",
    "        valset, batch_size=batch_size, shuffle=False, num_workers=2\n",
    "    )\n",
    "    test_loader = torch.utils.data.DataLoader(\n",
    "        testset, batch_size=batch_size, shuffle=False, num_workers=2\n",
    "    )\n",
    "\n",
    "    return train_loader, val_loader, test_loader"
   ]
  },
  {
   "cell_type": "code",
   "execution_count": 11,
   "metadata": {
    "colab": {
     "base_uri": "https://localhost:8080/",
     "height": 101,
     "referenced_widgets": [
      "aa9da821ba0c42b5b051355e50e691f0",
      "95c5696493db48738dbdc9940acec1d8",
      "fe515a1f743f49d0b251b43919d52a8e",
      "f4f339c969fd4e21bc683ecb2567897b",
      "17b2be81159e41f1a5c6bb966516572e",
      "22bb21a6c57a413fb7374efe31349e6e",
      "18b20091dbf64b129824a8fb3266e3c0",
      "9bad0d6a00c14229b0d776a2cfe15090",
      "0fee9f5b7bdb4129a71ef0cfe9d3b1fa",
      "cd991379661b4b4ab405bf66f75c6834",
      "7d238166caf64537ad9aa2040dcdc1ec"
     ]
    },
    "id": "2G2rLnN5y6Jj",
    "outputId": "542c91e6-44f6-4e26-f1e8-5df3b83fd044",
    "pycharm": {
     "name": "#%%\n"
    }
   },
   "outputs": [],
   "source": [
    "transform = transforms.Compose(\n",
    "    [transforms.ToTensor(), transforms.Normalize((0.5, 0.5, 0.5), (0.5, 0.5, 0.5))]\n",
    ")\n",
    "\n",
    "train_loader, val_loader, test_loader = get_cifar10_data(\n",
    "    batch_size=64, transform_train=transform\n",
    ")"
   ]
  },
  {
   "cell_type": "markdown",
   "metadata": {
    "id": "-82HWgXs77W1",
    "pycharm": {
     "name": "#%% md\n"
    }
   },
   "source": [
    "Посмотрим на изображения:"
   ]
  },
  {
   "cell_type": "code",
   "execution_count": 13,
   "metadata": {
    "colab": {
     "base_uri": "https://localhost:8080/",
     "height": 155
    },
    "id": "ACnwaC5iy6L2",
    "outputId": "fd2fc631-ea7b-45f2-9728-eb1c5f9e683c",
    "pycharm": {
     "name": "#%%\n"
    }
   },
   "outputs": [
    {
     "data": {
      "image/png": "[encoded data removed]",
      "text/plain": [
       "<Figure size 640x480 with 1 Axes>"
      ]
     },
     "metadata": {},
     "output_type": "display_data"
    },
    {
     "name": "stdout",
     "output_type": "stream",
     "text": [
      "ship frog horse horse frog cat truck truck\n"
     ]
    }
   ],
   "source": [
    "def imshow(img):\n",
    "    img = img / 2 + 0.5\n",
    "    npimg = img.numpy()\n",
    "    plt.imshow(np.transpose(npimg, (1, 2, 0)))\n",
    "    plt.show()\n",
    "\n",
    "\n",
    "dataiter = iter(train_loader)\n",
    "images, labels = next(dataiter)\n",
    "\n",
    "imshow(torchvision.utils.make_grid(images[:4]))\n",
    "\n",
    "classes = (\n",
    "    \"plane\",\n",
    "    \"car\",\n",
    "    \"bird\",\n",
    "    \"cat\",\n",
    "    \"deer\",\n",
    "    \"dog\",\n",
    "    \"frog\",\n",
    "    \"horse\",\n",
    "    \"ship\",\n",
    "    \"truck\",\n",
    ")\n",
    "print(*[classes[labels[i]] for i in range(8)])"
   ]
  },
  {
   "cell_type": "markdown",
   "metadata": {
    "id": "KFDilng29YZ_",
    "pycharm": {
     "name": "#%% md\n"
    }
   },
   "source": [
    "## 1. Задание сверточной сети (3 балла)"
   ]
  },
  {
   "cell_type": "markdown",
   "metadata": {
    "id": "OX7Ul8YbYdQR",
    "pycharm": {
     "name": "#%% md\n"
    }
   },
   "source": [
    "Теперь нам нужно задать сверточную нейронную сеть, которую мы будем обучать классифицировать изображения.\n",
    "\n",
    "Используем сеть, основанную на одном блоке архитектуры, похожей на ResNet. Обратите внимание, это не ResNet 1 в 1.\n",
    "\n",
    "<img src=\"https://i.ibb.co/2hg962h/basic-block.png\" width=\"500\"/>\n",
    "\n",
    "__Указания:__\n",
    "\n",
    "- Все сверточные слои должны иметь 32 выходных канала, а также не должны изменять ширину и высоту изображения.\n",
    "- Выход блока сократите до размерности 32х4х4, применив average pooling.\n",
    "- Для получения итоговых логитов, распрямите выход пулинга в вектор из 512 элементов, а затем пропустите его через линейный слой."
   ]
  },
  {
   "cell_type": "markdown",
   "metadata": {
    "id": "sbyIylT9O9Dr",
    "pycharm": {
     "name": "#%% md\n"
    }
   },
   "source": [
    "**Задание 1.1 (3 балла).**\n",
    "\n",
    "Определите архитектуру сети соответственно схеме и указаниям выше.\n",
    "\n",
    "Ключевые слова: <code>Conv2d</code>, <code>BatchNorm2d</code>, <code>AvgPool2d</code>."
   ]
  },
  {
   "cell_type": "code",
   "execution_count": 14,
   "metadata": {
    "id": "s9ml1QGKy6N9",
    "pycharm": {
     "name": "#%%\n"
    }
   },
   "outputs": [],
   "source": [
    "n_classes = 10\n",
    "\n",
    "class BasicBlockNet(nn.Module):\n",
    "    def __init__(self):\n",
    "        super().__init__()\n",
    "        self.conv1 = nn.Conv2d(in_channels=3, out_channels=32, kernel_size=3, padding=1)\n",
    "        self.bn_1 = nn.BatchNorm2d(32)\n",
    "        self.conv2 = nn.Conv2d(in_channels=32, out_channels=32, kernel_size=3, padding=1)\n",
    "        self.bn_2 = nn.BatchNorm2d(32)\n",
    "        self.conv3 = nn.Conv2d(in_channels=3, out_channels=32, kernel_size=1)\n",
    "        self.avgpool = nn.AvgPool2d(kernel_size=8)\n",
    "        self.fc = nn.Linear(512, n_classes)\n",
    "\n",
    "    def forward(self, x):\n",
    "        out = self.conv1(x)\n",
    "        out = self.bn_1(out)\n",
    "        out = F.relu(out)\n",
    "        \n",
    "        out = self.conv2(out)\n",
    "        out = self.bn_2(out)\n",
    "\n",
    "        out1 = self.conv3(x)\n",
    "        \n",
    "        out += out1\n",
    "        out =  F.relu(out)\n",
    "\n",
    "        out = self.avgpool(out)\n",
    "        out = torch.flatten(out, 1)\n",
    "        out = self.fc(out)\n",
    "\n",
    "        return out"
   ]
  },
  {
   "cell_type": "code",
   "execution_count": 15,
   "metadata": {
    "id": "FI4BQg7Ky6Pw",
    "pycharm": {
     "name": "#%%\n"
    }
   },
   "outputs": [
    {
     "data": {
      "text/plain": [
       "BasicBlockNet(\n",
       "  (conv1): Conv2d(3, 32, kernel_size=(3, 3), stride=(1, 1), padding=(1, 1))\n",
       "  (bn_1): BatchNorm2d(32, eps=1e-05, momentum=0.1, affine=True, track_running_stats=True)\n",
       "  (conv2): Conv2d(32, 32, kernel_size=(3, 3), stride=(1, 1), padding=(1, 1))\n",
       "  (bn_2): BatchNorm2d(32, eps=1e-05, momentum=0.1, affine=True, track_running_stats=True)\n",
       "  (conv3): Conv2d(3, 32, kernel_size=(1, 1), stride=(1, 1))\n",
       "  (avgpool): AvgPool2d(kernel_size=8, stride=8, padding=0)\n",
       "  (fc): Linear(in_features=512, out_features=10, bias=True)\n",
       ")"
      ]
     },
     "execution_count": 15,
     "metadata": {},
     "output_type": "execute_result"
    }
   ],
   "source": [
    "net = BasicBlockNet()\n",
    "net"
   ]
  },
  {
   "cell_type": "markdown",
   "metadata": {
    "id": "igPoGZEub8d3",
    "pycharm": {
     "name": "#%% md\n"
    }
   },
   "source": [
    "Проверим, что выход сети имеет корректную размерность:"
   ]
  },
  {
   "cell_type": "code",
   "execution_count": 15,
   "metadata": {
    "id": "cCIzFUpJ_Agw",
    "pycharm": {
     "name": "#%%\n"
    }
   },
   "outputs": [],
   "source": [
    "assert net(torch.zeros((10, 3, 32, 32))).shape == (10, 10)"
   ]
  },
  {
   "cell_type": "markdown",
   "metadata": {
    "id": "08osX622cDGz",
    "pycharm": {
     "name": "#%% md\n"
    }
   },
   "source": [
    "Чтобы проводить вычисления на GPU, в PyTorch необходимо руками перекладывать объекты, с которыми вы хотите проводить вычисления, на графический ускоритель. Это делается следующим образрм:"
   ]
  },
  {
   "cell_type": "code",
   "execution_count": 19,
   "metadata": {
    "id": "56hDOMCFcDZX",
    "pycharm": {
     "name": "#%%\n"
    }
   },
   "outputs": [
    {
     "name": "stdout",
     "output_type": "stream",
     "text": [
      "cuda:0\n"
     ]
    }
   ],
   "source": [
    "device = torch.device(\"cuda:0\" if torch.cuda.is_available() else \"cpu\")\n",
    "print(device)"
   ]
  },
  {
   "cell_type": "code",
   "execution_count": 19,
   "metadata": {
    "id": "ohnDWbp0qbtC",
    "pycharm": {
     "name": "#%%\n"
    }
   },
   "outputs": [],
   "source": [
    "net = net.to(device)"
   ]
  },
  {
   "cell_type": "markdown",
   "metadata": {
    "id": "H_bOlTVUp5QF",
    "pycharm": {
     "name": "#%% md\n"
    }
   },
   "source": [
    "Подключение GPU в google.colab:\n",
    "\n",
    "**Среда выполнения** -> **Сменить среду выполнения** -> **Аппаратный ускоритель** -> **GPU**"
   ]
  },
  {
   "cell_type": "markdown",
   "metadata": {
    "id": "AGi6XX_7_Bgg",
    "pycharm": {
     "name": "#%% md\n"
    }
   },
   "source": [
    "## 2. Обучение и тестирование модели (3 балла)"
   ]
  },
  {
   "cell_type": "markdown",
   "metadata": {
    "id": "0agj_MQoO9Ds",
    "pycharm": {
     "name": "#%% md\n"
    }
   },
   "source": [
    "**Задание 2.1 (2 балла).** Переходим к обучению модели. Заполните пропуски в функциях <code>test</code> и <code>train_epoch</code>. В качестве функции потерь будем использовать [кросс-энтропию](https://pytorch.org/docs/stable/generated/torch.nn.functional.cross_entropy.html), а в качестве метрики качества accuracy."
   ]
  },
  {
   "cell_type": "code",
   "execution_count": 56,
   "metadata": {
    "id": "g8gsPPRIevDS",
    "pycharm": {
     "name": "#%%\n"
    }
   },
   "outputs": [],
   "source": [
    "def test(model, loader):\n",
    "    loss_log = []\n",
    "    acc_log = []\n",
    "    model.eval()\n",
    "\n",
    "    with torch.no_grad():\n",
    "        for data, target in loader:\n",
    "            data, target = data.to(device), target.to(device)\n",
    "            \n",
    "            y_pred = model(data)\n",
    "            loss = F.cross_entropy(y_pred, target)\n",
    "            \n",
    "            loss_log.append(loss.item())\n",
    "            \n",
    "            pred_classes = y_pred.argmax(dim=1)\n",
    "            acc = (pred_classes == target).float().mean()\n",
    "            acc_log.append(acc.item())\n",
    "\n",
    "    return np.mean(loss_log), np.mean(acc_log)\n",
    "\n",
    "\n",
    "def train_epoch(model, optimizer, train_loader):\n",
    "    loss_log = []\n",
    "    acc_log = []\n",
    "    model.train()\n",
    "\n",
    "    for data, target in train_loader:\n",
    "        data, target = data.to(device), target.to(device)\n",
    "\n",
    "        y_pred = model(data)\n",
    "        loss = F.cross_entropy(y_pred, target)\n",
    "        loss.backward()\n",
    "        optimizer.step()       \n",
    "        optimizer.zero_grad()\n",
    "        \n",
    "        loss_log.append(loss.item())\n",
    "        \n",
    "        pred_classes = y_pred.argmax(dim=1)\n",
    "        acc = (pred_classes == target).float().mean()\n",
    "        acc_log.append(acc.item())\n",
    "\n",
    "    return loss_log, acc_log\n",
    "\n",
    "\n",
    "def train(model, optimizer, n_epochs, train_loader, val_loader, scheduler=None):\n",
    "    train_loss_log, train_acc_log, val_loss_log, val_acc_log = [], [], [], []\n",
    "\n",
    "    for epoch in range(n_epochs):\n",
    "        train_loss, train_acc = train_epoch(model, optimizer, train_loader)\n",
    "        val_loss, val_acc = test(model, val_loader)\n",
    "\n",
    "        train_loss_log.extend(train_loss)\n",
    "        train_acc_log.extend(train_acc)\n",
    "\n",
    "        val_loss_log.append(val_loss)\n",
    "        val_acc_log.append(val_acc)\n",
    "\n",
    "        print(f\"Epoch {epoch}\")\n",
    "        print(f\" train loss: {np.mean(train_loss)}, train acc: {np.mean(train_acc)}\")\n",
    "        print(f\" val loss: {val_loss}, val acc: {val_acc}\\n\")\n",
    "\n",
    "        if scheduler is not None:\n",
    "            if isinstance(scheduler, optim.lr_scheduler.ReduceLROnPlateau):\n",
    "                scheduler.step(val_loss)\n",
    "            else:\n",
    "                scheduler.step()\n",
    "        \n",
    "\n",
    "    return train_loss_log, train_acc_log, val_loss_log, val_acc_log"
   ]
  },
  {
   "cell_type": "markdown",
   "metadata": {
    "id": "iSOqk_CAO9Dt",
    "pycharm": {
     "name": "#%% md\n"
    }
   },
   "source": [
    "Запустим обучение модели. В качестве оптимизатора будем использовать стохастический градиентный спуск, который является де-факто стандартом в задачах компьютерного зрения (наравне с <code>Adam</code>).\n",
    "\n",
    "__Замечание:__ Для достижения наилучшего качества в нашем случае потребуется обучать модель несколько сотен эпох. Однако в целях экономии вашего времени и сил, во всех экспериментах мы ограничимся 20 эпохами."
   ]
  },
  {
   "cell_type": "code",
   "execution_count": 24,
   "metadata": {
    "id": "MKZBGhuAgMDu",
    "pycharm": {
     "name": "#%%\n"
    },
    "scrolled": true
   },
   "outputs": [
    {
     "name": "stdout",
     "output_type": "stream",
     "text": [
      "Epoch 0\n",
      " train loss: 1.455233200921437, train acc: 0.4829508358207438\n",
      " val loss: 1.205799281089864, val acc: 0.5730939718002969\n",
      "\n",
      "Epoch 1\n",
      " train loss: 1.1453266779073195, train acc: 0.6007606425276623\n",
      " val loss: 1.1371711203392516, val acc: 0.6078457446808511\n",
      "\n",
      "Epoch 2\n",
      " train loss: 1.035899308525448, train acc: 0.639580340882324\n",
      " val loss: 1.089921360827507, val acc: 0.6244015957446809\n",
      "\n",
      "Epoch 3\n",
      " train loss: 0.9845947511017431, train acc: 0.6582128166934472\n",
      " val loss: 1.055056693198833, val acc: 0.6351728723404255\n",
      "\n",
      "Epoch 4\n",
      " train loss: 0.9497658073139364, train acc: 0.6695816466751656\n",
      " val loss: 1.0087687852534841, val acc: 0.6550088654173182\n",
      "\n",
      "Epoch 5\n",
      " train loss: 0.9287214408844873, train acc: 0.6782857796391796\n",
      " val loss: 0.9492705324862866, val acc: 0.6739140071767442\n",
      "\n",
      "Epoch 6\n",
      " train loss: 0.8995059978155593, train acc: 0.6865655197957752\n",
      " val loss: 1.0354236336464577, val acc: 0.6480939718002968\n",
      "\n",
      "Epoch 7\n",
      " train loss: 0.8830705838077029, train acc: 0.6935353552619543\n",
      " val loss: 0.9778536281687148, val acc: 0.6717420212765958\n",
      "\n",
      "Epoch 8\n",
      " train loss: 0.8637260005722535, train acc: 0.6981302233892995\n",
      " val loss: 0.9404395572682644, val acc: 0.677282801587531\n",
      "\n",
      "Epoch 9\n",
      " train loss: 0.8516726043804036, train acc: 0.704463469589868\n",
      " val loss: 0.9177684725599086, val acc: 0.6896719859001484\n",
      "\n",
      "Epoch 10\n",
      " train loss: 0.8355923393635689, train acc: 0.7117515997433357\n",
      " val loss: 0.908435742144889, val acc: 0.6958333335024245\n",
      "\n",
      "Epoch 11\n",
      " train loss: 0.8289698982369529, train acc: 0.7110537999944669\n",
      " val loss: 0.9077703123397015, val acc: 0.6872562058428501\n",
      "\n",
      "Epoch 12\n",
      " train loss: 0.8169917884321928, train acc: 0.7160934643510055\n",
      " val loss: 0.8998145450936987, val acc: 0.6944813829787234\n",
      "\n",
      "Epoch 13\n",
      " train loss: 0.8061564504228519, train acc: 0.720586315042576\n",
      " val loss: 0.9002202105014883, val acc: 0.6909574468085107\n",
      "\n",
      "Epoch 14\n",
      " train loss: 0.8005444205875153, train acc: 0.7220716898140568\n",
      " val loss: 0.893384388406226, val acc: 0.6983599292471053\n",
      "\n",
      "Epoch 15\n",
      " train loss: 0.7943393681777243, train acc: 0.7268991578213694\n",
      " val loss: 0.8824698063921421, val acc: 0.6979166667512122\n",
      "\n",
      "Epoch 16\n",
      " train loss: 0.7889573954359052, train acc: 0.7230143314959581\n",
      " val loss: 0.8872644505602248, val acc: 0.6961214539852548\n",
      "\n",
      "Epoch 17\n",
      " train loss: 0.7686318644004069, train acc: 0.7308615174764254\n",
      " val loss: 0.916170168683884, val acc: 0.6906028369639782\n",
      "\n",
      "Epoch 18\n",
      " train loss: 0.764693447996537, train acc: 0.73435867726258\n",
      " val loss: 0.9064249036159922, val acc: 0.6963874114320633\n",
      "\n",
      "Epoch 19\n",
      " train loss: 0.7540372875425454, train acc: 0.7371580374088322\n",
      " val loss: 0.8678797239952899, val acc: 0.7050088654173181\n",
      "\n"
     ]
    }
   ],
   "source": [
    "optimizer = optim.SGD(net.parameters(), lr=0.1, momentum=0.9)\n",
    "train_loss_log, train_acc_log, val_loss_log, val_acc_log = train(\n",
    "    net, optimizer, 20, train_loader, val_loader\n",
    ")"
   ]
  },
  {
   "cell_type": "markdown",
   "metadata": {
    "id": "gUb1jQW8O9Dt",
    "pycharm": {
     "name": "#%% md\n"
    }
   },
   "source": [
    "Посчитайте точность на тестовой выборке:"
   ]
  },
  {
   "cell_type": "code",
   "execution_count": 28,
   "metadata": {
    "id": "Jyuc55B9_Amc",
    "pycharm": {
     "name": "#%%\n"
    }
   },
   "outputs": [
    {
     "name": "stdout",
     "output_type": "stream",
     "text": [
      "Точность на тесте: 0.6936\n"
     ]
    }
   ],
   "source": [
    "loss, accuracy = test(net, test_loader)\n",
    "print(f\"Точность на тесте: {accuracy:.4f}\")"
   ]
  },
  {
   "cell_type": "markdown",
   "metadata": {
    "id": "zM38Q9fwO9Dt",
    "pycharm": {
     "name": "#%% md\n"
    }
   },
   "source": [
    "Если вы все сделали правильно, у вас должна была получиться точность $\\ge 67\\%$."
   ]
  },
  {
   "cell_type": "markdown",
   "metadata": {
    "id": "DHFNSKcoO9Dt",
    "pycharm": {
     "name": "#%% md\n"
    }
   },
   "source": [
    "**Задание 2.2 (1 балл).** Постройте графики зависимости функции потерь и точности классификации от номера шага оптимизатора. На каждом графике расположите данные и для обучающей и для валидационной выборки, итого у вас должно получиться два графика. Обратите внимание, что на обучающей выборке эти данные считаются по каждому батчу, на валидационной же они считаются по всей выборке раз в эпоху."
   ]
  },
  {
   "cell_type": "code",
   "execution_count": 30,
   "metadata": {},
   "outputs": [],
   "source": [
    "def plot_history(train_history, val_history, title):\n",
    "    plt.figure()\n",
    "    plt.title(title)\n",
    "    val_steps =[i * len(train_history) // 20 for i in range(20)]\n",
    "    plt.plot(train_history, label=\"train\", zorder=1)\n",
    "    plt.plot(val_steps, val_history, label=\"validation\", marker='+')\n",
    "    plt.xlabel(\"шаги\")\n",
    "    plt.legend(loc=\"best\")\n",
    "    plt.grid()\n",
    "    plt.show()"
   ]
  },
  {
   "cell_type": "code",
   "execution_count": 84,
   "metadata": {},
   "outputs": [
    {
     "data": {
      "image/png": "[encoded data removed]",
      "text/plain": [
       "<Figure size 640x480 with 1 Axes>"
      ]
     },
     "metadata": {},
     "output_type": "display_data"
    },
    {
     "data": {
      "image/png": "[encoded data removed]",
      "text/plain": [
       "<Figure size 640x480 with 1 Axes>"
      ]
     },
     "metadata": {},
     "output_type": "display_data"
    }
   ],
   "source": [
    "plot_history(train_loss_log, val_loss_log, \"Зависимость функции потерь от шага оптимизатора\")\n",
    "plot_history(train_acc_log, val_acc_log, \"Зависимость точности от шага оптимизатора\")"
   ]
  },
  {
   "cell_type": "markdown",
   "metadata": {
    "id": "_ttOJPj-O9Dt",
    "pycharm": {
     "name": "#%% md\n"
    }
   },
   "source": [
    "## 3. Расписание длины шага (2 балла)"
   ]
  },
  {
   "cell_type": "markdown",
   "metadata": {
    "id": "qiz3JstuO9Dt",
    "pycharm": {
     "name": "#%% md\n"
    }
   },
   "source": [
    "С курса \"Машинное обучение 1\" вы уже должны знать, что сходимость стохастического градиентного спуска мы можем теоретически гарантировать только если будем определенным образом со временем уменьшать длину шага. На практике при обучении нейронных сетей такая техника оказывается очень полезной, однако теоретически обоснованными способами уменьшения длины шага фантазия не ограничивается.\n",
    "\n",
    "Одним из простейших способов является кусочно постоянная функция: на нескольких фиксированных эпохах уменьшаем длину шага в константу раз."
   ]
  },
  {
   "cell_type": "code",
   "execution_count": 86,
   "metadata": {
    "id": "V2Z0OT3nO9Du",
    "pycharm": {
     "name": "#%%\n"
    }
   },
   "outputs": [
    {
     "name": "stdout",
     "output_type": "stream",
     "text": [
      "Epoch 0\n",
      " train loss: 1.4670813788661574, train acc: 0.4765318948128542\n",
      " val loss: 1.2804554021104853, val acc: 0.5486702127659574\n",
      "\n",
      "Epoch 1\n",
      " train loss: 1.152219993976614, train acc: 0.5957291395398338\n",
      " val loss: 1.1362103452073766, val acc: 0.6048315603682335\n",
      "\n",
      "Epoch 2\n",
      " train loss: 1.0524351389796032, train acc: 0.6333164665337236\n",
      " val loss: 1.1681448875589573, val acc: 0.5917331561129144\n",
      "\n",
      "Epoch 3\n",
      " train loss: 0.9972092860141664, train acc: 0.6513898864088808\n",
      " val loss: 0.9958628068579004, val acc: 0.6524157801841167\n",
      "\n",
      "Epoch 4\n",
      " train loss: 0.9552856567136985, train acc: 0.6665129603807843\n",
      " val loss: 1.0031082330866063, val acc: 0.6480939716734785\n",
      "\n",
      "Epoch 5\n",
      " train loss: 0.9229104391944474, train acc: 0.6784449269828239\n",
      " val loss: 0.9625248358604755, val acc: 0.6682402483960416\n",
      "\n",
      "Epoch 6\n",
      " train loss: 0.904915930529617, train acc: 0.6831907809761368\n",
      " val loss: 0.9522246647388377, val acc: 0.6767287234042553\n",
      "\n",
      "Epoch 7\n",
      " train loss: 0.8868984520108434, train acc: 0.6898341603863174\n",
      " val loss: 0.9018732948506132, val acc: 0.6904920212765957\n",
      "\n",
      "Epoch 8\n",
      " train loss: 0.8675282996358994, train acc: 0.6985056477665247\n",
      " val loss: 0.9092779532391975, val acc: 0.6856382978723404\n",
      "\n",
      "Epoch 9\n",
      " train loss: 0.8580138524228084, train acc: 0.7030637895167419\n",
      " val loss: 0.8939810851786999, val acc: 0.6930186170212767\n",
      "\n",
      "Epoch 10\n",
      " train loss: 0.7466309161574138, train acc: 0.7422181052961123\n",
      " val loss: 0.8333780000818537, val acc: 0.7134751773895102\n",
      "\n",
      "Epoch 11\n",
      " train loss: 0.7299453065861732, train acc: 0.747351625828682\n",
      " val loss: 0.8272270189954879, val acc: 0.7171099292471054\n",
      "\n",
      "Epoch 12\n",
      " train loss: 0.7254672856827759, train acc: 0.750510087505773\n",
      " val loss: 0.8265462738402346, val acc: 0.716533688027808\n",
      "\n",
      "Epoch 13\n",
      " train loss: 0.7209795186027095, train acc: 0.7523831288165105\n",
      " val loss: 0.8280247551329593, val acc: 0.7178413122258288\n",
      "\n",
      "Epoch 14\n",
      " train loss: 0.716475204150899, train acc: 0.7520281079700267\n",
      " val loss: 0.8210625562262028, val acc: 0.7201019505237011\n",
      "\n",
      "Epoch 15\n",
      " train loss: 0.7028771004140704, train acc: 0.7577533299134026\n",
      " val loss: 0.8169556376781869, val acc: 0.7214982271194458\n",
      "\n",
      "Epoch 16\n",
      " train loss: 0.7014171710506871, train acc: 0.7591938169390453\n",
      " val loss: 0.8161594096650469, val acc: 0.7209663122258287\n",
      "\n",
      "Epoch 17\n",
      " train loss: 0.7001788303446727, train acc: 0.7585205015142396\n",
      " val loss: 0.815503140332851, val acc: 0.7209441489361702\n",
      "\n",
      "Epoch 18\n",
      " train loss: 0.6998514400103846, train acc: 0.758761262762917\n",
      " val loss: 0.8172826397926249, val acc: 0.7215425531914894\n",
      "\n",
      "Epoch 19\n",
      " train loss: 0.6993410610193744, train acc: 0.7589530556903679\n",
      " val loss: 0.8155330580599764, val acc: 0.7216755319148936\n",
      "\n"
     ]
    }
   ],
   "source": [
    "net = BasicBlockNet().to(device)\n",
    "optimizer = optim.SGD(net.parameters(), lr=0.1, momentum=0.9)\n",
    "scheduler = optim.lr_scheduler.MultiStepLR(optimizer, milestones=[10, 15], gamma=0.1)\n",
    "tr_loss_log, tr_acc_log, val_loss_log, val_acc_log = train(\n",
    "    net, optimizer, 20, train_loader, val_loader, scheduler\n",
    ")"
   ]
  },
  {
   "cell_type": "markdown",
   "metadata": {
    "id": "5Xc76KvzO9Du",
    "pycharm": {
     "name": "#%% md\n"
    }
   },
   "source": [
    "Посчитайте точность на тестовой выборке:"
   ]
  },
  {
   "cell_type": "code",
   "execution_count": 88,
   "metadata": {
    "id": "1AjiYhKqO9Du",
    "pycharm": {
     "name": "#%%\n"
    }
   },
   "outputs": [
    {
     "name": "stdout",
     "output_type": "stream",
     "text": [
      "Точность на тесте: 0.7175\n"
     ]
    }
   ],
   "source": [
    "loss, accuracy = test(net, test_loader)\n",
    "print(f\"Точность на тесте: {accuracy:.4f}\")"
   ]
  },
  {
   "cell_type": "markdown",
   "metadata": {
    "id": "yE0dgLYrO9Du",
    "pycharm": {
     "name": "#%% md\n"
    }
   },
   "source": [
    "**Задание 3.0 (0.5 баллов).** Здесь может возникнуть вопрос: а что будет, если мы не будем уменьшать длину шага в процессе обучения, а сразу возьмем констатную, равную значению нашей кусочно-постоянной функции на последних эпохах, то есть $0.001$ в нашем случае. Запустите обучение и проверьте, что в таком случае мы получим худшее качество на тестовой выборке."
   ]
  },
  {
   "cell_type": "code",
   "execution_count": 90,
   "metadata": {
    "id": "qZ2iB-LBO9Du",
    "pycharm": {
     "name": "#%%\n"
    }
   },
   "outputs": [
    {
     "name": "stdout",
     "output_type": "stream",
     "text": [
      "Epoch 0\n",
      " train loss: 1.8587564851073939, train acc: 0.3467778793418647\n",
      " val loss: 1.6385292814133015, val acc: 0.4318484042553192\n",
      "\n",
      "Epoch 1\n",
      " train loss: 1.572607450554968, train acc: 0.44757932882204354\n",
      " val loss: 1.488346047097064, val acc: 0.47794769507773377\n",
      "\n",
      "Epoch 2\n",
      " train loss: 1.4449344352568743, train acc: 0.49215281412849915\n",
      " val loss: 1.408051945808086, val acc: 0.5046320922831271\n",
      "\n",
      "Epoch 3\n",
      " train loss: 1.36081509550921, train acc: 0.5224601724465978\n",
      " val loss: 1.3143645093796101, val acc: 0.5402039007937655\n",
      "\n",
      "Epoch 4\n",
      " train loss: 1.299623813010221, train acc: 0.5451978324100348\n",
      " val loss: 1.2576164692006213, val acc: 0.5645833333756062\n",
      "\n",
      "Epoch 5\n",
      " train loss: 1.2457580520640343, train acc: 0.5637323714697383\n",
      " val loss: 1.2152322502846413, val acc: 0.5783687944107867\n",
      "\n",
      "Epoch 6\n",
      " train loss: 1.2047270691155079, train acc: 0.5814140442302501\n",
      " val loss: 1.2026736089523802, val acc: 0.5805629433469569\n",
      "\n",
      "Epoch 7\n",
      " train loss: 1.1603246946875312, train acc: 0.5962433077299617\n",
      " val loss: 1.1608113973698717, val acc: 0.591533688027808\n",
      "\n",
      "Epoch 8\n",
      " train loss: 1.125558709531641, train acc: 0.6107828415508026\n",
      " val loss: 1.1187736645657966, val acc: 0.6110593972053934\n",
      "\n",
      "Epoch 9\n",
      " train loss: 1.090224944586292, train acc: 0.6216375033423931\n",
      " val loss: 1.0710880378459362, val acc: 0.6234485816448293\n",
      "\n",
      "Epoch 10\n",
      " train loss: 1.0426597812058067, train acc: 0.6425796553247372\n",
      " val loss: 1.043392484492444, val acc: 0.6406693263256803\n",
      "\n",
      "Epoch 11\n",
      " train loss: 1.0336192809249627, train acc: 0.6446730543534106\n",
      " val loss: 1.0411379880093514, val acc: 0.6390070922831271\n",
      "\n",
      "Epoch 12\n",
      " train loss: 1.0320146886914479, train acc: 0.646754211329019\n",
      " val loss: 1.0351874833411359, val acc: 0.6427304965384463\n",
      "\n",
      "Epoch 13\n",
      " train loss: 1.026918032487524, train acc: 0.6485415579414019\n",
      " val loss: 1.0323609029993097, val acc: 0.6430629433469569\n",
      "\n",
      "Epoch 14\n",
      " train loss: 1.0241491233408997, train acc: 0.6495331679445299\n",
      " val loss: 1.0289607169780326, val acc: 0.644503546268382\n",
      "\n",
      "Epoch 15\n",
      " train loss: 1.0175251094471167, train acc: 0.6519734265599434\n",
      " val loss: 1.0244140236935717, val acc: 0.6455895390916377\n",
      "\n",
      "Epoch 16\n",
      " train loss: 1.0165634368847667, train acc: 0.6499616414363031\n",
      " val loss: 1.0266169327370664, val acc: 0.6462544327086591\n",
      "\n",
      "Epoch 17\n",
      " train loss: 1.0175664772499196, train acc: 0.6507206516684301\n",
      " val loss: 1.0244660605775548, val acc: 0.6452570922831271\n",
      "\n",
      "Epoch 18\n",
      " train loss: 1.0166649154814766, train acc: 0.6528181313814585\n",
      " val loss: 1.0252923351653078, val acc: 0.6445257093044038\n",
      "\n",
      "Epoch 19\n",
      " train loss: 1.0157767210625643, train acc: 0.6515857600206867\n",
      " val loss: 1.0244596182031835, val acc: 0.6465203901554676\n",
      "\n"
     ]
    }
   ],
   "source": [
    "lr = 0.001\n",
    "net = BasicBlockNet().to(device)\n",
    "optimizer = optim.SGD(net.parameters(), lr=lr, momentum=0.9)\n",
    "scheduler = optim.lr_scheduler.MultiStepLR(optimizer, milestones=[10, 15], gamma=0.1)\n",
    "tr_loss_log, tr_acc_log, val_loss_log, val_acc_log = train(\n",
    "    net, optimizer, 20, train_loader, val_loader, scheduler\n",
    ")"
   ]
  },
  {
   "cell_type": "markdown",
   "metadata": {
    "id": "xVotU378O9Du",
    "pycharm": {
     "name": "#%% md\n"
    }
   },
   "source": [
    "**Задание 3.1 (1.5 балла).** Изучите, какие еще способы уменьшения длины шага представлены в <code>torch.optim.lr_scheduler</code>. Выберите несколько из них, объясните, как они устроены, и обучите модель с ними. Удалось ли добиться улучшения качества на тестовой выборке?"
   ]
  },
  {
   "cell_type": "markdown",
   "metadata": {},
   "source": [
    "Представленные способы можно объединить в группы:\n",
    "\n",
    " - **Шаговые**: StepLR, MultiStepLR, ExponentialLR, PolynomialLR, CosineAnnealingLR. Они уменьшают шаг по заранее заданным правилам, обычно через несколько эпох.\n",
    " \n",
    " - **Циклические**: CyclicLR, OneCycleLR изменяют learning rate по циклу или по графику, например как CosineAnnealingWarmRestarts\n",
    "\n",
    " - **Зависимые от метрики**: ReduceLROnPlateau изменяет шаг, отслеживая метрику.\n",
    "\n",
    " - **Дополнительная настройка**: LambdaLR, ChainedScheduler, SequentialLR позволяют задать функции или последовательность планировщиков с другими типами способов, которые будут вызываться последовательно в процессе оптимизации.\n"
   ]
  },
  {
   "cell_type": "markdown",
   "metadata": {},
   "source": [
    "Попробуем использовать ExponentialLR, CyclicLR и ReduceLROnPlateau"
   ]
  },
  {
   "cell_type": "markdown",
   "metadata": {
    "id": "nkGlzocOO9Du",
    "pycharm": {
     "name": "#%%\n"
    }
   },
   "source": [
    "**ExponentialLR**\n",
    "\n",
    "- Уменьшает скорость обучения для каждой группы параметров на величину gamma в каждую эпоху.\n",
    "- lr_epoch = gamma * lr_(epoch-1)\n",
    "- Плавно уменьшает learning rate. Однако он не адаптивен и следую вручную подбирать gamma"
   ]
  },
  {
   "cell_type": "code",
   "execution_count": 103,
   "metadata": {},
   "outputs": [
    {
     "name": "stdout",
     "output_type": "stream",
     "text": [
      "Epoch 0\n",
      " train loss: 1.4829384201841338, train acc: 0.4676237268683244\n",
      " val loss: 1.2623736891340702, val acc: 0.5565824468085107\n",
      "\n",
      "Epoch 1\n",
      " train loss: 1.1576568314318683, train acc: 0.5930889266282593\n",
      " val loss: 1.148706685989461, val acc: 0.5952570922831272\n",
      "\n",
      "Epoch 2\n",
      " train loss: 1.0359442587090584, train acc: 0.6384744711724234\n",
      " val loss: 1.0851842347611773, val acc: 0.6251773050490846\n",
      "\n",
      "Epoch 3\n",
      " train loss: 0.9816170313022691, train acc: 0.6576088731206096\n",
      " val loss: 1.0384690378574615, val acc: 0.6394281914893617\n",
      "\n",
      "Epoch 4\n",
      " train loss: 0.9356469409557322, train acc: 0.6744540024283163\n",
      " val loss: 1.0206657640477443, val acc: 0.6419769505237011\n",
      "\n",
      "Epoch 5\n",
      " train loss: 0.904651449084064, train acc: 0.6873530948183872\n",
      " val loss: 0.9384845495223999, val acc: 0.6744237590343394\n",
      "\n",
      "Epoch 6\n",
      " train loss: 0.8763025912985724, train acc: 0.6969386589810442\n",
      " val loss: 0.9444206831303049, val acc: 0.6745789007937655\n",
      "\n",
      "Epoch 7\n",
      " train loss: 0.8557320859902956, train acc: 0.7025047336897423\n",
      " val loss: 0.9268285388642169, val acc: 0.6798093973322118\n",
      "\n",
      "Epoch 8\n",
      " train loss: 0.8342653138110145, train acc: 0.7122698486178187\n",
      " val loss: 0.8901045205745292, val acc: 0.6934175531914893\n",
      "\n",
      "Epoch 9\n",
      " train loss: 0.8199615548254149, train acc: 0.7154038260798131\n",
      " val loss: 0.9402103548354291, val acc: 0.6798093973322118\n",
      "\n",
      "Epoch 10\n",
      " train loss: 0.8040157846929387, train acc: 0.7204679747604147\n",
      " val loss: 0.9053314662994223, val acc: 0.6842420212765957\n",
      "\n",
      "Epoch 11\n",
      " train loss: 0.7916824137162028, train acc: 0.7256708671449525\n",
      " val loss: 0.8506493383265556, val acc: 0.7074689718002969\n",
      "\n",
      "Epoch 12\n",
      " train loss: 0.7736439052730854, train acc: 0.7324897166361974\n",
      " val loss: 0.8859327151420269, val acc: 0.6972739361702127\n",
      "\n",
      "Epoch 13\n",
      " train loss: 0.7635700297856898, train acc: 0.7377619809816699\n",
      " val loss: 0.8470875592941933, val acc: 0.7129654255319149\n",
      "\n",
      "Epoch 14\n",
      " train loss: 0.7541310716372739, train acc: 0.7395166820102461\n",
      " val loss: 0.8586174898959221, val acc: 0.7080895390916377\n",
      "\n",
      "Epoch 15\n",
      " train loss: 0.7485572769829298, train acc: 0.7423078806788219\n",
      " val loss: 0.8509368391747171, val acc: 0.7095744680851064\n",
      "\n",
      "Epoch 16\n",
      " train loss: 0.7331594891260486, train acc: 0.7444176025538819\n",
      " val loss: 0.8372221936570837, val acc: 0.7134751773895102\n",
      "\n",
      "Epoch 17\n",
      " train loss: 0.7270391087100536, train acc: 0.7491756987092264\n",
      " val loss: 0.845277132125611, val acc: 0.7122118795171697\n",
      "\n",
      "Epoch 18\n",
      " train loss: 0.7188528839914193, train acc: 0.7513425503831895\n",
      " val loss: 0.8376227703500301, val acc: 0.7166001773895101\n",
      "\n",
      "Epoch 19\n",
      " train loss: 0.7122261387447553, train acc: 0.7551171977951496\n",
      " val loss: 0.835541068239415, val acc: 0.7175088654173182\n",
      "\n",
      "Точность c ExponentialLR: 0.7073\n",
      "\n"
     ]
    }
   ],
   "source": [
    "lr = 0.1\n",
    "net = BasicBlockNet().to(device)\n",
    "optimizer = optim.SGD(net.parameters(), lr=lr, momentum=0.9)\n",
    "scheduler = torch.optim.lr_scheduler.ExponentialLR(optimizer, gamma=0.9)\n",
    "tr_loss_log, tr_acc_log, val_loss_log, val_acc_log = train(\n",
    "    net, optimizer, 20, train_loader, val_loader, scheduler\n",
    ")\n",
    "test_loss, test_acc = test(net, test_loader)\n",
    "print(f\"Точность c ExponentialLR: {test_acc:.4f}\\n\")"
   ]
  },
  {
   "cell_type": "markdown",
   "metadata": {},
   "source": [
    "**CyclicLR**\n",
    "\n",
    "- Циклические изменяет learning rate с возможностью разных видов цикла (triangular, triangular2, exp_range) triangular: линейно возрастает до максимального lr и затем падает. triangular2: также линейно возрастает, но каждый следующий цикл в 2 раза ниже. В exp_range максимальное значе6ние lr экспоненциально уменьшается с каждым циклом.\n",
    "- Помогает выйти из локальных минимумов\n",
    "- Имеет слишком много параметров для настройки"
   ]
  },
  {
   "cell_type": "code",
   "execution_count": 106,
   "metadata": {},
   "outputs": [
    {
     "name": "stdout",
     "output_type": "stream",
     "text": [
      "Epoch 0\n",
      " train loss: 2.359063073529622, train acc: 0.08982436668120965\n",
      " val loss: 2.317879308538234, val acc: 0.11214539009205839\n",
      "\n",
      "Epoch 1\n",
      " train loss: 2.274855221865164, train acc: 0.1439099634369287\n",
      " val loss: 2.2396135340345666, val acc: 0.17065602838993071\n",
      "\n",
      "Epoch 2\n",
      " train loss: 2.203089203215604, train acc: 0.1947350809844364\n",
      " val loss: 2.1677454978861705, val acc: 0.21597960997135082\n",
      "\n",
      "Epoch 3\n",
      " train loss: 2.135601633427566, train acc: 0.23864341212582982\n",
      " val loss: 2.099723251829756, val acc: 0.25638297872340426\n",
      "\n",
      "Epoch 4\n",
      " train loss: 2.075433107355177, train acc: 0.2734313789734675\n",
      " val loss: 2.041745524710797, val acc: 0.2899157801841168\n",
      "\n",
      "Epoch 5\n",
      " train loss: 2.023088891719769, train acc: 0.29810737141525506\n",
      " val loss: 1.991611235699755, val acc: 0.31316489361702127\n",
      "\n",
      "Epoch 6\n",
      " train loss: 1.9767106710447908, train acc: 0.3167602507571198\n",
      " val loss: 1.9482831660737383, val acc: 0.33091755319148936\n",
      "\n",
      "Epoch 7\n",
      " train loss: 1.9336820819042282, train acc: 0.3370127644682715\n",
      " val loss: 1.9048310300137135, val acc: 0.3475177305809995\n",
      "\n",
      "Epoch 8\n",
      " train loss: 1.8930107984943843, train acc: 0.3500546814100834\n",
      " val loss: 1.8632248969788248, val acc: 0.36035017738951014\n",
      "\n",
      "Epoch 9\n",
      " train loss: 1.8558693701431999, train acc: 0.36050943460935214\n",
      " val loss: 1.826506775490781, val acc: 0.37145390079376545\n",
      "\n",
      "Epoch 10\n",
      " train loss: 1.821352644637908, train acc: 0.3702215004228805\n",
      " val loss: 1.794027977801384, val acc: 0.38009751781504203\n",
      "\n",
      "Epoch 11\n",
      " train loss: 1.7883862233031167, train acc: 0.3797540154165062\n",
      " val loss: 1.7626571858182867, val acc: 0.3924423759287976\n",
      "\n",
      "Epoch 12\n",
      " train loss: 1.7562931383767555, train acc: 0.3911554910365145\n",
      " val loss: 1.7327600403034942, val acc: 0.4022828014607125\n",
      "\n",
      "Epoch 13\n",
      " train loss: 1.7276853824228429, train acc: 0.3997249608719807\n",
      " val loss: 1.7007649299946237, val acc: 0.411391844013904\n",
      "\n",
      "Epoch 14\n",
      " train loss: 1.6994249696487482, train acc: 0.40785371510812524\n",
      " val loss: 1.6782263025324395, val acc: 0.41901595744680853\n",
      "\n",
      "Epoch 15\n",
      " train loss: 1.674137068187079, train acc: 0.4166517041392039\n",
      " val loss: 1.6488966282377853, val acc: 0.4258865248649678\n",
      "\n",
      "Epoch 16\n",
      " train loss: 1.646616078817866, train acc: 0.42575982637989457\n",
      " val loss: 1.6234609446627029, val acc: 0.4369459220703612\n",
      "\n",
      "Epoch 17\n",
      " train loss: 1.6211700613799436, train acc: 0.435941172692196\n",
      " val loss: 1.600267722758841, val acc: 0.4453457446808511\n",
      "\n",
      "Epoch 18\n",
      " train loss: 1.5961859945405337, train acc: 0.44452288458072725\n",
      " val loss: 1.5769553377273235, val acc: 0.45527482273730824\n",
      "\n",
      "Epoch 19\n",
      " train loss: 1.570885352068453, train acc: 0.4522517302790333\n",
      " val loss: 1.5525473990338914, val acc: 0.4599290780564572\n",
      "\n",
      "Точность c CyclicLR: 0.4542\n",
      "\n"
     ]
    }
   ],
   "source": [
    "net = BasicBlockNet().to(device)\n",
    "optimizer = optim.SGD(net.parameters(), lr=lr, momentum=0.9)\n",
    "scheduler = torch.optim.lr_scheduler.CyclicLR(optimizer, base_lr=1e-5, max_lr=1e-2, step_size_up=2000)\n",
    "tr_loss_log, tr_acc_log, val_loss_log, val_acc_log = train(\n",
    "    net, optimizer, 20, train_loader, val_loader, scheduler\n",
    ")\n",
    "test_loss, test_acc = test(net, test_loader)\n",
    "print(f\"Точность c CyclicLR: {test_acc:.4f}\\n\")"
   ]
  },
  {
   "cell_type": "markdown",
   "metadata": {},
   "source": [
    "**ReduceLROnPlateau**\n",
    "\n",
    "- Работает адаптивно: когда метрика перестаетулучшаться, уменьшает lr в factor раз\n",
    "- Параметр patience указывает, сколько эпох ждать улучшения\n",
    "- Полезен, когда заранее непонятно, когда должно меняться lr"
   ]
  },
  {
   "cell_type": "code",
   "execution_count": 35,
   "metadata": {},
   "outputs": [
    {
     "name": "stdout",
     "output_type": "stream",
     "text": [
      "Epoch 0\n",
      " train loss: 1.47686104495521, train acc: 0.4741120397281821\n",
      " val loss: 1.3542470850843065, val acc: 0.5244459220703612\n",
      "\n",
      "Epoch 1\n",
      " train loss: 1.1552685200623227, train acc: 0.5945212522851919\n",
      " val loss: 1.1612578143464758, val acc: 0.5960106382978724\n",
      "\n",
      "Epoch 2\n",
      " train loss: 1.0556240598288054, train acc: 0.6308231588037619\n",
      " val loss: 1.010897403067731, val acc: 0.6439273050490846\n",
      "\n",
      "Epoch 3\n",
      " train loss: 0.9945346349663011, train acc: 0.6559521089524194\n",
      " val loss: 0.9812973273561356, val acc: 0.6642952127659575\n",
      "\n",
      "Epoch 4\n",
      " train loss: 0.9585031737357215, train acc: 0.6669006268110746\n",
      " val loss: 0.9763453473436071, val acc: 0.6579565603682336\n",
      "\n",
      "Epoch 5\n",
      " train loss: 0.9337022778538943, train acc: 0.6749722513027994\n",
      " val loss: 1.002427046349708, val acc: 0.6556959220703612\n",
      "\n",
      "Epoch 6\n",
      " train loss: 0.9071234919035457, train acc: 0.6849128363119401\n",
      " val loss: 0.9816589779042183, val acc: 0.6591533688788719\n",
      "\n",
      "Epoch 7\n",
      " train loss: 0.8830452803283985, train acc: 0.6918010577641196\n",
      " val loss: 0.9907114170967264, val acc: 0.6618572696726372\n",
      "\n",
      "Epoch 8\n",
      " train loss: 0.873645407299237, train acc: 0.6976242165678815\n",
      " val loss: 0.9500134326042013, val acc: 0.6731161348363186\n",
      "\n",
      "Epoch 9\n",
      " train loss: 0.8578791065887298, train acc: 0.7017171585581639\n",
      " val loss: 0.9519168818250615, val acc: 0.6662677305809995\n",
      "\n",
      "Epoch 10\n",
      " train loss: 0.8448079876751525, train acc: 0.7067935492918304\n",
      " val loss: 0.920832045281187, val acc: 0.6829343973322117\n",
      "\n",
      "Epoch 11\n",
      " train loss: 0.8305992188793649, train acc: 0.7112904805587894\n",
      " val loss: 0.9247899841754994, val acc: 0.6844636526513607\n",
      "\n",
      "Epoch 12\n",
      " train loss: 0.8172716091930103, train acc: 0.7180154740919361\n",
      " val loss: 0.8892209337112752, val acc: 0.6943262412192973\n",
      "\n",
      "Epoch 13\n",
      " train loss: 0.8091129469370275, train acc: 0.7186643054106118\n",
      " val loss: 0.8867817635231829, val acc: 0.69565602845334\n",
      "\n",
      "Epoch 14\n",
      " train loss: 0.801671389034069, train acc: 0.722720521023766\n",
      " val loss: 0.913562898179318, val acc: 0.6838652482692231\n",
      "\n",
      "Epoch 15\n",
      " train loss: 0.7923590694528612, train acc: 0.7249118569128257\n",
      " val loss: 0.8705941022710597, val acc: 0.7038563829787234\n",
      "\n",
      "Epoch 16\n",
      " train loss: 0.7814056284902736, train acc: 0.7278132346038191\n",
      " val loss: 0.8602531748883268, val acc: 0.7060505319148936\n",
      "\n",
      "Epoch 17\n",
      " train loss: 0.7715583379896293, train acc: 0.7343301123631284\n",
      " val loss: 0.9552402186901011, val acc: 0.6750221632896586\n",
      "\n",
      "Epoch 18\n",
      " train loss: 0.7701917626849041, train acc: 0.7314001697726834\n",
      " val loss: 0.8886397617928525, val acc: 0.703125\n",
      "\n",
      "Epoch 19\n",
      " train loss: 0.7598846750350932, train acc: 0.7355135152937071\n",
      " val loss: 0.8827613039219633, val acc: 0.7020390071767442\n",
      "\n",
      "Точность c ReduceLROnPlateau: 0.6907\n",
      "\n"
     ]
    }
   ],
   "source": [
    "lr = 0.1\n",
    "net = BasicBlockNet().to(device)\n",
    "optimizer = optim.SGD(net.parameters(), lr=lr, momentum=0.9)\n",
    "scheduler = torch.optim.lr_scheduler.ReduceLROnPlateau(optimizer, mode='min', factor=0.1, patience=5)\n",
    "\n",
    "tr_loss_log, tr_acc_log, val_loss_log, val_acc_log = train(\n",
    "    net, optimizer, 20, train_loader, val_loader, scheduler\n",
    ")\n",
    "test_loss, test_acc = test(net, test_loader)\n",
    "print(f\"Точность c ReduceLROnPlateau: {test_acc:.4f}\\n\")"
   ]
  },
  {
   "cell_type": "markdown",
   "metadata": {},
   "source": [
    "- Точность c ExponentialLR: 0.7073\n",
    "- Точность c CyclicLR: 0.4542\n",
    "- Точность c ReduceLROnPlateau: 0.6907\n",
    "\n",
    "ExponentialLR и ReduceLROnPlateau показали примерно одинаковую точность. ExponentialLR сам по себе хорошо работает, т.к. плавно снижает скорость обучения. ReduceLROnPlateau снижает lr только, если метрика перестает улучшаться. CyclicLR показал самую низкую точность, т.к. lr начинает скакать при неудачно подобранных максимального и минимального значений."
   ]
  },
  {
   "cell_type": "markdown",
   "metadata": {
    "id": "7xFXgl_3_E--",
    "pycharm": {
     "name": "#%% md\n"
    }
   },
   "source": [
    "## 4. Аугментации данных (2 балла)"
   ]
  },
  {
   "cell_type": "markdown",
   "metadata": {
    "id": "5G0Easo9O9Du",
    "pycharm": {
     "name": "#%% md\n"
    }
   },
   "source": [
    "Еще одной стандартной техникой, применяющейся в глубинном обучении, а особенно часто в компьютерном зрении, являются аугментации данных. Суть аугментаций состоит в том, что мы можем некоторым синтетическим образом видоизменять объекты обучающей выборки, тем самым расширяя ее, а также делая итоговую модель более устойчивой к таким изменениям.\n",
    "\n",
    "Простейшая аугментация, которую можно применить к картинкам — разворот картинки по горизонтальной оси. То есть при обучении модели с вероятностью $0.5$ мы будем разворачивать картинку из обучающей выборки."
   ]
  },
  {
   "cell_type": "code",
   "execution_count": 28,
   "metadata": {
    "id": "SzeFpgtfO9Du",
    "pycharm": {
     "name": "#%%\n"
    }
   },
   "outputs": [
    {
     "data": {
      "image/png": "[encoded data removed]",
      "text/plain": [
       "<Figure size 640x480 with 1 Axes>"
      ]
     },
     "metadata": {},
     "output_type": "display_data"
    },
    {
     "data": {
      "image/png": "[encoded data removed]",
      "text/plain": [
       "<Figure size 640x480 with 1 Axes>"
      ]
     },
     "metadata": {},
     "output_type": "display_data"
    }
   ],
   "source": [
    "dataiter = iter(train_loader)\n",
    "images, labels = next(dataiter)\n",
    "\n",
    "imshow(torchvision.utils.make_grid(images[:4]))\n",
    "\n",
    "imshow(torchvision.utils.make_grid(transforms.functional.hflip(images[:4])))"
   ]
  },
  {
   "cell_type": "markdown",
   "metadata": {
    "id": "BR4a-XJQO9Du",
    "pycharm": {
     "name": "#%% md\n"
    }
   },
   "source": [
    "Наиболее удобным способом работы с аугментациями в PyTorch является их задание в списке <code>transforms</code>, который затем передается в загрузчик данных. Обучим нашу сеть, применяя горизонтальные повороты:"
   ]
  },
  {
   "cell_type": "code",
   "execution_count": 30,
   "metadata": {
    "id": "na0ScBf-_AqX",
    "pycharm": {
     "name": "#%%\n"
    },
    "scrolled": true
   },
   "outputs": [
    {
     "name": "stdout",
     "output_type": "stream",
     "text": [
      "Epoch 0\n",
      " train loss: 1.4826644181769335, train acc: 0.4710678376488973\n",
      " val loss: 1.289723694831767, val acc: 0.5388519503968827\n",
      "\n",
      "Epoch 1\n",
      " train loss: 1.1780077038125103, train acc: 0.5889388548390739\n",
      " val loss: 1.118623952662691, val acc: 0.6102615249917862\n",
      "\n",
      "Epoch 2\n",
      " train loss: 1.0566626423237746, train acc: 0.6321861126087266\n",
      " val loss: 1.0407722148489444, val acc: 0.6401817377577437\n",
      "\n",
      "Epoch 3\n",
      " train loss: 0.9988560702726653, train acc: 0.6546258815245829\n",
      " val loss: 0.9675577488351376, val acc: 0.6648936170212766\n",
      "\n",
      "Epoch 4\n",
      " train loss: 0.9548345269189238, train acc: 0.6683043875685558\n",
      " val loss: 0.9767148203038155, val acc: 0.6570478723404255\n",
      "\n",
      "Epoch 5\n",
      " train loss: 0.9226366430793428, train acc: 0.6785918321644366\n",
      " val loss: 0.9240001967612733, val acc: 0.6734929079705096\n",
      "\n",
      "Epoch 6\n",
      " train loss: 0.9044546096481832, train acc: 0.6861778532565185\n",
      " val loss: 0.927173768966756, val acc: 0.67788120584285\n",
      "\n",
      "Epoch 7\n",
      " train loss: 0.8875040769359094, train acc: 0.6924090820213122\n",
      " val loss: 0.8722011315061691, val acc: 0.6985593973322117\n",
      "\n",
      "Epoch 8\n",
      " train loss: 0.872665923190945, train acc: 0.6973508096264311\n",
      " val loss: 0.9046148919044656, val acc: 0.6931072696726372\n",
      "\n",
      "Epoch 9\n",
      " train loss: 0.8572608791496026, train acc: 0.7018681444241316\n",
      " val loss: 0.9105813756902167, val acc: 0.6902482271194458\n",
      "\n",
      "Epoch 10\n",
      " train loss: 0.7633960671464094, train acc: 0.7371090689786391\n",
      " val loss: 0.7908146106182261, val acc: 0.73125\n",
      "\n",
      "Epoch 11\n",
      " train loss: 0.7479388794471838, train acc: 0.7411979303935328\n",
      " val loss: 0.785014737540103, val acc: 0.7332668441407224\n",
      "\n",
      "Epoch 12\n",
      " train loss: 0.740992803623733, train acc: 0.7451358057245258\n",
      " val loss: 0.7847837903398148, val acc: 0.7324246454746165\n",
      "\n",
      "Epoch 13\n",
      " train loss: 0.7340099641566302, train acc: 0.7458417668421046\n",
      " val loss: 0.776415937251233, val acc: 0.7323581561129144\n",
      "\n",
      "Epoch 14\n",
      " train loss: 0.732292163579076, train acc: 0.7464457104149422\n",
      " val loss: 0.7744013173783079, val acc: 0.7343528369639782\n",
      "\n",
      "Epoch 15\n",
      " train loss: 0.7205441388722094, train acc: 0.7531054126715093\n",
      " val loss: 0.7671986688958837, val acc: 0.7368794327086591\n",
      "\n",
      "Epoch 16\n",
      " train loss: 0.7169163093597405, train acc: 0.7535053212638311\n",
      " val loss: 0.7665205585195664, val acc: 0.737876773134191\n",
      "\n",
      "Epoch 17\n",
      " train loss: 0.7153177004736564, train acc: 0.7533624967665733\n",
      " val loss: 0.7659239246490154, val acc: 0.7348404255319149\n",
      "\n",
      "Epoch 18\n",
      " train loss: 0.7157341633026081, train acc: 0.7521382867745116\n",
      " val loss: 0.7663442644667118, val acc: 0.7371010638297872\n",
      "\n",
      "Epoch 19\n",
      " train loss: 0.7153060680878446, train acc: 0.7540439736690556\n",
      " val loss: 0.7657509817721996, val acc: 0.7382092199427016\n",
      "\n"
     ]
    }
   ],
   "source": [
    "transform = transforms.Compose(\n",
    "    [\n",
    "        transforms.RandomHorizontalFlip(),\n",
    "        transforms.ToTensor(),\n",
    "        transforms.Normalize((0.5, 0.5, 0.5), (0.5, 0.5, 0.5)),\n",
    "    ]\n",
    ")\n",
    "\n",
    "train_loader, val_loader, test_loader = get_cifar10_data(\n",
    "    batch_size=64, transform_train=transform\n",
    ")\n",
    "\n",
    "net = BasicBlockNet().to(device)\n",
    "optimizer = optim.SGD(net.parameters(), lr=0.1, momentum=0.9)\n",
    "scheduler = optim.lr_scheduler.MultiStepLR(optimizer, milestones=[10, 15], gamma=0.1)\n",
    "tr_loss_log, tr_acc_log, val_loss_log, val_acc_log = train(\n",
    "    net, optimizer, 20, train_loader, val_loader, scheduler\n",
    ")"
   ]
  },
  {
   "cell_type": "markdown",
   "metadata": {
    "id": "v3ZIqDQqO9Dv",
    "pycharm": {
     "name": "#%% md\n"
    }
   },
   "source": [
    "Посчитайте точность на тестовой выборке:"
   ]
  },
  {
   "cell_type": "code",
   "execution_count": 33,
   "metadata": {
    "id": "nNJizMkM_Auh",
    "pycharm": {
     "name": "#%%\n"
    }
   },
   "outputs": [
    {
     "name": "stdout",
     "output_type": "stream",
     "text": [
      "Точность на тесте RandomHorizontalFlip: 0.7311\n",
      "\n"
     ]
    }
   ],
   "source": [
    "test_loss, test_acc = test(net, test_loader)\n",
    "print(f\"Точность на тесте RandomHorizontalFlip: {test_acc:.4f}\\n\")"
   ]
  },
  {
   "cell_type": "markdown",
   "metadata": {
    "id": "KndehSCHO9Dv",
    "pycharm": {
     "name": "#%% md\n"
    }
   },
   "source": [
    "**Задание 4.1 (2 балла).** Изучите, какие еще способы аугментаций изображений представлены в <code>torchvision.transforms</code>. Выберите несколько из них, объясните, как они устроены, и обучите модель с ними (по отдельности и вместе). Удалось ли добиться улучшения качества на тестовой выборке?"
   ]
  },
  {
   "cell_type": "markdown",
   "metadata": {
    "id": "Np4rgvdZ_QRF",
    "pycharm": {
     "name": "#%%\n"
    }
   },
   "source": [
    "Попробуем слуедующие трансформации и их объединение:\n",
    "\n",
    "- **RandomAffine**: случайная аффинная трансформация. Такие аугментации помогают модели стать устойчивее к незначительным искажениям\n",
    "\n",
    "- **GaussianBlur**: гауссово размытие изображения. Может помочь игнорировать незначительные детали и соседотачиваться на крупных объектах\n",
    "\n",
    "- **ColorJitter**: случайное изменение яркости, контрастности, оттенка изображения. Такие аугментации помогают модели стать устойчивее изменениям освещения или цветов"
   ]
  },
  {
   "cell_type": "code",
   "execution_count": 36,
   "metadata": {},
   "outputs": [
    {
     "name": "stdout",
     "output_type": "stream",
     "text": [
      "Epoch 0\n",
      " train loss: 1.6719842547690411, train acc: 0.39486076659650643\n",
      " val loss: 1.4937079576735801, val acc: 0.4610150710065314\n",
      "\n",
      "Epoch 1\n",
      " train loss: 1.4281203398103035, train acc: 0.49005941499085925\n",
      " val loss: 1.3474658509518238, val acc: 0.5166888297872341\n",
      "\n",
      "Epoch 2\n",
      " train loss: 1.306234922225994, train acc: 0.532592550274223\n",
      " val loss: 1.3078595866548255, val acc: 0.5449689716734785\n",
      "\n",
      "Epoch 3\n",
      " train loss: 1.242895088422451, train acc: 0.5601127906081009\n",
      " val loss: 1.2009874265244667, val acc: 0.5808953901554675\n",
      "\n",
      "Epoch 4\n",
      " train loss: 1.1975031668350944, train acc: 0.5757051450242944\n",
      " val loss: 1.2505308564673079, val acc: 0.5687943263256804\n",
      "\n",
      "Epoch 5\n",
      " train loss: 1.160178258824392, train acc: 0.5918483938987774\n",
      " val loss: 1.171917132367479, val acc: 0.5888962765957447\n",
      "\n",
      "Epoch 6\n",
      " train loss: 1.1487599815049598, train acc: 0.5952843432016739\n",
      " val loss: 1.2046303868293762, val acc: 0.5764627659574468\n",
      "\n",
      "Epoch 7\n",
      " train loss: 1.1268458710728007, train acc: 0.5995731588037619\n",
      " val loss: 1.1563430413286737, val acc: 0.589561170212766\n",
      "\n",
      "Epoch 8\n",
      " train loss: 1.1198148797155516, train acc: 0.6065797206470692\n",
      " val loss: 1.1267524539156164, val acc: 0.6062721632896586\n",
      "\n",
      "Epoch 9\n",
      " train loss: 1.092050186785745, train acc: 0.6187687712352062\n",
      " val loss: 1.1278950556795648, val acc: 0.6092420212765958\n",
      "\n",
      "Epoch 10\n",
      " train loss: 1.0035862457381741, train acc: 0.6471133129688242\n",
      " val loss: 1.0170736766876058, val acc: 0.6458554965384463\n",
      "\n",
      "Epoch 11\n",
      " train loss: 0.9865644940292595, train acc: 0.6549890637397766\n",
      " val loss: 1.0094956113937052, val acc: 0.64878102845334\n",
      "\n",
      "Epoch 12\n",
      " train loss: 0.9858564681065366, train acc: 0.6543687974295189\n",
      " val loss: 1.007995649347914, val acc: 0.6481382978723405\n",
      "\n",
      "Epoch 13\n",
      " train loss: 0.9767443534443104, train acc: 0.6598899843923789\n",
      " val loss: 0.995999395340047, val acc: 0.6564273050490846\n",
      "\n",
      "Epoch 14\n",
      " train loss: 0.9769276182220012, train acc: 0.661542667876214\n",
      " val loss: 0.9980335588150836, val acc: 0.6562943263256803\n",
      "\n",
      "Epoch 15\n",
      " train loss: 0.9624083305843569, train acc: 0.6607591734289905\n",
      " val loss: 0.9834032188070582, val acc: 0.6573138297872341\n",
      "\n",
      "Epoch 16\n",
      " train loss: 0.9541232739549669, train acc: 0.6674760054844607\n",
      " val loss: 0.9977382000456465, val acc: 0.6531471632896586\n",
      "\n",
      "Epoch 17\n",
      " train loss: 0.9615414575205424, train acc: 0.6635666950529193\n",
      " val loss: 0.9784321163563018, val acc: 0.6591976952045522\n",
      "\n",
      "Epoch 18\n",
      " train loss: 0.9567796596661347, train acc: 0.6632892074271137\n",
      " val loss: 0.9776899365668601, val acc: 0.6615691489361702\n",
      "\n",
      "Epoch 19\n",
      " train loss: 0.9565415683132639, train acc: 0.6691654153454238\n",
      " val loss: 0.9772126527542764, val acc: 0.6611702127659574\n",
      "\n",
      "Точность на тесте RandomAffine: 0.6988\n",
      "\n"
     ]
    }
   ],
   "source": [
    "# RandomAffine\n",
    "transform_rotation = transforms.Compose(\n",
    "    [\n",
    "        transforms.RandomAffine(degrees=15, translate=(0.1, 0.1), scale=(0.6, 1.2)),\n",
    "        transforms.ToTensor(),\n",
    "        transforms.Normalize((0.5, 0.5, 0.5), (0.5, 0.5, 0.5)),\n",
    "    ]\n",
    ")\n",
    "\n",
    "train_loader, val_loader, test_loader = get_cifar10_data(\n",
    "    batch_size=64, transform_train=transform_rotation\n",
    ")\n",
    "net = BasicBlockNet().to(device)\n",
    "optimizer = optim.SGD(net.parameters(), lr=0.1, momentum=0.9)\n",
    "scheduler = optim.lr_scheduler.MultiStepLR(optimizer, milestones=[10, 15], gamma=0.1)\n",
    "tr_loss_log, tr_acc_log, val_loss_log, val_acc_log = train(\n",
    "    net, optimizer, 20, train_loader, val_loader, scheduler\n",
    ")\n",
    "test_loss, test_acc = test(net, test_loader)\n",
    "print(f\"Точность на тесте RandomAffine: {test_acc:.4f}\\n\")"
   ]
  },
  {
   "cell_type": "code",
   "execution_count": 64,
   "metadata": {},
   "outputs": [
    {
     "name": "stdout",
     "output_type": "stream",
     "text": [
      "Epoch 0\n",
      " train loss: 1.5827289287961162, train acc: 0.43479857671413386\n",
      " val loss: 1.4578573876238883, val acc: 0.4783909574468085\n",
      "\n",
      "Epoch 1\n",
      " train loss: 1.338874685481, train acc: 0.5265408723838151\n",
      " val loss: 1.2543102388686322, val acc: 0.5543218085106383\n",
      "\n",
      "Epoch 2\n",
      " train loss: 1.242949113658403, train acc: 0.5631977997488687\n",
      " val loss: 1.1967601773586678, val acc: 0.5832003547790202\n",
      "\n",
      "Epoch 3\n",
      " train loss: 1.181557302610094, train acc: 0.5849642531309529\n",
      " val loss: 1.1582872388210703, val acc: 0.5920656029214251\n",
      "\n",
      "Epoch 4\n",
      " train loss: 1.143991782416809, train acc: 0.5984509663564413\n",
      " val loss: 1.1292039158496452, val acc: 0.604720744680851\n",
      "\n",
      "Epoch 5\n",
      " train loss: 1.1148110150855028, train acc: 0.6065225908481661\n",
      " val loss: 1.1209982496626834, val acc: 0.6031028369639783\n",
      "\n",
      "Epoch 6\n",
      " train loss: 1.0970574324266131, train acc: 0.6150634957841807\n",
      " val loss: 1.113798750461416, val acc: 0.609219858240574\n",
      "\n",
      "Epoch 7\n",
      " train loss: 1.0856097589027294, train acc: 0.6199032058445584\n",
      " val loss: 1.1226681552034743, val acc: 0.6063608156873824\n",
      "\n",
      "Epoch 8\n",
      " train loss: 1.0653769986285153, train acc: 0.6248122878658706\n",
      " val loss: 1.1312202435858707, val acc: 0.6052748228641267\n",
      "\n",
      "Epoch 9\n",
      " train loss: 1.0446743763561004, train acc: 0.6318392531309529\n",
      " val loss: 1.0793690212229465, val acc: 0.6249778369639782\n",
      "\n",
      "Epoch 10\n",
      " train loss: 0.9376931684108714, train acc: 0.6698183272394881\n",
      " val loss: 1.0003392232225297, val acc: 0.6467641845662543\n",
      "\n",
      "Epoch 11\n",
      " train loss: 0.9247629610886303, train acc: 0.6768289697671503\n",
      " val loss: 0.994603256722714, val acc: 0.6494459220703612\n",
      "\n",
      "Epoch 12\n",
      " train loss: 0.9204118933930475, train acc: 0.677220716990762\n",
      " val loss: 0.9911870672347698, val acc: 0.6505984042553191\n",
      "\n",
      "Epoch 13\n",
      " train loss: 0.9149029557840044, train acc: 0.6799629473381112\n",
      " val loss: 0.9869054472192805, val acc: 0.6564273050490846\n",
      "\n",
      "Epoch 14\n",
      " train loss: 0.9128642578011675, train acc: 0.6780082920133741\n",
      " val loss: 0.9867564102436633, val acc: 0.6522828015875309\n",
      "\n",
      "Epoch 15\n",
      " train loss: 0.8953365748390637, train acc: 0.6865859232175503\n",
      " val loss: 0.9780466635176476, val acc: 0.6584441489361702\n",
      "\n",
      "Epoch 16\n",
      " train loss: 0.8941724995590433, train acc: 0.6866144881170019\n",
      " val loss: 0.975936276608325, val acc: 0.6603501773895102\n",
      "\n",
      "Epoch 17\n",
      " train loss: 0.8908759173571082, train acc: 0.689642367567833\n",
      " val loss: 0.9763837936076712, val acc: 0.6615691489361702\n",
      "\n",
      "Epoch 18\n",
      " train loss: 0.8934778413127502, train acc: 0.6881610734807072\n",
      " val loss: 0.9797069085405228, val acc: 0.659064716481148\n",
      "\n",
      "Epoch 19\n",
      " train loss: 0.8938146522864563, train acc: 0.687234754536226\n",
      " val loss: 0.979402356705767, val acc: 0.6609264186088075\n",
      "\n",
      "Точность на тесте GaussianBlur: 0.6737\n",
      "\n"
     ]
    }
   ],
   "source": [
    "# GaussianBlur\n",
    "transform_color = transforms.Compose(\n",
    "    [\n",
    "        transforms.GaussianBlur(kernel_size=5, sigma=(0.1, 2.0)), \n",
    "        transforms.ToTensor(),\n",
    "        transforms.Normalize((0.5, 0.5, 0.5), (0.5, 0.5, 0.5)),\n",
    "    ]\n",
    ")\n",
    "\n",
    "\n",
    "train_loader, val_loader, test_loader = get_cifar10_data(\n",
    "    batch_size=64, transform_train=transform_color\n",
    ")\n",
    "net = BasicBlockNet().to(device)\n",
    "optimizer = optim.SGD(net.parameters(), lr=0.1, momentum=0.9)\n",
    "scheduler = optim.lr_scheduler.MultiStepLR(optimizer, milestones=[10, 15], gamma=0.1)\n",
    "tr_loss_log, tr_acc_log, val_loss_log, val_acc_log = train(\n",
    "    net, optimizer, 20, train_loader, val_loader, scheduler\n",
    ")\n",
    "test_loss, test_acc = test(net, test_loader)\n",
    "print(f\"Точность на тесте GaussianBlur: {test_acc:.4f}\\n\")"
   ]
  },
  {
   "cell_type": "code",
   "execution_count": 60,
   "metadata": {},
   "outputs": [
    {
     "name": "stdout",
     "output_type": "stream",
     "text": [
      "Epoch 0\n",
      " train loss: 1.5057142441189921, train acc: 0.4647631562388139\n",
      " val loss: 1.306890105947535, val acc: 0.5327570922831272\n",
      "\n",
      "Epoch 1\n",
      " train loss: 1.1952194646681902, train acc: 0.5826219313759254\n",
      " val loss: 1.1188296703582115, val acc: 0.6095523050490846\n",
      "\n",
      "Epoch 2\n",
      " train loss: 1.0787306515128783, train acc: 0.6259630452126428\n",
      " val loss: 1.062225900812352, val acc: 0.6388297872340426\n",
      "\n",
      "Epoch 3\n",
      " train loss: 1.0057285483620066, train acc: 0.6518183599006542\n",
      " val loss: 0.9973848870460024, val acc: 0.6569592199427017\n",
      "\n",
      "Epoch 4\n",
      " train loss: 0.9700926908409355, train acc: 0.6638482632541134\n",
      " val loss: 1.0048159571404154, val acc: 0.6507535461415636\n",
      "\n",
      "Epoch 5\n",
      " train loss: 0.9386399253194904, train acc: 0.6738623009085437\n",
      " val loss: 1.0187125145120823, val acc: 0.6456560284533399\n",
      "\n",
      "Epoch 6\n",
      " train loss: 0.9192336298647921, train acc: 0.6815340168079467\n",
      " val loss: 0.9455681359514277, val acc: 0.6723404255319149\n",
      "\n",
      "Epoch 7\n",
      " train loss: 0.9087026204226004, train acc: 0.6838804192473291\n",
      " val loss: 0.9582187315250965, val acc: 0.6728723404255319\n",
      "\n",
      "Epoch 8\n",
      " train loss: 0.8904426199208666, train acc: 0.691507247400894\n",
      " val loss: 0.9527419950099701, val acc: 0.671719858240574\n",
      "\n",
      "Epoch 9\n",
      " train loss: 0.8654309190823347, train acc: 0.6994768543478775\n",
      " val loss: 0.9223689979695259, val acc: 0.6872783688788718\n",
      "\n",
      "Epoch 10\n",
      " train loss: 0.7612398943473914, train acc: 0.7370682620261225\n",
      " val loss: 0.8399514147575865, val acc: 0.7142952127659574\n",
      "\n",
      "Epoch 11\n",
      " train loss: 0.7481927777448127, train acc: 0.7404307587926959\n",
      " val loss: 0.8370242552554353, val acc: 0.7133200355032657\n",
      "\n",
      "Epoch 12\n",
      " train loss: 0.7430186606194463, train acc: 0.7436096240005284\n",
      " val loss: 0.8340166873120247, val acc: 0.713408688027808\n",
      "\n",
      "Epoch 13\n",
      " train loss: 0.7376371755569465, train acc: 0.7460458018226205\n",
      " val loss: 0.8334650737174014, val acc: 0.7166001773895101\n",
      "\n",
      "Epoch 14\n",
      " train loss: 0.7344617093938796, train acc: 0.7490532776337437\n",
      " val loss: 0.8294537521423178, val acc: 0.7144725178150421\n",
      "\n",
      "Epoch 15\n",
      " train loss: 0.7205767020773844, train acc: 0.7506325085812556\n",
      " val loss: 0.8242051862655801, val acc: 0.7187943263256803\n",
      "\n",
      "Epoch 16\n",
      " train loss: 0.7174657775017635, train acc: 0.7534237072498314\n",
      " val loss: 0.8270683159219457, val acc: 0.7193262412192973\n",
      "\n",
      "Epoch 17\n",
      " train loss: 0.7173934026435699, train acc: 0.7547295312558929\n",
      " val loss: 0.8249406505138316, val acc: 0.7164007093044038\n",
      "\n",
      "Epoch 18\n",
      " train loss: 0.7166979611464784, train acc: 0.7525055497830268\n",
      " val loss: 0.823218113437612, val acc: 0.7188386525245423\n",
      "\n",
      "Epoch 19\n",
      " train loss: 0.717025933960892, train acc: 0.7526116480121229\n",
      " val loss: 0.8224048363401535, val acc: 0.7147606382978723\n",
      "\n",
      "Точность на тесте ColorJitter: 0.7178\n",
      "\n"
     ]
    }
   ],
   "source": [
    "# ColorJitter\n",
    "transform_color = transforms.Compose(\n",
    "    [\n",
    "        transforms.ColorJitter(\n",
    "            brightness=0.2, contrast=0.2, saturation=0.2\n",
    "        ), \n",
    "        transforms.ToTensor(),\n",
    "        transforms.Normalize((0.5, 0.5, 0.5), (0.5, 0.5, 0.5)),\n",
    "    ]\n",
    ")\n",
    "\n",
    "\n",
    "train_loader, val_loader, test_loader = get_cifar10_data(\n",
    "    batch_size=64, transform_train=transform_color\n",
    ")\n",
    "net = BasicBlockNet().to(device)\n",
    "optimizer = optim.SGD(net.parameters(), lr=0.1, momentum=0.9)\n",
    "scheduler = optim.lr_scheduler.MultiStepLR(optimizer, milestones=[10, 15], gamma=0.1)\n",
    "tr_loss_log, tr_acc_log, val_loss_log, val_acc_log = train(\n",
    "    net, optimizer, 20, train_loader, val_loader, scheduler\n",
    ")\n",
    "test_loss, test_acc = test(net, test_loader)\n",
    "print(f\"Точность на тесте ColorJitter: {test_acc:.4f}\\n\")"
   ]
  },
  {
   "cell_type": "code",
   "execution_count": 61,
   "metadata": {},
   "outputs": [
    {
     "name": "stdout",
     "output_type": "stream",
     "text": [
      "Epoch 0\n",
      " train loss: 1.759041481087805, train acc: 0.3647860081583752\n",
      " val loss: 1.6338761689815116, val acc: 0.4101285461415636\n",
      "\n",
      "Epoch 1\n",
      " train loss: 1.5856675175469799, train acc: 0.42898357927908193\n",
      " val loss: 1.579508617076468, val acc: 0.43277925531914896\n",
      "\n",
      "Epoch 2\n",
      " train loss: 1.5159266572547787, train acc: 0.4573770893339265\n",
      " val loss: 1.4955725867697534, val acc: 0.46079343975858483\n",
      "\n",
      "Epoch 3\n",
      " train loss: 1.4714418364181379, train acc: 0.47354482242350604\n",
      " val loss: 1.4494809810151446, val acc: 0.49375\n",
      "\n",
      "Epoch 4\n",
      " train loss: 1.4287723859659716, train acc: 0.48848426483666874\n",
      " val loss: 1.4147100342080947, val acc: 0.4984485816448293\n",
      "\n",
      "Epoch 5\n",
      " train loss: 1.393878273597801, train acc: 0.5076594737918547\n",
      " val loss: 1.4431832584928959, val acc: 0.48818705677986146\n",
      "\n",
      "Epoch 6\n",
      " train loss: 1.372167278033506, train acc: 0.5123196331412962\n",
      " val loss: 1.3619898567808435, val acc: 0.5086214539852548\n",
      "\n",
      "Epoch 7\n",
      " train loss: 1.3593336531187543, train acc: 0.51433141815597\n",
      " val loss: 1.3547810029476246, val acc: 0.5205452127659574\n",
      "\n",
      "Epoch 8\n",
      " train loss: 1.3388979013266904, train acc: 0.5232477474692099\n",
      " val loss: 1.3673069756081764, val acc: 0.52378102845334\n",
      "\n",
      "Epoch 9\n",
      " train loss: 1.3291411616684532, train acc: 0.5265775986519766\n",
      " val loss: 1.3199518495417655, val acc: 0.536923758907521\n",
      "\n",
      "Epoch 10\n",
      " train loss: 1.240201972411363, train acc: 0.5602678571584238\n",
      " val loss: 1.2245155182290584, val acc: 0.5670877659574468\n",
      "\n",
      "Epoch 11\n",
      " train loss: 1.218256497186978, train acc: 0.5654625881742515\n",
      " val loss: 1.2044962101794303, val acc: 0.5746232269926274\n",
      "\n",
      "Epoch 12\n",
      " train loss: 1.2179358522024626, train acc: 0.5705512209609832\n",
      " val loss: 1.2056469222332569, val acc: 0.5742464539852549\n",
      "\n",
      "Epoch 13\n",
      " train loss: 1.2130985834262924, train acc: 0.5680375098092465\n",
      " val loss: 1.1968357398154887, val acc: 0.5753989361702128\n",
      "\n",
      "Epoch 14\n",
      " train loss: 1.206383968075189, train acc: 0.5707022069359174\n",
      " val loss: 1.193595534689883, val acc: 0.5747118795171697\n",
      "\n",
      "Epoch 15\n",
      " train loss: 1.1980676667345944, train acc: 0.5778352703211295\n",
      " val loss: 1.1834076675962895, val acc: 0.5853723404255319\n",
      "\n",
      "Epoch 16\n",
      " train loss: 1.1935923109324802, train acc: 0.5795777291876743\n",
      " val loss: 1.1845318746059499, val acc: 0.5811613476022761\n",
      "\n",
      "Epoch 17\n",
      " train loss: 1.1924693304398377, train acc: 0.5757581941388424\n",
      " val loss: 1.1900665209648458, val acc: 0.5788120569066798\n",
      "\n",
      "Epoch 18\n",
      " train loss: 1.1858030632819292, train acc: 0.5817282581242172\n",
      " val loss: 1.1842853541069842, val acc: 0.5767730497299357\n",
      "\n",
      "Epoch 19\n",
      " train loss: 1.1878437037005938, train acc: 0.5798674588665448\n",
      " val loss: 1.1905375244769645, val acc: 0.5786790781832756\n",
      "\n",
      "Точность на тесте с комбинацией аугментаций 0.6397\n",
      "\n"
     ]
    }
   ],
   "source": [
    "# Комбинация всех \n",
    "transform_combined = transforms.Compose(\n",
    "    [\n",
    "        transforms.RandomHorizontalFlip(),\n",
    "        transforms.RandomAffine(degrees=15, translate=(0.1, 0.1), scale=(0.8, 1.2)),\n",
    "        transforms.GaussianBlur(kernel_size=5, sigma=(0.1, 2.0)),\n",
    "        transforms.ColorJitter(brightness=0.2, contrast=0.2, saturation=0.2),\n",
    "        transforms.ToTensor(),\n",
    "        transforms.Normalize((0.5, 0.5, 0.5), (0.5, 0.5, 0.5)),\n",
    "    ]\n",
    ")\n",
    "\n",
    "\n",
    "train_loader, val_loader, test_loader = get_cifar10_data(\n",
    "    batch_size=64, transform_train=transform_combined\n",
    ")\n",
    "net = BasicBlockNet().to(device)\n",
    "optimizer = optim.SGD(net.parameters(), lr=0.1, momentum=0.9)\n",
    "scheduler = optim.lr_scheduler.MultiStepLR(optimizer, milestones=[10, 15], gamma=0.1)\n",
    "tr_loss_log, tr_acc_log, val_loss_log, val_acc_log = train(\n",
    "    net, optimizer, 20, train_loader, val_loader, scheduler\n",
    ")\n",
    "test_loss, test_acc = test(net, test_loader)\n",
    "print(f\"Точность на тесте с комбинацией аугментаций {test_acc:.4f}\\n\")"
   ]
  },
  {
   "cell_type": "markdown",
   "metadata": {},
   "source": [
    "- Точность на тесте RandomAffine: 0.6988\n",
    "\n",
    "- Точность на тесте GaussianBlur: 0.6737\r\n",
    "\n",
    "- Точность на тесте ColorJitter: 0.7178\n",
    "\n",
    "- Точность на тесте  с комбинацией аугментаций 0.6397\n",
    "\n",
    "- Точность бейзлана на тесте: 0.6936\n",
    "\n",
    "Каждая из одиночных аугментаций показала улучшение по сравнению с базовым результатом. Наилучший эффект продемонстрировала аугментация ColorJitter (72%). Однако комбинация всех аугментаций дала худший результат. Возможно, увеличение количества эпох или выбор только двух аугментаций мог бы привести к лучшему результату."
   ]
  },
  {
   "cell_type": "markdown",
   "metadata": {
    "id": "HCENjLw5O9Dv",
    "pycharm": {
     "name": "#%% md\n"
    }
   },
   "source": [
    "## Бонус. Логирование в wandb (1 балл)"
   ]
  },
  {
   "cell_type": "markdown",
   "metadata": {
    "id": "xOyzc1mnO9Dv",
    "pycharm": {
     "name": "#%% md\n"
    }
   },
   "source": [
    "На практике специалиста по глубинному обучению часто встречаются ситуации, когда нейросеть учится на каком-то удаленном сервере. И обычно вам хочется отслеживать прогресс обучения, особенно когда время обучения модели исчисляется днями или неделями. Для таких целей существует несколько инструментов. Вероятно, самый популярный из них — [wandb](https://wandb.ai/site).\n",
    "\n",
    "Ваша задача состоит в том, чтобы разобраться как им пользоваться, и повторить задания 2.1 и 2.2 с его использованием. Обучение вы можете запускать в этом же ноутбуке, но теперь вам необходимо через wandb логировать значения функции потерь и точности на обучающей выборке и на валидационной. Результатом работы должны быть ваш код и публичная ссылка на страничку с графиками, идентичными графикам в задании 2.2.\n",
    "\n",
    "Если вас смущает, что WandB грозится забанить вас, то можете разобраться с любым его аналогом и приложить ссылку на аналог."
   ]
  },
  {
   "cell_type": "code",
   "execution_count": 48,
   "metadata": {
    "id": "m5gSTLAr_QS4",
    "pycharm": {
     "name": "#%%\n"
    }
   },
   "outputs": [
    {
     "data": {
      "text/html": [
       "Finishing previous runs because reinit is set to 'default'."
      ],
      "text/plain": [
       "<IPython.core.display.HTML object>"
      ]
     },
     "metadata": {},
     "output_type": "display_data"
    },
    {
     "data": {
      "text/html": [],
      "text/plain": [
       "<IPython.core.display.HTML object>"
      ]
     },
     "metadata": {},
     "output_type": "display_data"
    },
    {
     "data": {
      "text/html": [
       " View run <strong style=\"color:#cdcd00\">copper-thunder-5</strong> at: <a href='https://wandb.ai/ees-elena-hse/hse-dl/runs/bl0tgqzc' target=\"_blank\">https://wandb.ai/ees-elena-hse/hse-dl/runs/bl0tgqzc</a><br> View project at: <a href='https://wandb.ai/ees-elena-hse/hse-dl' target=\"_blank\">https://wandb.ai/ees-elena-hse/hse-dl</a><br>Synced 5 W&B file(s), 0 media file(s), 0 artifact file(s) and 0 other file(s)"
      ],
      "text/plain": [
       "<IPython.core.display.HTML object>"
      ]
     },
     "metadata": {},
     "output_type": "display_data"
    },
    {
     "data": {
      "text/html": [
       "Find logs at: <code>.\\wandb\\run-20250430_180353-bl0tgqzc\\logs</code>"
      ],
      "text/plain": [
       "<IPython.core.display.HTML object>"
      ]
     },
     "metadata": {},
     "output_type": "display_data"
    },
    {
     "data": {
      "text/html": [
       "Tracking run with wandb version 0.19.10"
      ],
      "text/plain": [
       "<IPython.core.display.HTML object>"
      ]
     },
     "metadata": {},
     "output_type": "display_data"
    },
    {
     "data": {
      "text/html": [
       "Run data is saved locally in <code>C:\\Users\\Администратор\\Documents\\GitHub\\dl-course-hse-masters\\homeworks\\HW2\\wandb\\run-20250430_180453-vkyrtgx7</code>"
      ],
      "text/plain": [
       "<IPython.core.display.HTML object>"
      ]
     },
     "metadata": {},
     "output_type": "display_data"
    },
    {
     "data": {
      "text/html": [
       "Syncing run <strong><a href='https://wandb.ai/ees-elena-hse/hse-dl/runs/vkyrtgx7' target=\"_blank\">classic-smoke-6</a></strong> to <a href='https://wandb.ai/ees-elena-hse/hse-dl' target=\"_blank\">Weights & Biases</a> (<a href='https://wandb.me/developer-guide' target=\"_blank\">docs</a>)<br>"
      ],
      "text/plain": [
       "<IPython.core.display.HTML object>"
      ]
     },
     "metadata": {},
     "output_type": "display_data"
    },
    {
     "data": {
      "text/html": [
       " View project at <a href='https://wandb.ai/ees-elena-hse/hse-dl' target=\"_blank\">https://wandb.ai/ees-elena-hse/hse-dl</a>"
      ],
      "text/plain": [
       "<IPython.core.display.HTML object>"
      ]
     },
     "metadata": {},
     "output_type": "display_data"
    },
    {
     "data": {
      "text/html": [
       " View run at <a href='https://wandb.ai/ees-elena-hse/hse-dl/runs/vkyrtgx7' target=\"_blank\">https://wandb.ai/ees-elena-hse/hse-dl/runs/vkyrtgx7</a>"
      ],
      "text/plain": [
       "<IPython.core.display.HTML object>"
      ]
     },
     "metadata": {},
     "output_type": "display_data"
    },
    {
     "name": "stdout",
     "output_type": "stream",
     "text": [
      "Epoch 0\n",
      " loss(train): 1.483325601277883, acc(train): 0.471431019864091\n",
      " loss(val): 1.3162102039824142, acc(val): 0.5289450355032657\n",
      "\n",
      "Epoch 1\n",
      " loss(train): 1.1857722791718825, acc(train): 0.5818629211437986\n",
      " loss(val): 1.133833110586126, acc(val): 0.6099734042553191\n",
      "\n",
      "Epoch 2\n",
      " loss(train): 1.0638862912572062, acc(train): 0.6309782254630513\n",
      " loss(val): 1.074830733207946, acc(val): 0.627127659574468\n",
      "\n",
      "Epoch 3\n",
      " loss(train): 1.008647584065223, acc(train): 0.6498555433161733\n",
      " loss(val): 1.0141639501490491, acc(val): 0.6405363476022761\n",
      "\n",
      "Epoch 4\n",
      " loss(train): 0.9696922283721798, acc(train): 0.6649296487489174\n",
      " loss(val): 0.9287987348881174, acc(val): 0.6817597518575952\n",
      "\n",
      "Epoch 5\n",
      " loss(train): 0.9331607766299622, acc(train): 0.6770085205325697\n",
      " loss(val): 1.0071152451190544, acc(val): 0.6492021276595744\n",
      "\n",
      "Epoch 6\n",
      " loss(train): 0.9083111370067491, acc(train): 0.6827051776854604\n",
      " loss(val): 0.9460663605243602, acc(val): 0.6722739361702128\n",
      "\n",
      "Epoch 7\n",
      " loss(train): 0.8886368124315028, acc(train): 0.6923111452698926\n",
      " loss(val): 0.9412968262713006, acc(val): 0.6757313829787234\n",
      "\n",
      "Epoch 8\n",
      " loss(train): 0.8704211923278447, acc(train): 0.6980771742747515\n",
      " loss(val): 0.9210576009243092, acc(val): 0.6829787234042554\n",
      "\n",
      "Epoch 9\n",
      " loss(train): 0.8477499590168488, acc(train): 0.7036228454527079\n",
      " loss(val): 0.8827826177820246, acc(val): 0.6985815603682335\n",
      "\n",
      "Epoch 10\n",
      " loss(train): 0.8433752202137733, acc(train): 0.7048715396598663\n",
      " loss(val): 0.9020783163131552, acc(val): 0.6922872340425532\n",
      "\n",
      "Epoch 11\n",
      " loss(train): 0.8301664466613825, acc(train): 0.7094704884715665\n",
      " loss(val): 0.9125779770790262, acc(val): 0.6864140071767442\n",
      "\n",
      "Epoch 12\n",
      " loss(train): 0.8124928713062781, acc(train): 0.7175788391224863\n",
      " loss(val): 0.9104611985226895, acc(val): 0.690093085106383\n",
      "\n",
      "Epoch 13\n",
      " loss(train): 0.8046796218895607, acc(train): 0.7194355576958037\n",
      " loss(val): 0.8688262772052846, acc(val): 0.7007535462683819\n",
      "\n",
      "Epoch 14\n",
      " loss(train): 0.7951349910804951, acc(train): 0.725401540887857\n",
      " loss(val): 0.8957183115025784, acc(val): 0.691378546268382\n",
      "\n",
      "Epoch 15\n",
      " loss(train): 0.7836186894006224, acc(train): 0.7264870070670161\n",
      " loss(val): 0.8866911472158229, acc(val): 0.7009530143534883\n",
      "\n",
      "Epoch 16\n",
      " loss(train): 0.7788825706873341, acc(train): 0.7279723818384969\n",
      " loss(val): 0.861822299754366, acc(val): 0.7036125888215735\n",
      "\n",
      "Epoch 17\n",
      " loss(train): 0.7658874132079659, acc(train): 0.7329916427732603\n",
      " loss(val): 0.8822382087403156, acc(val): 0.7021941489361702\n",
      "\n",
      "Epoch 18\n",
      " loss(train): 0.762955155189556, acc(train): 0.7333466637287105\n",
      " loss(val): 0.8523040256601699, acc(val): 0.7113696808510638\n",
      "\n",
      "Epoch 19\n",
      " loss(train): 0.7470985004845223, acc(train): 0.7421650561815641\n",
      " loss(val): 0.8322916808280539, acc(val): 0.7167774824385947\n",
      "\n"
     ]
    },
    {
     "data": {
      "text/html": [],
      "text/plain": [
       "<IPython.core.display.HTML object>"
      ]
     },
     "metadata": {},
     "output_type": "display_data"
    },
    {
     "data": {
      "text/html": [
       "<br>    <style><br>        .wandb-row {<br>            display: flex;<br>            flex-direction: row;<br>            flex-wrap: wrap;<br>            justify-content: flex-start;<br>            width: 100%;<br>        }<br>        .wandb-col {<br>            display: flex;<br>            flex-direction: column;<br>            flex-basis: 100%;<br>            flex: 1;<br>            padding: 10px;<br>        }<br>    </style><br><div class=\"wandb-row\"><div class=\"wandb-col\"><h3>Run history:</h3><br/><table class=\"wandb\"><tr><td>epoch</td><td>▁▁▂▂▂▃▃▄▄▄▅▅▅▆▆▇▇▇██</td></tr><tr><td>train_accuracy</td><td>▁▄▅▆▆▆▆▇▇▇▇▇▇▇██████</td></tr><tr><td>train_loss</td><td>█▅▄▃▃▃▃▂▂▂▂▂▂▂▁▁▁▁▁▁</td></tr><tr><td>val_accuracy</td><td>▁▄▅▅▇▅▆▆▇▇▇▇▇▇▇▇█▇██</td></tr><tr><td>val_loss</td><td>█▅▅▄▂▄▃▃▂▂▂▂▂▂▂▂▁▂▁▁</td></tr></table><br/></div><div class=\"wandb-col\"><h3>Run summary:</h3><br/><table class=\"wandb\"><tr><td>epoch</td><td>19</td></tr><tr><td>train_accuracy</td><td>0.74217</td></tr><tr><td>train_loss</td><td>0.7471</td></tr><tr><td>val_accuracy</td><td>0.71678</td></tr><tr><td>val_loss</td><td>0.83229</td></tr></table><br/></div></div>"
      ],
      "text/plain": [
       "<IPython.core.display.HTML object>"
      ]
     },
     "metadata": {},
     "output_type": "display_data"
    },
    {
     "data": {
      "text/html": [
       " View run <strong style=\"color:#cdcd00\">classic-smoke-6</strong> at: <a href='https://wandb.ai/ees-elena-hse/hse-dl/runs/vkyrtgx7' target=\"_blank\">https://wandb.ai/ees-elena-hse/hse-dl/runs/vkyrtgx7</a><br> View project at: <a href='https://wandb.ai/ees-elena-hse/hse-dl' target=\"_blank\">https://wandb.ai/ees-elena-hse/hse-dl</a><br>Synced 5 W&B file(s), 0 media file(s), 0 artifact file(s) and 0 other file(s)"
      ],
      "text/plain": [
       "<IPython.core.display.HTML object>"
      ]
     },
     "metadata": {},
     "output_type": "display_data"
    },
    {
     "data": {
      "text/html": [
       "Find logs at: <code>.\\wandb\\run-20250430_180453-vkyrtgx7\\logs</code>"
      ],
      "text/plain": [
       "<IPython.core.display.HTML object>"
      ]
     },
     "metadata": {},
     "output_type": "display_data"
    }
   ],
   "source": [
    "import wandb\n",
    "\n",
    "wandb.init(project=\"hse-dl\", entity=\"ees-elena-hse\")\n",
    "\n",
    "def test(model, loader):\n",
    "    loss_log = []\n",
    "    acc_log = []\n",
    "    model.eval()\n",
    "\n",
    "    with torch.no_grad():\n",
    "        for data, target in loader:\n",
    "            data, target = data.to(device), target.to(device)\n",
    "            \n",
    "            y_pred = model(data)\n",
    "            loss = F.cross_entropy(y_pred, target)\n",
    "            \n",
    "            loss_log.append(loss.item())\n",
    "            \n",
    "            pred_classes = y_pred.argmax(dim=1)\n",
    "            acc = (pred_classes == target).float().mean()\n",
    "            acc_log.append(acc.item())\n",
    "\n",
    "    return np.mean(loss_log), np.mean(acc_log)\n",
    "\n",
    "\n",
    "def train_epoch(model, optimizer, train_loader):\n",
    "    loss_log = []\n",
    "    acc_log = []\n",
    "    model.train()\n",
    "\n",
    "    for data, target in train_loader:\n",
    "        data, target = data.to(device), target.to(device)\n",
    "\n",
    "        y_pred = model(data)\n",
    "        loss = F.cross_entropy(y_pred, target)\n",
    "        loss.backward()\n",
    "        optimizer.step()       \n",
    "        optimizer.zero_grad()\n",
    "        \n",
    "        loss_log.append(loss.item())\n",
    "        \n",
    "        pred_classes = y_pred.argmax(dim=1)\n",
    "        acc = (pred_classes == target).float().mean()\n",
    "        acc_log.append(acc.item())\n",
    "        \n",
    "    return loss_log, acc_log\n",
    "\n",
    "\n",
    "\n",
    "def train(model, optimizer, num_epochs, train_loader, val_loader, scheduler=None):\n",
    "    all_train_loss_values, all_train_accuracy_values = [], []\n",
    "    all_val_loss_values, all_val_accuracy_values = [], []\n",
    "\n",
    "    for epoch in range(num_epochs):\n",
    "        train_loss, train_accuracy = train_epoch(model, optimizer, train_loader)\n",
    "        val_loss, val_accuracy = test(model, val_loader)\n",
    "\n",
    "        all_train_loss_values.extend(train_loss)\n",
    "        all_train_accuracy_values.extend(train_accuracy)\n",
    "\n",
    "        all_val_loss_values.append(val_loss)\n",
    "        all_val_accuracy_values.append(val_accuracy)\n",
    "\n",
    "        wandb.log({\n",
    "            \"train_loss\": np.mean(train_loss),\n",
    "            \"train_accuracy\": np.mean(train_accuracy),\n",
    "            \"val_loss\": val_loss,\n",
    "            \"val_accuracy\": val_accuracy,\n",
    "            \"epoch\": epoch\n",
    "        })\n",
    "\n",
    "        print(f\"Epoch {epoch}\")\n",
    "        print(f\" loss(train): {np.mean(train_loss)}, acc(train): {np.mean(train_accuracy)}\")\n",
    "        print(f\" loss(val): {val_loss}, acc(val): {val_accuracy}\\n\")\n",
    "\n",
    "        if scheduler is not None:\n",
    "            if isinstance(scheduler, optim.lr_scheduler.ReduceLROnPlateau):\n",
    "                scheduler.step(val_loss)\n",
    "            else:\n",
    "                scheduler.step()\n",
    "\n",
    "    return all_train_loss_values, all_train_accuracy_values, all_val_loss_values, all_val_accuracy_values\n",
    "\n",
    "net = BasicBlockNet().to(device)\n",
    "optimizer = optim.SGD(net.parameters(), lr=0.1, momentum=0.9)\n",
    "scheduler = optim.lr_scheduler.MultiStepLR(optimizer, milestones=[10, 15], gamma=0.1)\n",
    "\n",
    "train_loss_log, train_acc_log, val_loss_log, val_acc_log = train(\n",
    "    net, optimizer, 20, train_loader, val_loader\n",
    ")\n",
    "\n",
    "\n",
    "wandb.finish()"
   ]
  },
  {
   "cell_type": "code",
   "execution_count": 52,
   "metadata": {},
   "outputs": [
    {
     "data": {
      "image/jpeg": "[encoded data removed]",
      "text/plain": [
       "<IPython.core.display.Image object>"
      ]
     },
     "execution_count": 52,
     "metadata": {},
     "output_type": "execute_result"
    }
   ],
   "source": [
    "from IPython.display import Image\n",
    "\n",
    "Image(filename='C:\\\\Users\\\\Администратор\\\\Desktop\\\\Снимок.JPG')"
   ]
  }
 ],
 "metadata": {
  "accelerator": "GPU",
  "colab": {
   "collapsed_sections": [],
   "provenance": []
  },
  "kernelspec": {
   "display_name": "Python 3 (ipykernel)",
   "language": "python",
   "name": "python3"
  },
  "language_info": {
   "codemirror_mode": {
    "name": "ipython",
    "version": 3
   },
   "file_extension": ".py",
   "mimetype": "text/x-python",
   "name": "python",
   "nbconvert_exporter": "python",
   "pygments_lexer": "ipython3",
   "version": "3.11.7"
  },
  "widgets": {
   "application/vnd.jupyter.widget-state+json": {
    "state": {
     "005bb39f0e4149199f4c6e8bd3ee21c9": {
      "model_module": "@jupyter-widgets/controls",
      "model_module_version": "2.0.0",
      "model_name": "FloatProgressModel",
      "state": {
       "layout": "IPY_MODEL_e58eb80ed5404c7faa7207adbb1ffd40",
       "max": 1,
       "style": "IPY_MODEL_6abf6250b8c9432f8bfeb95f77e99a11"
      }
     },
     "06ff905c172e4852906168d2cd5ab555": {
      "model_module": "@jupyter-widgets/controls",
      "model_module_version": "2.0.0",
      "model_name": "LabelStyleModel",
      "state": {
       "description_width": "",
       "font_family": null,
       "font_size": null,
       "font_style": null,
       "font_variant": null,
       "font_weight": null,
       "text_color": null,
       "text_decoration": null
      }
     },
     "0785ce5486b748ba80f0863509820c63": {
      "model_module": "@jupyter-widgets/base",
      "model_module_version": "2.0.0",
      "model_name": "LayoutModel",
      "state": {}
     },
     "0a4b059a1aaa4fb1aaebc57661d9e961": {
      "model_module": "@jupyter-widgets/base",
      "model_module_version": "2.0.0",
      "model_name": "LayoutModel",
      "state": {}
     },
     "0ca93d6e2cbd498c9450c96fe8f029bf": {
      "model_module": "@jupyter-widgets/base",
      "model_module_version": "2.0.0",
      "model_name": "LayoutModel",
      "state": {}
     },
     "0d104f4006ad41f083c1bbd8e4b94f5b": {
      "model_module": "@jupyter-widgets/controls",
      "model_module_version": "2.0.0",
      "model_name": "FloatProgressModel",
      "state": {
       "layout": "IPY_MODEL_98777155953941fca6cff79c65f6897a",
       "max": 1,
       "style": "IPY_MODEL_7a91ced7727a4db4961f9e2e4ac79de9"
      }
     },
     "14c0b7771a004a1fbaacbc3e8c1f91da": {
      "model_module": "@jupyter-widgets/controls",
      "model_module_version": "2.0.0",
      "model_name": "LabelStyleModel",
      "state": {
       "description_width": "",
       "font_family": null,
       "font_size": null,
       "font_style": null,
       "font_variant": null,
       "font_weight": null,
       "text_color": null,
       "text_decoration": null
      }
     },
     "1774846eb15242ca8e7dce76faee2e04": {
      "model_module": "@jupyter-widgets/base",
      "model_module_version": "2.0.0",
      "model_name": "LayoutModel",
      "state": {}
     },
     "177a190bd8dc44b79a79fd3110a8c51e": {
      "model_module": "@jupyter-widgets/controls",
      "model_module_version": "2.0.0",
      "model_name": "LabelStyleModel",
      "state": {
       "description_width": "",
       "font_family": null,
       "font_size": null,
       "font_style": null,
       "font_variant": null,
       "font_weight": null,
       "text_color": null,
       "text_decoration": null
      }
     },
     "1cbeab1d074f47be82dcfb63e0c991a6": {
      "model_module": "@jupyter-widgets/controls",
      "model_module_version": "2.0.0",
      "model_name": "LabelModel",
      "state": {
       "layout": "IPY_MODEL_f065effd173b443584ec7b988952a03e",
       "style": "IPY_MODEL_14c0b7771a004a1fbaacbc3e8c1f91da"
      }
     },
     "1cc23e8d80ab404085a31cf5e4f092ae": {
      "model_module": "@jupyter-widgets/controls",
      "model_module_version": "2.0.0",
      "model_name": "LabelStyleModel",
      "state": {
       "description_width": "",
       "font_family": null,
       "font_size": null,
       "font_style": null,
       "font_variant": null,
       "font_weight": null,
       "text_color": null,
       "text_decoration": null
      }
     },
     "1dc828125b304900ac32fac7c829c4bb": {
      "model_module": "@jupyter-widgets/controls",
      "model_module_version": "2.0.0",
      "model_name": "LabelModel",
      "state": {
       "layout": "IPY_MODEL_dab27e2e93bd4f55b9bdbfaf96a04617",
       "style": "IPY_MODEL_f3109e08d1b94ed18ff2a5d17592d3d5"
      }
     },
     "22e6df72c54b488d9bf673aa0076ffd7": {
      "model_module": "@jupyter-widgets/base",
      "model_module_version": "2.0.0",
      "model_name": "LayoutModel",
      "state": {}
     },
     "235e9046f264450daa80933294216948": {
      "model_module": "@jupyter-widgets/controls",
      "model_module_version": "2.0.0",
      "model_name": "LabelModel",
      "state": {
       "layout": "IPY_MODEL_9b8949848272408f80e55883dc616908",
       "style": "IPY_MODEL_e64e105e972e4d5aa9c6b462010a7853"
      }
     },
     "2667affbf5e041a3be8b0cb2a4a9e8e6": {
      "model_module": "@jupyter-widgets/controls",
      "model_module_version": "2.0.0",
      "model_name": "LabelStyleModel",
      "state": {
       "description_width": "",
       "font_family": null,
       "font_size": null,
       "font_style": null,
       "font_variant": null,
       "font_weight": null,
       "text_color": null,
       "text_decoration": null
      }
     },
     "27a53cd7780f4f30a3ee26b460da7390": {
      "model_module": "@jupyter-widgets/controls",
      "model_module_version": "2.0.0",
      "model_name": "FloatProgressModel",
      "state": {
       "layout": "IPY_MODEL_c39b735c92314f6897b626ce5d2cffd8",
       "max": 1,
       "style": "IPY_MODEL_e0ec2cfc0630462cae8beea0176c06ce"
      }
     },
     "2a9078035cd54d4eb163444fb12f36b7": {
      "model_module": "@jupyter-widgets/controls",
      "model_module_version": "2.0.0",
      "model_name": "LabelStyleModel",
      "state": {
       "description_width": "",
       "font_family": null,
       "font_size": null,
       "font_style": null,
       "font_variant": null,
       "font_weight": null,
       "text_color": null,
       "text_decoration": null
      }
     },
     "2bae1f831a624e0d85ce183150aabfe9": {
      "model_module": "@jupyter-widgets/controls",
      "model_module_version": "2.0.0",
      "model_name": "ProgressStyleModel",
      "state": {
       "description_width": ""
      }
     },
     "2df9520f56994df89b505879b0fa891e": {
      "model_module": "@jupyter-widgets/controls",
      "model_module_version": "2.0.0",
      "model_name": "FloatProgressModel",
      "state": {
       "layout": "IPY_MODEL_8a05cb373045467a9f386712d856eefb",
       "max": 1,
       "style": "IPY_MODEL_ac5245d87d1c4c5599f4ec84a1dcdf75"
      }
     },
     "350d4ee1e18d4d20b88ec9e7d0a14669": {
      "model_module": "@jupyter-widgets/base",
      "model_module_version": "2.0.0",
      "model_name": "LayoutModel",
      "state": {}
     },
     "3978dca72e134c89b8550bfcad51f6e1": {
      "model_module": "@jupyter-widgets/controls",
      "model_module_version": "2.0.0",
      "model_name": "LabelModel",
      "state": {
       "layout": "IPY_MODEL_3d46a4f86ff5419f8edbab80c7fbb5d9",
       "style": "IPY_MODEL_2a9078035cd54d4eb163444fb12f36b7"
      }
     },
     "39998f06748c48f89d3b7e9e8fc1a5f9": {
      "model_module": "@jupyter-widgets/controls",
      "model_module_version": "2.0.0",
      "model_name": "LabelModel",
      "state": {
       "layout": "IPY_MODEL_7f745855c1954a3b963e7125f57ee9a2",
       "style": "IPY_MODEL_177a190bd8dc44b79a79fd3110a8c51e"
      }
     },
     "3b3dfdbb9f694ba59c685b5f29ad3f74": {
      "model_module": "@jupyter-widgets/controls",
      "model_module_version": "2.0.0",
      "model_name": "ProgressStyleModel",
      "state": {
       "description_width": ""
      }
     },
     "3c302e4ccfbf4614994e784f0e9817b0": {
      "model_module": "@jupyter-widgets/base",
      "model_module_version": "2.0.0",
      "model_name": "LayoutModel",
      "state": {}
     },
     "3d46a4f86ff5419f8edbab80c7fbb5d9": {
      "model_module": "@jupyter-widgets/base",
      "model_module_version": "2.0.0",
      "model_name": "LayoutModel",
      "state": {}
     },
     "3e00055ff5f046b7b5669b0bd6aac9ff": {
      "model_module": "@jupyter-widgets/controls",
      "model_module_version": "2.0.0",
      "model_name": "VBoxModel",
      "state": {
       "children": [
        "IPY_MODEL_7ea173d3c0de4414874aed4f42480e56",
        "IPY_MODEL_a0ccdbf2c03b42d2b3a9fc5a0fbc7341"
       ],
       "layout": "IPY_MODEL_6f4c8a027c8e49e1ae6ea2ca65f09cf3"
      }
     },
     "3e0322eb9e29487daf9b9366212bd0b8": {
      "model_module": "@jupyter-widgets/controls",
      "model_module_version": "2.0.0",
      "model_name": "VBoxModel",
      "state": {
       "children": [
        "IPY_MODEL_fd46f84a3cd04f078fe70723cd153e6c",
        "IPY_MODEL_b444c9f4b94a4f6d92a76df279b867d0"
       ],
       "layout": "IPY_MODEL_a474ad9b13394651967b7f4f40060051"
      }
     },
     "3f9a3e9faeb34374b37b95c87e8769ab": {
      "model_module": "@jupyter-widgets/controls",
      "model_module_version": "2.0.0",
      "model_name": "LabelModel",
      "state": {
       "layout": "IPY_MODEL_0785ce5486b748ba80f0863509820c63",
       "style": "IPY_MODEL_e4edd140703443e6a75f367f63c2181d"
      }
     },
     "3fca7be8fbd74be5b20fc7349180f888": {
      "model_module": "@jupyter-widgets/controls",
      "model_module_version": "2.0.0",
      "model_name": "FloatProgressModel",
      "state": {
       "layout": "IPY_MODEL_626abae72f8a4bfc8679487a12c88437",
       "max": 1,
       "style": "IPY_MODEL_3b3dfdbb9f694ba59c685b5f29ad3f74"
      }
     },
     "3fe714c33a764b78933bea33ee7eb0a7": {
      "model_module": "@jupyter-widgets/base",
      "model_module_version": "2.0.0",
      "model_name": "LayoutModel",
      "state": {}
     },
     "42776e13a38446648c3676689cba3426": {
      "model_module": "@jupyter-widgets/controls",
      "model_module_version": "2.0.0",
      "model_name": "VBoxModel",
      "state": {
       "children": [
        "IPY_MODEL_a16a8609b7924024895be4465bbcd3ab",
        "IPY_MODEL_0d104f4006ad41f083c1bbd8e4b94f5b"
       ],
       "layout": "IPY_MODEL_9fd76c328fe840cbafc6a8b108f6150e"
      }
     },
     "43aae5d7c7aa46e9b7a5d521b2bbd1e4": {
      "model_module": "@jupyter-widgets/controls",
      "model_module_version": "2.0.0",
      "model_name": "LabelStyleModel",
      "state": {
       "description_width": "",
       "font_family": null,
       "font_size": null,
       "font_style": null,
       "font_variant": null,
       "font_weight": null,
       "text_color": null,
       "text_decoration": null
      }
     },
     "447badfff7584fdfb97771127a7141aa": {
      "model_module": "@jupyter-widgets/controls",
      "model_module_version": "2.0.0",
      "model_name": "LabelStyleModel",
      "state": {
       "description_width": "",
       "font_family": null,
       "font_size": null,
       "font_style": null,
       "font_variant": null,
       "font_weight": null,
       "text_color": null,
       "text_decoration": null
      }
     },
     "48dc29b588744c91815f630e5cfcffea": {
      "model_module": "@jupyter-widgets/base",
      "model_module_version": "2.0.0",
      "model_name": "LayoutModel",
      "state": {}
     },
     "4d43a136748e43d98a75e3820f186c9a": {
      "model_module": "@jupyter-widgets/controls",
      "model_module_version": "2.0.0",
      "model_name": "VBoxModel",
      "state": {
       "children": [
        "IPY_MODEL_3978dca72e134c89b8550bfcad51f6e1",
        "IPY_MODEL_fb83ae92a13f4b229b4868ebf735ac8b"
       ],
       "layout": "IPY_MODEL_f03702220e2c43a49120cc3b3408f0f7"
      }
     },
     "573a6ae6d79946c7a91022145d002b82": {
      "model_module": "@jupyter-widgets/controls",
      "model_module_version": "2.0.0",
      "model_name": "VBoxModel",
      "state": {
       "children": [
        "IPY_MODEL_ff3979717c8c4f24bd9423d5c1b877d2",
        "IPY_MODEL_005bb39f0e4149199f4c6e8bd3ee21c9"
       ],
       "layout": "IPY_MODEL_9e96649647c04a418553587609294503"
      }
     },
     "5d5bb764260f48878701026438ad2284": {
      "model_module": "@jupyter-widgets/controls",
      "model_module_version": "2.0.0",
      "model_name": "LabelModel",
      "state": {
       "layout": "IPY_MODEL_7f2af411979849cda7f19247871efae5",
       "style": "IPY_MODEL_d04c4501806c43ae9d536c974c72260e"
      }
     },
     "5fcbfb200e2f4c00b0d6659ceeae91fe": {
      "model_module": "@jupyter-widgets/base",
      "model_module_version": "2.0.0",
      "model_name": "LayoutModel",
      "state": {}
     },
     "623ce7e51a82499184cd69b3fb7dabbb": {
      "model_module": "@jupyter-widgets/base",
      "model_module_version": "2.0.0",
      "model_name": "LayoutModel",
      "state": {}
     },
     "624566d89e214f41b2a92c67b7058536": {
      "model_module": "@jupyter-widgets/base",
      "model_module_version": "2.0.0",
      "model_name": "LayoutModel",
      "state": {}
     },
     "626abae72f8a4bfc8679487a12c88437": {
      "model_module": "@jupyter-widgets/base",
      "model_module_version": "2.0.0",
      "model_name": "LayoutModel",
      "state": {}
     },
     "6404ed8678a746f78d06c30eac2ced99": {
      "model_module": "@jupyter-widgets/base",
      "model_module_version": "2.0.0",
      "model_name": "LayoutModel",
      "state": {}
     },
     "66956806a906419bbe5519e435e4d765": {
      "model_module": "@jupyter-widgets/base",
      "model_module_version": "2.0.0",
      "model_name": "LayoutModel",
      "state": {}
     },
     "6abf6250b8c9432f8bfeb95f77e99a11": {
      "model_module": "@jupyter-widgets/controls",
      "model_module_version": "2.0.0",
      "model_name": "ProgressStyleModel",
      "state": {
       "description_width": ""
      }
     },
     "6c564ef23ce3495682320b35a14b6ca3": {
      "model_module": "@jupyter-widgets/controls",
      "model_module_version": "2.0.0",
      "model_name": "VBoxModel",
      "state": {
       "children": [
        "IPY_MODEL_1cbeab1d074f47be82dcfb63e0c991a6",
        "IPY_MODEL_88db8d812518432093baf8ddf2e34658"
       ],
       "layout": "IPY_MODEL_48dc29b588744c91815f630e5cfcffea"
      }
     },
     "6d839225316543babd150304b6c9b1b3": {
      "model_module": "@jupyter-widgets/controls",
      "model_module_version": "2.0.0",
      "model_name": "VBoxModel",
      "state": {
       "children": [
        "IPY_MODEL_b3af549ab3d94d8f81c8ffdedf333264",
        "IPY_MODEL_e956f8e080c042eb8788f90618a9b2a5"
       ],
       "layout": "IPY_MODEL_ee0151a43a2749ada1d8ed51a8c4b46b"
      }
     },
     "6f4c8a027c8e49e1ae6ea2ca65f09cf3": {
      "model_module": "@jupyter-widgets/base",
      "model_module_version": "2.0.0",
      "model_name": "LayoutModel",
      "state": {}
     },
     "7a91ced7727a4db4961f9e2e4ac79de9": {
      "model_module": "@jupyter-widgets/controls",
      "model_module_version": "2.0.0",
      "model_name": "ProgressStyleModel",
      "state": {
       "description_width": ""
      }
     },
     "7ea173d3c0de4414874aed4f42480e56": {
      "model_module": "@jupyter-widgets/controls",
      "model_module_version": "2.0.0",
      "model_name": "LabelModel",
      "state": {
       "layout": "IPY_MODEL_d50375a071d641b4baf57704bc283fa3",
       "style": "IPY_MODEL_06ff905c172e4852906168d2cd5ab555"
      }
     },
     "7f2af411979849cda7f19247871efae5": {
      "model_module": "@jupyter-widgets/base",
      "model_module_version": "2.0.0",
      "model_name": "LayoutModel",
      "state": {}
     },
     "7f745855c1954a3b963e7125f57ee9a2": {
      "model_module": "@jupyter-widgets/base",
      "model_module_version": "2.0.0",
      "model_name": "LayoutModel",
      "state": {}
     },
     "88db8d812518432093baf8ddf2e34658": {
      "model_module": "@jupyter-widgets/controls",
      "model_module_version": "2.0.0",
      "model_name": "FloatProgressModel",
      "state": {
       "layout": "IPY_MODEL_df95410cfd4d42cda7ef385867a6db39",
       "max": 1,
       "style": "IPY_MODEL_bb5d45a5fd1d4a89ad8c62f9c94667b5"
      }
     },
     "8a05cb373045467a9f386712d856eefb": {
      "model_module": "@jupyter-widgets/base",
      "model_module_version": "2.0.0",
      "model_name": "LayoutModel",
      "state": {}
     },
     "8ee8718c93974b72ae24adba0bd11bc5": {
      "model_module": "@jupyter-widgets/base",
      "model_module_version": "2.0.0",
      "model_name": "LayoutModel",
      "state": {}
     },
     "8f6aeeb036394082a813963b7ce2a118": {
      "model_module": "@jupyter-widgets/controls",
      "model_module_version": "2.0.0",
      "model_name": "FloatProgressModel",
      "state": {
       "layout": "IPY_MODEL_623ce7e51a82499184cd69b3fb7dabbb",
       "max": 1,
       "style": "IPY_MODEL_2bae1f831a624e0d85ce183150aabfe9"
      }
     },
     "91e47bc55ea0454e9a3c75e51442aed7": {
      "model_module": "@jupyter-widgets/controls",
      "model_module_version": "2.0.0",
      "model_name": "ProgressStyleModel",
      "state": {
       "description_width": ""
      }
     },
     "94316b180e2b47318565bb641c48f20c": {
      "model_module": "@jupyter-widgets/controls",
      "model_module_version": "2.0.0",
      "model_name": "ProgressStyleModel",
      "state": {
       "description_width": ""
      }
     },
     "98777155953941fca6cff79c65f6897a": {
      "model_module": "@jupyter-widgets/base",
      "model_module_version": "2.0.0",
      "model_name": "LayoutModel",
      "state": {}
     },
     "993c9963bca94558b2519c19336d81a3": {
      "model_module": "@jupyter-widgets/controls",
      "model_module_version": "2.0.0",
      "model_name": "ProgressStyleModel",
      "state": {
       "description_width": ""
      }
     },
     "9b8949848272408f80e55883dc616908": {
      "model_module": "@jupyter-widgets/base",
      "model_module_version": "2.0.0",
      "model_name": "LayoutModel",
      "state": {}
     },
     "9e96649647c04a418553587609294503": {
      "model_module": "@jupyter-widgets/base",
      "model_module_version": "2.0.0",
      "model_name": "LayoutModel",
      "state": {}
     },
     "9fd76c328fe840cbafc6a8b108f6150e": {
      "model_module": "@jupyter-widgets/base",
      "model_module_version": "2.0.0",
      "model_name": "LayoutModel",
      "state": {}
     },
     "a0ccdbf2c03b42d2b3a9fc5a0fbc7341": {
      "model_module": "@jupyter-widgets/controls",
      "model_module_version": "2.0.0",
      "model_name": "FloatProgressModel",
      "state": {
       "layout": "IPY_MODEL_e719421f298f400fba7e690a8268df66",
       "max": 1,
       "style": "IPY_MODEL_fc9fd5355fc24e18ad073ba41d5e32bc"
      }
     },
     "a16a8609b7924024895be4465bbcd3ab": {
      "model_module": "@jupyter-widgets/controls",
      "model_module_version": "2.0.0",
      "model_name": "LabelModel",
      "state": {
       "layout": "IPY_MODEL_ede4a1f9f98945c59901f632d6676f2e",
       "style": "IPY_MODEL_1cc23e8d80ab404085a31cf5e4f092ae"
      }
     },
     "a474ad9b13394651967b7f4f40060051": {
      "model_module": "@jupyter-widgets/base",
      "model_module_version": "2.0.0",
      "model_name": "LayoutModel",
      "state": {}
     },
     "a4d17f63c368407e98873abfc7ad2f4e": {
      "model_module": "@jupyter-widgets/controls",
      "model_module_version": "2.0.0",
      "model_name": "ProgressStyleModel",
      "state": {
       "description_width": ""
      }
     },
     "a74f16516ded46e7a269f181f1c9df26": {
      "model_module": "@jupyter-widgets/controls",
      "model_module_version": "2.0.0",
      "model_name": "VBoxModel",
      "state": {
       "children": [
        "IPY_MODEL_235e9046f264450daa80933294216948",
        "IPY_MODEL_27a53cd7780f4f30a3ee26b460da7390"
       ],
       "layout": "IPY_MODEL_624566d89e214f41b2a92c67b7058536"
      }
     },
     "ac5245d87d1c4c5599f4ec84a1dcdf75": {
      "model_module": "@jupyter-widgets/controls",
      "model_module_version": "2.0.0",
      "model_name": "ProgressStyleModel",
      "state": {
       "description_width": ""
      }
     },
     "adfab87ebf6946339fe0ec72d86c2044": {
      "model_module": "@jupyter-widgets/base",
      "model_module_version": "2.0.0",
      "model_name": "LayoutModel",
      "state": {}
     },
     "b0803b2aadb74fe48d7859a1e965cb3f": {
      "model_module": "@jupyter-widgets/controls",
      "model_module_version": "2.0.0",
      "model_name": "VBoxModel",
      "state": {
       "children": [
        "IPY_MODEL_3f9a3e9faeb34374b37b95c87e8769ab",
        "IPY_MODEL_cb0e2b8e058146d29e0d0acfe7e25371"
       ],
       "layout": "IPY_MODEL_0a4b059a1aaa4fb1aaebc57661d9e961"
      }
     },
     "b307a593378249ef8d21fc0c0c1c33c9": {
      "model_module": "@jupyter-widgets/controls",
      "model_module_version": "2.0.0",
      "model_name": "VBoxModel",
      "state": {
       "children": [
        "IPY_MODEL_5d5bb764260f48878701026438ad2284",
        "IPY_MODEL_d6e08871f01142d69a8a22843044a3f8"
       ],
       "layout": "IPY_MODEL_d900777eb6de45e99276c438ffa43770"
      }
     },
     "b3af549ab3d94d8f81c8ffdedf333264": {
      "model_module": "@jupyter-widgets/controls",
      "model_module_version": "2.0.0",
      "model_name": "LabelModel",
      "state": {
       "layout": "IPY_MODEL_c223369ffd0e4b2db515b7399f0bfa17",
       "style": "IPY_MODEL_447badfff7584fdfb97771127a7141aa"
      }
     },
     "b444c9f4b94a4f6d92a76df279b867d0": {
      "model_module": "@jupyter-widgets/controls",
      "model_module_version": "2.0.0",
      "model_name": "FloatProgressModel",
      "state": {
       "layout": "IPY_MODEL_3c302e4ccfbf4614994e784f0e9817b0",
       "max": 1,
       "style": "IPY_MODEL_f65ca3b0161f4acf8822d48a0e26694f"
      }
     },
     "b48623eb4d124dd399e61910e7a12b5f": {
      "model_module": "@jupyter-widgets/controls",
      "model_module_version": "2.0.0",
      "model_name": "VBoxModel",
      "state": {
       "children": [
        "IPY_MODEL_39998f06748c48f89d3b7e9e8fc1a5f9",
        "IPY_MODEL_3fca7be8fbd74be5b20fc7349180f888"
       ],
       "layout": "IPY_MODEL_6404ed8678a746f78d06c30eac2ced99"
      }
     },
     "b5cb43f0329c4e0e8c8703fa69514a3e": {
      "model_module": "@jupyter-widgets/controls",
      "model_module_version": "2.0.0",
      "model_name": "VBoxModel",
      "state": {
       "children": [
        "IPY_MODEL_bd46791ae53f45ce90d70e90225d01ee",
        "IPY_MODEL_8f6aeeb036394082a813963b7ce2a118"
       ],
       "layout": "IPY_MODEL_0ca93d6e2cbd498c9450c96fe8f029bf"
      }
     },
     "b7e3c229d6eb44a2b0cc0be6a2b0fda1": {
      "model_module": "@jupyter-widgets/base",
      "model_module_version": "2.0.0",
      "model_name": "LayoutModel",
      "state": {}
     },
     "bb5d45a5fd1d4a89ad8c62f9c94667b5": {
      "model_module": "@jupyter-widgets/controls",
      "model_module_version": "2.0.0",
      "model_name": "ProgressStyleModel",
      "state": {
       "description_width": ""
      }
     },
     "bd0981e10c7346d8ae425841126619cd": {
      "model_module": "@jupyter-widgets/controls",
      "model_module_version": "2.0.0",
      "model_name": "LabelStyleModel",
      "state": {
       "description_width": "",
       "font_family": null,
       "font_size": null,
       "font_style": null,
       "font_variant": null,
       "font_weight": null,
       "text_color": null,
       "text_decoration": null
      }
     },
     "bd46791ae53f45ce90d70e90225d01ee": {
      "model_module": "@jupyter-widgets/controls",
      "model_module_version": "2.0.0",
      "model_name": "LabelModel",
      "state": {
       "layout": "IPY_MODEL_22e6df72c54b488d9bf673aa0076ffd7",
       "style": "IPY_MODEL_2667affbf5e041a3be8b0cb2a4a9e8e6"
      }
     },
     "c07cc84ac1754770a1b23ed76e2ad400": {
      "model_module": "@jupyter-widgets/controls",
      "model_module_version": "2.0.0",
      "model_name": "FloatProgressModel",
      "state": {
       "layout": "IPY_MODEL_dc56d42a46fe448da7e4ff220116182a",
       "max": 1,
       "style": "IPY_MODEL_94316b180e2b47318565bb641c48f20c"
      }
     },
     "c223369ffd0e4b2db515b7399f0bfa17": {
      "model_module": "@jupyter-widgets/base",
      "model_module_version": "2.0.0",
      "model_name": "LayoutModel",
      "state": {}
     },
     "c39b735c92314f6897b626ce5d2cffd8": {
      "model_module": "@jupyter-widgets/base",
      "model_module_version": "2.0.0",
      "model_name": "LayoutModel",
      "state": {}
     },
     "c40ff90ebf6d4e08943a06a4f07c67bf": {
      "model_module": "@jupyter-widgets/controls",
      "model_module_version": "2.0.0",
      "model_name": "VBoxModel",
      "state": {
       "children": [
        "IPY_MODEL_1dc828125b304900ac32fac7c829c4bb",
        "IPY_MODEL_c07cc84ac1754770a1b23ed76e2ad400"
       ],
       "layout": "IPY_MODEL_350d4ee1e18d4d20b88ec9e7d0a14669"
      }
     },
     "c54544ab16b54b639681dc2f7bf9b30b": {
      "model_module": "@jupyter-widgets/controls",
      "model_module_version": "2.0.0",
      "model_name": "LabelStyleModel",
      "state": {
       "description_width": "",
       "font_family": null,
       "font_size": null,
       "font_style": null,
       "font_variant": null,
       "font_weight": null,
       "text_color": null,
       "text_decoration": null
      }
     },
     "cb0e2b8e058146d29e0d0acfe7e25371": {
      "model_module": "@jupyter-widgets/controls",
      "model_module_version": "2.0.0",
      "model_name": "FloatProgressModel",
      "state": {
       "layout": "IPY_MODEL_adfab87ebf6946339fe0ec72d86c2044",
       "max": 1,
       "style": "IPY_MODEL_91e47bc55ea0454e9a3c75e51442aed7"
      }
     },
     "cfaa412ebae94956ac9c7922065d75dd": {
      "model_module": "@jupyter-widgets/controls",
      "model_module_version": "2.0.0",
      "model_name": "ProgressStyleModel",
      "state": {
       "description_width": ""
      }
     },
     "d04c4501806c43ae9d536c974c72260e": {
      "model_module": "@jupyter-widgets/controls",
      "model_module_version": "2.0.0",
      "model_name": "LabelStyleModel",
      "state": {
       "description_width": "",
       "font_family": null,
       "font_size": null,
       "font_style": null,
       "font_variant": null,
       "font_weight": null,
       "text_color": null,
       "text_decoration": null
      }
     },
     "d50375a071d641b4baf57704bc283fa3": {
      "model_module": "@jupyter-widgets/base",
      "model_module_version": "2.0.0",
      "model_name": "LayoutModel",
      "state": {}
     },
     "d6e08871f01142d69a8a22843044a3f8": {
      "model_module": "@jupyter-widgets/controls",
      "model_module_version": "2.0.0",
      "model_name": "FloatProgressModel",
      "state": {
       "layout": "IPY_MODEL_5fcbfb200e2f4c00b0d6659ceeae91fe",
       "max": 1,
       "style": "IPY_MODEL_993c9963bca94558b2519c19336d81a3"
      }
     },
     "d900777eb6de45e99276c438ffa43770": {
      "model_module": "@jupyter-widgets/base",
      "model_module_version": "2.0.0",
      "model_name": "LayoutModel",
      "state": {}
     },
     "dab27e2e93bd4f55b9bdbfaf96a04617": {
      "model_module": "@jupyter-widgets/base",
      "model_module_version": "2.0.0",
      "model_name": "LayoutModel",
      "state": {}
     },
     "dc56d42a46fe448da7e4ff220116182a": {
      "model_module": "@jupyter-widgets/base",
      "model_module_version": "2.0.0",
      "model_name": "LayoutModel",
      "state": {}
     },
     "df95410cfd4d42cda7ef385867a6db39": {
      "model_module": "@jupyter-widgets/base",
      "model_module_version": "2.0.0",
      "model_name": "LayoutModel",
      "state": {}
     },
     "e043ede14a60498ca1db04ac07aee647": {
      "model_module": "@jupyter-widgets/controls",
      "model_module_version": "2.0.0",
      "model_name": "VBoxModel",
      "state": {
       "children": [
        "IPY_MODEL_e3c83461c9f645768ff3ec971d5a4f47",
        "IPY_MODEL_2df9520f56994df89b505879b0fa891e"
       ],
       "layout": "IPY_MODEL_66956806a906419bbe5519e435e4d765"
      }
     },
     "e0ec2cfc0630462cae8beea0176c06ce": {
      "model_module": "@jupyter-widgets/controls",
      "model_module_version": "2.0.0",
      "model_name": "ProgressStyleModel",
      "state": {
       "description_width": ""
      }
     },
     "e3c83461c9f645768ff3ec971d5a4f47": {
      "model_module": "@jupyter-widgets/controls",
      "model_module_version": "2.0.0",
      "model_name": "LabelModel",
      "state": {
       "layout": "IPY_MODEL_b7e3c229d6eb44a2b0cc0be6a2b0fda1",
       "style": "IPY_MODEL_c54544ab16b54b639681dc2f7bf9b30b"
      }
     },
     "e40787e1a2744d128bd8dc9ebd53887f": {
      "model_module": "@jupyter-widgets/base",
      "model_module_version": "2.0.0",
      "model_name": "LayoutModel",
      "state": {}
     },
     "e4edd140703443e6a75f367f63c2181d": {
      "model_module": "@jupyter-widgets/controls",
      "model_module_version": "2.0.0",
      "model_name": "LabelStyleModel",
      "state": {
       "description_width": "",
       "font_family": null,
       "font_size": null,
       "font_style": null,
       "font_variant": null,
       "font_weight": null,
       "text_color": null,
       "text_decoration": null
      }
     },
     "e58eb80ed5404c7faa7207adbb1ffd40": {
      "model_module": "@jupyter-widgets/base",
      "model_module_version": "2.0.0",
      "model_name": "LayoutModel",
      "state": {}
     },
     "e64e105e972e4d5aa9c6b462010a7853": {
      "model_module": "@jupyter-widgets/controls",
      "model_module_version": "2.0.0",
      "model_name": "LabelStyleModel",
      "state": {
       "description_width": "",
       "font_family": null,
       "font_size": null,
       "font_style": null,
       "font_variant": null,
       "font_weight": null,
       "text_color": null,
       "text_decoration": null
      }
     },
     "e719421f298f400fba7e690a8268df66": {
      "model_module": "@jupyter-widgets/base",
      "model_module_version": "2.0.0",
      "model_name": "LayoutModel",
      "state": {}
     },
     "e956f8e080c042eb8788f90618a9b2a5": {
      "model_module": "@jupyter-widgets/controls",
      "model_module_version": "2.0.0",
      "model_name": "FloatProgressModel",
      "state": {
       "layout": "IPY_MODEL_8ee8718c93974b72ae24adba0bd11bc5",
       "max": 1,
       "style": "IPY_MODEL_cfaa412ebae94956ac9c7922065d75dd"
      }
     },
     "ede4a1f9f98945c59901f632d6676f2e": {
      "model_module": "@jupyter-widgets/base",
      "model_module_version": "2.0.0",
      "model_name": "LayoutModel",
      "state": {}
     },
     "ee0151a43a2749ada1d8ed51a8c4b46b": {
      "model_module": "@jupyter-widgets/base",
      "model_module_version": "2.0.0",
      "model_name": "LayoutModel",
      "state": {}
     },
     "f03702220e2c43a49120cc3b3408f0f7": {
      "model_module": "@jupyter-widgets/base",
      "model_module_version": "2.0.0",
      "model_name": "LayoutModel",
      "state": {}
     },
     "f065effd173b443584ec7b988952a03e": {
      "model_module": "@jupyter-widgets/base",
      "model_module_version": "2.0.0",
      "model_name": "LayoutModel",
      "state": {}
     },
     "f3109e08d1b94ed18ff2a5d17592d3d5": {
      "model_module": "@jupyter-widgets/controls",
      "model_module_version": "2.0.0",
      "model_name": "LabelStyleModel",
      "state": {
       "description_width": "",
       "font_family": null,
       "font_size": null,
       "font_style": null,
       "font_variant": null,
       "font_weight": null,
       "text_color": null,
       "text_decoration": null
      }
     },
     "f65ca3b0161f4acf8822d48a0e26694f": {
      "model_module": "@jupyter-widgets/controls",
      "model_module_version": "2.0.0",
      "model_name": "ProgressStyleModel",
      "state": {
       "description_width": ""
      }
     },
     "fb83ae92a13f4b229b4868ebf735ac8b": {
      "model_module": "@jupyter-widgets/controls",
      "model_module_version": "2.0.0",
      "model_name": "FloatProgressModel",
      "state": {
       "layout": "IPY_MODEL_e40787e1a2744d128bd8dc9ebd53887f",
       "max": 1,
       "style": "IPY_MODEL_a4d17f63c368407e98873abfc7ad2f4e"
      }
     },
     "fc9fd5355fc24e18ad073ba41d5e32bc": {
      "model_module": "@jupyter-widgets/controls",
      "model_module_version": "2.0.0",
      "model_name": "ProgressStyleModel",
      "state": {
       "description_width": ""
      }
     },
     "fd46f84a3cd04f078fe70723cd153e6c": {
      "model_module": "@jupyter-widgets/controls",
      "model_module_version": "2.0.0",
      "model_name": "LabelModel",
      "state": {
       "layout": "IPY_MODEL_3fe714c33a764b78933bea33ee7eb0a7",
       "style": "IPY_MODEL_43aae5d7c7aa46e9b7a5d521b2bbd1e4"
      }
     },
     "ff3979717c8c4f24bd9423d5c1b877d2": {
      "model_module": "@jupyter-widgets/controls",
      "model_module_version": "2.0.0",
      "model_name": "LabelModel",
      "state": {
       "layout": "IPY_MODEL_1774846eb15242ca8e7dce76faee2e04",
       "style": "IPY_MODEL_bd0981e10c7346d8ae425841126619cd"
      }
     }
    },
    "version_major": 2,
    "version_minor": 0
   }
  }
 },
 "nbformat": 4,
 "nbformat_minor": 4
}
