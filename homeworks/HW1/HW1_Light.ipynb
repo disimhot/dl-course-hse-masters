{
 "cells": [
  {
   "cell_type": "markdown",
   "id": "lonely-delta",
   "metadata": {
    "id": "lonely-delta",
    "pycharm": {
     "name": "#%% md\n"
    }
   },
   "source": [
    "# Глубинное обучение, ИИ ВШЭ\n",
    "\n",
    "## Домашнее задание 1. Полносвязные нейронные сети. \n",
    "\n",
    "### Общая информация\n",
    "\n",
    "### Оценивание и штрафы\n",
    "\n",
    "Максимально допустимая оценка за работу без бонусов — 10 баллов. Сдавать задание после указанного срока жесткого дедлайна нельзя.\n",
    "\n",
    "Сдача работы после мягкого дедлайна штрафуется ступенчато, -1 балл в сутки. Один раз за модуль студентам предоставляется возможность использовать отсрочку и сдать в жесткий дедлайн без штрафа.\n",
    "\n",
    "Задание выполняется самостоятельно. «Похожие» решения считаются плагиатом и все задействованные студенты (в том числе те, у кого списали) не могут получить за него больше 0 баллов. Если вы нашли решение какого-то из заданий (или его часть) в открытом источнике, необходимо указать ссылку на этот источник в отдельном блоке в конце вашей работы (скорее всего вы будете не единственным, кто это нашел, поэтому чтобы исключить подозрение в плагиате, необходима ссылка на источник).\n",
    "\n",
    "Неэффективная реализация кода может негативно отразиться на оценке. Также оценка может быть снижена за плохо читаемый код и плохо оформленные графики. Все ответы должны сопровождаться кодом или комментариями о том, как они были получены.\n",
    "\n",
    "Использование генеративных моделей допустимо на следующих условиях:\n",
    "- Количество кода, написанное генеративными моделями, не превышает 30%\n",
    "- Указана модель, использованная для генерации, а также промпт\n",
    "- В конце работы необходимо описать свой опыт использования генеративного ИИ для решения данного домашнего задания. Укажите как часто Вам приходилось исправлять код своими руками или просить модель что-то исправить. Было ли это быстрее, чем написать код самим? \n",
    "\n",
    "В случае невыполнения этих требований работа не оценивается и оценка за неё не превышает 0 баллов.\n",
    "\n",
    "### О задании\n",
    "\n",
    "В этом задании вам предстоит обучить полносвязную нейронную сеть для предсказания года выпуска песни по ее аудио-признакам. Для этого мы будем использовать [Million Songs Dataset](https://samyzaf.com/ML/song_year/song_year.html)."
   ]
  },
  {
   "cell_type": "code",
   "execution_count": 1,
   "id": "lonely-component",
   "metadata": {
    "id": "lonely-component",
    "pycharm": {
     "name": "#%%\n"
    }
   },
   "outputs": [],
   "source": [
    "import matplotlib.pyplot as plt\n",
    "import numpy as np\n",
    "import pandas as pd\n",
    "import seaborn as sns\n",
    "import torch\n",
    "import torchvision\n",
    "import torchvision.transforms as transforms\n",
    "from IPython.display import clear_output\n",
    "from sklearn.linear_model import Ridge\n",
    "from sklearn.metrics import mean_squared_error\n",
    "from sklearn.model_selection import train_test_split\n",
    "from sklearn.preprocessing import StandardScaler\n",
    "from torch import nn\n",
    "from torch.utils.data import DataLoader, TensorDataset\n",
    "from tqdm.notebook import tqdm\n",
    "\n",
    "plt.rcParams.update({\"font.size\": 16})\n",
    "sns.set_style(\"whitegrid\")\n",
    "np.random.seed(0xFA1AFE1)"
   ]
  },
  {
   "cell_type": "markdown",
   "id": "marine-logistics",
   "metadata": {
    "id": "marine-logistics"
   },
   "source": [
    "Начнем с того, что скачаем и загрузим данные:"
   ]
  },
  {
   "cell_type": "code",
   "execution_count": null,
   "id": "b68b1bff-db7a-4c2f-a942-89690be7c26d",
   "metadata": {},
   "outputs": [],
   "source": [
    "!wget -O data.txt.zip https://archive.ics.uci.edu/ml/machine-learning-databases/00203/YearPredictionMSD.txt.zip"
   ]
  },
  {
   "cell_type": "code",
   "execution_count": 2,
   "id": "welsh-heavy",
   "metadata": {
    "colab": {
     "base_uri": "https://localhost:8080/",
     "height": 488
    },
    "id": "welsh-heavy",
    "outputId": "a7a78c41-d42a-471f-b5ce-f573a39b10ee"
   },
   "outputs": [
    {
     "data": {
      "text/html": [
       "<div>\n",
       "<style scoped>\n",
       "    .dataframe tbody tr th:only-of-type {\n",
       "        vertical-align: middle;\n",
       "    }\n",
       "\n",
       "    .dataframe tbody tr th {\n",
       "        vertical-align: top;\n",
       "    }\n",
       "\n",
       "    .dataframe thead th {\n",
       "        text-align: right;\n",
       "    }\n",
       "</style>\n",
       "<table border=\"1\" class=\"dataframe\">\n",
       "  <thead>\n",
       "    <tr style=\"text-align: right;\">\n",
       "      <th></th>\n",
       "      <th>0</th>\n",
       "      <th>1</th>\n",
       "      <th>2</th>\n",
       "      <th>3</th>\n",
       "      <th>4</th>\n",
       "      <th>5</th>\n",
       "      <th>6</th>\n",
       "      <th>7</th>\n",
       "      <th>8</th>\n",
       "      <th>9</th>\n",
       "      <th>...</th>\n",
       "      <th>81</th>\n",
       "      <th>82</th>\n",
       "      <th>83</th>\n",
       "      <th>84</th>\n",
       "      <th>85</th>\n",
       "      <th>86</th>\n",
       "      <th>87</th>\n",
       "      <th>88</th>\n",
       "      <th>89</th>\n",
       "      <th>90</th>\n",
       "    </tr>\n",
       "  </thead>\n",
       "  <tbody>\n",
       "    <tr>\n",
       "      <th>0</th>\n",
       "      <td>2001</td>\n",
       "      <td>49.94357</td>\n",
       "      <td>21.47114</td>\n",
       "      <td>73.07750</td>\n",
       "      <td>8.74861</td>\n",
       "      <td>-17.40628</td>\n",
       "      <td>-13.09905</td>\n",
       "      <td>-25.01202</td>\n",
       "      <td>-12.23257</td>\n",
       "      <td>7.83089</td>\n",
       "      <td>...</td>\n",
       "      <td>13.01620</td>\n",
       "      <td>-54.40548</td>\n",
       "      <td>58.99367</td>\n",
       "      <td>15.37344</td>\n",
       "      <td>1.11144</td>\n",
       "      <td>-23.08793</td>\n",
       "      <td>68.40795</td>\n",
       "      <td>-1.82223</td>\n",
       "      <td>-27.46348</td>\n",
       "      <td>2.26327</td>\n",
       "    </tr>\n",
       "    <tr>\n",
       "      <th>1</th>\n",
       "      <td>2001</td>\n",
       "      <td>48.73215</td>\n",
       "      <td>18.42930</td>\n",
       "      <td>70.32679</td>\n",
       "      <td>12.94636</td>\n",
       "      <td>-10.32437</td>\n",
       "      <td>-24.83777</td>\n",
       "      <td>8.76630</td>\n",
       "      <td>-0.92019</td>\n",
       "      <td>18.76548</td>\n",
       "      <td>...</td>\n",
       "      <td>5.66812</td>\n",
       "      <td>-19.68073</td>\n",
       "      <td>33.04964</td>\n",
       "      <td>42.87836</td>\n",
       "      <td>-9.90378</td>\n",
       "      <td>-32.22788</td>\n",
       "      <td>70.49388</td>\n",
       "      <td>12.04941</td>\n",
       "      <td>58.43453</td>\n",
       "      <td>26.92061</td>\n",
       "    </tr>\n",
       "    <tr>\n",
       "      <th>2</th>\n",
       "      <td>2001</td>\n",
       "      <td>50.95714</td>\n",
       "      <td>31.85602</td>\n",
       "      <td>55.81851</td>\n",
       "      <td>13.41693</td>\n",
       "      <td>-6.57898</td>\n",
       "      <td>-18.54940</td>\n",
       "      <td>-3.27872</td>\n",
       "      <td>-2.35035</td>\n",
       "      <td>16.07017</td>\n",
       "      <td>...</td>\n",
       "      <td>3.03800</td>\n",
       "      <td>26.05866</td>\n",
       "      <td>-50.92779</td>\n",
       "      <td>10.93792</td>\n",
       "      <td>-0.07568</td>\n",
       "      <td>43.20130</td>\n",
       "      <td>-115.00698</td>\n",
       "      <td>-0.05859</td>\n",
       "      <td>39.67068</td>\n",
       "      <td>-0.66345</td>\n",
       "    </tr>\n",
       "    <tr>\n",
       "      <th>3</th>\n",
       "      <td>2001</td>\n",
       "      <td>48.24750</td>\n",
       "      <td>-1.89837</td>\n",
       "      <td>36.29772</td>\n",
       "      <td>2.58776</td>\n",
       "      <td>0.97170</td>\n",
       "      <td>-26.21683</td>\n",
       "      <td>5.05097</td>\n",
       "      <td>-10.34124</td>\n",
       "      <td>3.55005</td>\n",
       "      <td>...</td>\n",
       "      <td>34.57337</td>\n",
       "      <td>-171.70734</td>\n",
       "      <td>-16.96705</td>\n",
       "      <td>-46.67617</td>\n",
       "      <td>-12.51516</td>\n",
       "      <td>82.58061</td>\n",
       "      <td>-72.08993</td>\n",
       "      <td>9.90558</td>\n",
       "      <td>199.62971</td>\n",
       "      <td>18.85382</td>\n",
       "    </tr>\n",
       "    <tr>\n",
       "      <th>4</th>\n",
       "      <td>2001</td>\n",
       "      <td>50.97020</td>\n",
       "      <td>42.20998</td>\n",
       "      <td>67.09964</td>\n",
       "      <td>8.46791</td>\n",
       "      <td>-15.85279</td>\n",
       "      <td>-16.81409</td>\n",
       "      <td>-12.48207</td>\n",
       "      <td>-9.37636</td>\n",
       "      <td>12.63699</td>\n",
       "      <td>...</td>\n",
       "      <td>9.92661</td>\n",
       "      <td>-55.95724</td>\n",
       "      <td>64.92712</td>\n",
       "      <td>-17.72522</td>\n",
       "      <td>-1.49237</td>\n",
       "      <td>-7.50035</td>\n",
       "      <td>51.76631</td>\n",
       "      <td>7.88713</td>\n",
       "      <td>55.66926</td>\n",
       "      <td>28.74903</td>\n",
       "    </tr>\n",
       "    <tr>\n",
       "      <th>...</th>\n",
       "      <td>...</td>\n",
       "      <td>...</td>\n",
       "      <td>...</td>\n",
       "      <td>...</td>\n",
       "      <td>...</td>\n",
       "      <td>...</td>\n",
       "      <td>...</td>\n",
       "      <td>...</td>\n",
       "      <td>...</td>\n",
       "      <td>...</td>\n",
       "      <td>...</td>\n",
       "      <td>...</td>\n",
       "      <td>...</td>\n",
       "      <td>...</td>\n",
       "      <td>...</td>\n",
       "      <td>...</td>\n",
       "      <td>...</td>\n",
       "      <td>...</td>\n",
       "      <td>...</td>\n",
       "      <td>...</td>\n",
       "      <td>...</td>\n",
       "    </tr>\n",
       "    <tr>\n",
       "      <th>515340</th>\n",
       "      <td>2006</td>\n",
       "      <td>51.28467</td>\n",
       "      <td>45.88068</td>\n",
       "      <td>22.19582</td>\n",
       "      <td>-5.53319</td>\n",
       "      <td>-3.61835</td>\n",
       "      <td>-16.36914</td>\n",
       "      <td>2.12652</td>\n",
       "      <td>5.18160</td>\n",
       "      <td>-8.66890</td>\n",
       "      <td>...</td>\n",
       "      <td>4.81440</td>\n",
       "      <td>-3.75991</td>\n",
       "      <td>-30.92584</td>\n",
       "      <td>26.33968</td>\n",
       "      <td>-5.03390</td>\n",
       "      <td>21.86037</td>\n",
       "      <td>-142.29410</td>\n",
       "      <td>3.42901</td>\n",
       "      <td>-41.14721</td>\n",
       "      <td>-15.46052</td>\n",
       "    </tr>\n",
       "    <tr>\n",
       "      <th>515341</th>\n",
       "      <td>2006</td>\n",
       "      <td>49.87870</td>\n",
       "      <td>37.93125</td>\n",
       "      <td>18.65987</td>\n",
       "      <td>-3.63581</td>\n",
       "      <td>-27.75665</td>\n",
       "      <td>-18.52988</td>\n",
       "      <td>7.76108</td>\n",
       "      <td>3.56109</td>\n",
       "      <td>-2.50351</td>\n",
       "      <td>...</td>\n",
       "      <td>32.38589</td>\n",
       "      <td>-32.75535</td>\n",
       "      <td>-61.05473</td>\n",
       "      <td>56.65182</td>\n",
       "      <td>15.29965</td>\n",
       "      <td>95.88193</td>\n",
       "      <td>-10.63242</td>\n",
       "      <td>12.96552</td>\n",
       "      <td>92.11633</td>\n",
       "      <td>10.88815</td>\n",
       "    </tr>\n",
       "    <tr>\n",
       "      <th>515342</th>\n",
       "      <td>2006</td>\n",
       "      <td>45.12852</td>\n",
       "      <td>12.65758</td>\n",
       "      <td>-38.72018</td>\n",
       "      <td>8.80882</td>\n",
       "      <td>-29.29985</td>\n",
       "      <td>-2.28706</td>\n",
       "      <td>-18.40424</td>\n",
       "      <td>-22.28726</td>\n",
       "      <td>-4.52429</td>\n",
       "      <td>...</td>\n",
       "      <td>-18.73598</td>\n",
       "      <td>-71.15954</td>\n",
       "      <td>-123.98443</td>\n",
       "      <td>121.26989</td>\n",
       "      <td>10.89629</td>\n",
       "      <td>34.62409</td>\n",
       "      <td>-248.61020</td>\n",
       "      <td>-6.07171</td>\n",
       "      <td>53.96319</td>\n",
       "      <td>-8.09364</td>\n",
       "    </tr>\n",
       "    <tr>\n",
       "      <th>515343</th>\n",
       "      <td>2006</td>\n",
       "      <td>44.16614</td>\n",
       "      <td>32.38368</td>\n",
       "      <td>-3.34971</td>\n",
       "      <td>-2.49165</td>\n",
       "      <td>-19.59278</td>\n",
       "      <td>-18.67098</td>\n",
       "      <td>8.78428</td>\n",
       "      <td>4.02039</td>\n",
       "      <td>-12.01230</td>\n",
       "      <td>...</td>\n",
       "      <td>67.16763</td>\n",
       "      <td>282.77624</td>\n",
       "      <td>-4.63677</td>\n",
       "      <td>144.00125</td>\n",
       "      <td>21.62652</td>\n",
       "      <td>-29.72432</td>\n",
       "      <td>71.47198</td>\n",
       "      <td>20.32240</td>\n",
       "      <td>14.83107</td>\n",
       "      <td>39.74909</td>\n",
       "    </tr>\n",
       "    <tr>\n",
       "      <th>515344</th>\n",
       "      <td>2005</td>\n",
       "      <td>51.85726</td>\n",
       "      <td>59.11655</td>\n",
       "      <td>26.39436</td>\n",
       "      <td>-5.46030</td>\n",
       "      <td>-20.69012</td>\n",
       "      <td>-19.95528</td>\n",
       "      <td>-6.72771</td>\n",
       "      <td>2.29590</td>\n",
       "      <td>10.31018</td>\n",
       "      <td>...</td>\n",
       "      <td>-11.50511</td>\n",
       "      <td>-69.18291</td>\n",
       "      <td>60.58456</td>\n",
       "      <td>28.64599</td>\n",
       "      <td>-4.39620</td>\n",
       "      <td>-64.56491</td>\n",
       "      <td>-45.61012</td>\n",
       "      <td>-5.51512</td>\n",
       "      <td>32.35602</td>\n",
       "      <td>12.17352</td>\n",
       "    </tr>\n",
       "  </tbody>\n",
       "</table>\n",
       "<p>515345 rows × 91 columns</p>\n",
       "</div>"
      ],
      "text/plain": [
       "          0         1         2         3         4         5         6   \\\n",
       "0       2001  49.94357  21.47114  73.07750   8.74861 -17.40628 -13.09905   \n",
       "1       2001  48.73215  18.42930  70.32679  12.94636 -10.32437 -24.83777   \n",
       "2       2001  50.95714  31.85602  55.81851  13.41693  -6.57898 -18.54940   \n",
       "3       2001  48.24750  -1.89837  36.29772   2.58776   0.97170 -26.21683   \n",
       "4       2001  50.97020  42.20998  67.09964   8.46791 -15.85279 -16.81409   \n",
       "...      ...       ...       ...       ...       ...       ...       ...   \n",
       "515340  2006  51.28467  45.88068  22.19582  -5.53319  -3.61835 -16.36914   \n",
       "515341  2006  49.87870  37.93125  18.65987  -3.63581 -27.75665 -18.52988   \n",
       "515342  2006  45.12852  12.65758 -38.72018   8.80882 -29.29985  -2.28706   \n",
       "515343  2006  44.16614  32.38368  -3.34971  -2.49165 -19.59278 -18.67098   \n",
       "515344  2005  51.85726  59.11655  26.39436  -5.46030 -20.69012 -19.95528   \n",
       "\n",
       "              7         8         9   ...        81         82         83  \\\n",
       "0      -25.01202 -12.23257   7.83089  ...  13.01620  -54.40548   58.99367   \n",
       "1        8.76630  -0.92019  18.76548  ...   5.66812  -19.68073   33.04964   \n",
       "2       -3.27872  -2.35035  16.07017  ...   3.03800   26.05866  -50.92779   \n",
       "3        5.05097 -10.34124   3.55005  ...  34.57337 -171.70734  -16.96705   \n",
       "4      -12.48207  -9.37636  12.63699  ...   9.92661  -55.95724   64.92712   \n",
       "...          ...       ...       ...  ...       ...        ...        ...   \n",
       "515340   2.12652   5.18160  -8.66890  ...   4.81440   -3.75991  -30.92584   \n",
       "515341   7.76108   3.56109  -2.50351  ...  32.38589  -32.75535  -61.05473   \n",
       "515342 -18.40424 -22.28726  -4.52429  ... -18.73598  -71.15954 -123.98443   \n",
       "515343   8.78428   4.02039 -12.01230  ...  67.16763  282.77624   -4.63677   \n",
       "515344  -6.72771   2.29590  10.31018  ... -11.50511  -69.18291   60.58456   \n",
       "\n",
       "               84        85        86         87        88         89  \\\n",
       "0        15.37344   1.11144 -23.08793   68.40795  -1.82223  -27.46348   \n",
       "1        42.87836  -9.90378 -32.22788   70.49388  12.04941   58.43453   \n",
       "2        10.93792  -0.07568  43.20130 -115.00698  -0.05859   39.67068   \n",
       "3       -46.67617 -12.51516  82.58061  -72.08993   9.90558  199.62971   \n",
       "4       -17.72522  -1.49237  -7.50035   51.76631   7.88713   55.66926   \n",
       "...           ...       ...       ...        ...       ...        ...   \n",
       "515340   26.33968  -5.03390  21.86037 -142.29410   3.42901  -41.14721   \n",
       "515341   56.65182  15.29965  95.88193  -10.63242  12.96552   92.11633   \n",
       "515342  121.26989  10.89629  34.62409 -248.61020  -6.07171   53.96319   \n",
       "515343  144.00125  21.62652 -29.72432   71.47198  20.32240   14.83107   \n",
       "515344   28.64599  -4.39620 -64.56491  -45.61012  -5.51512   32.35602   \n",
       "\n",
       "              90  \n",
       "0        2.26327  \n",
       "1       26.92061  \n",
       "2       -0.66345  \n",
       "3       18.85382  \n",
       "4       28.74903  \n",
       "...          ...  \n",
       "515340 -15.46052  \n",
       "515341  10.88815  \n",
       "515342  -8.09364  \n",
       "515343  39.74909  \n",
       "515344  12.17352  \n",
       "\n",
       "[515345 rows x 91 columns]"
      ]
     },
     "execution_count": 2,
     "metadata": {},
     "output_type": "execute_result"
    }
   ],
   "source": [
    "df = pd.read_csv(\"data.txt.zip\", header=None)\n",
    "df"
   ]
  },
  {
   "cell_type": "markdown",
   "id": "single-hearts",
   "metadata": {
    "id": "single-hearts"
   },
   "source": [
    "Посмотрим на статистики по данным."
   ]
  },
  {
   "cell_type": "code",
   "execution_count": 11,
   "id": "interior-bacteria",
   "metadata": {
    "id": "interior-bacteria",
    "outputId": "36be6907-4d10-48d2-9822-ee20d46bd0b3"
   },
   "outputs": [
    {
     "data": {
      "text/html": [
       "<div>\n",
       "<style scoped>\n",
       "    .dataframe tbody tr th:only-of-type {\n",
       "        vertical-align: middle;\n",
       "    }\n",
       "\n",
       "    .dataframe tbody tr th {\n",
       "        vertical-align: top;\n",
       "    }\n",
       "\n",
       "    .dataframe thead th {\n",
       "        text-align: right;\n",
       "    }\n",
       "</style>\n",
       "<table border=\"1\" class=\"dataframe\">\n",
       "  <thead>\n",
       "    <tr style=\"text-align: right;\">\n",
       "      <th></th>\n",
       "      <th>0</th>\n",
       "      <th>1</th>\n",
       "      <th>2</th>\n",
       "      <th>3</th>\n",
       "      <th>4</th>\n",
       "      <th>5</th>\n",
       "      <th>6</th>\n",
       "      <th>7</th>\n",
       "      <th>8</th>\n",
       "      <th>9</th>\n",
       "      <th>...</th>\n",
       "      <th>81</th>\n",
       "      <th>82</th>\n",
       "      <th>83</th>\n",
       "      <th>84</th>\n",
       "      <th>85</th>\n",
       "      <th>86</th>\n",
       "      <th>87</th>\n",
       "      <th>88</th>\n",
       "      <th>89</th>\n",
       "      <th>90</th>\n",
       "    </tr>\n",
       "  </thead>\n",
       "  <tbody>\n",
       "    <tr>\n",
       "      <th>count</th>\n",
       "      <td>515345.000000</td>\n",
       "      <td>515345.000000</td>\n",
       "      <td>515345.000000</td>\n",
       "      <td>515345.000000</td>\n",
       "      <td>515345.000000</td>\n",
       "      <td>515345.000000</td>\n",
       "      <td>515345.000000</td>\n",
       "      <td>515345.000000</td>\n",
       "      <td>515345.000000</td>\n",
       "      <td>515345.000000</td>\n",
       "      <td>...</td>\n",
       "      <td>515345.000000</td>\n",
       "      <td>515345.000000</td>\n",
       "      <td>515345.000000</td>\n",
       "      <td>515345.000000</td>\n",
       "      <td>515345.000000</td>\n",
       "      <td>515345.000000</td>\n",
       "      <td>515345.000000</td>\n",
       "      <td>515345.000000</td>\n",
       "      <td>515345.000000</td>\n",
       "      <td>515345.000000</td>\n",
       "    </tr>\n",
       "    <tr>\n",
       "      <th>mean</th>\n",
       "      <td>1998.397082</td>\n",
       "      <td>43.387126</td>\n",
       "      <td>1.289554</td>\n",
       "      <td>8.658347</td>\n",
       "      <td>1.164124</td>\n",
       "      <td>-6.553601</td>\n",
       "      <td>-9.521975</td>\n",
       "      <td>-2.391089</td>\n",
       "      <td>-1.793236</td>\n",
       "      <td>3.727876</td>\n",
       "      <td>...</td>\n",
       "      <td>15.755406</td>\n",
       "      <td>-73.461500</td>\n",
       "      <td>41.542422</td>\n",
       "      <td>37.934119</td>\n",
       "      <td>0.315751</td>\n",
       "      <td>17.669213</td>\n",
       "      <td>-26.315336</td>\n",
       "      <td>4.458641</td>\n",
       "      <td>20.035136</td>\n",
       "      <td>1.329105</td>\n",
       "    </tr>\n",
       "    <tr>\n",
       "      <th>std</th>\n",
       "      <td>10.931046</td>\n",
       "      <td>6.067558</td>\n",
       "      <td>51.580351</td>\n",
       "      <td>35.268585</td>\n",
       "      <td>16.322790</td>\n",
       "      <td>22.860785</td>\n",
       "      <td>12.857751</td>\n",
       "      <td>14.571873</td>\n",
       "      <td>7.963827</td>\n",
       "      <td>10.582861</td>\n",
       "      <td>...</td>\n",
       "      <td>32.099635</td>\n",
       "      <td>175.618889</td>\n",
       "      <td>122.228799</td>\n",
       "      <td>95.050631</td>\n",
       "      <td>16.161764</td>\n",
       "      <td>114.427905</td>\n",
       "      <td>173.977336</td>\n",
       "      <td>13.346557</td>\n",
       "      <td>185.558247</td>\n",
       "      <td>22.088576</td>\n",
       "    </tr>\n",
       "    <tr>\n",
       "      <th>min</th>\n",
       "      <td>1922.000000</td>\n",
       "      <td>1.749000</td>\n",
       "      <td>-337.092500</td>\n",
       "      <td>-301.005060</td>\n",
       "      <td>-154.183580</td>\n",
       "      <td>-181.953370</td>\n",
       "      <td>-81.794290</td>\n",
       "      <td>-188.214000</td>\n",
       "      <td>-72.503850</td>\n",
       "      <td>-126.479040</td>\n",
       "      <td>...</td>\n",
       "      <td>-437.722030</td>\n",
       "      <td>-4402.376440</td>\n",
       "      <td>-1810.689190</td>\n",
       "      <td>-3098.350310</td>\n",
       "      <td>-341.789120</td>\n",
       "      <td>-3168.924570</td>\n",
       "      <td>-4319.992320</td>\n",
       "      <td>-236.039260</td>\n",
       "      <td>-7458.378150</td>\n",
       "      <td>-381.424430</td>\n",
       "    </tr>\n",
       "    <tr>\n",
       "      <th>25%</th>\n",
       "      <td>1994.000000</td>\n",
       "      <td>39.954690</td>\n",
       "      <td>-26.059520</td>\n",
       "      <td>-11.462710</td>\n",
       "      <td>-8.487500</td>\n",
       "      <td>-20.666450</td>\n",
       "      <td>-18.440990</td>\n",
       "      <td>-10.780600</td>\n",
       "      <td>-6.468420</td>\n",
       "      <td>-2.293660</td>\n",
       "      <td>...</td>\n",
       "      <td>-1.812650</td>\n",
       "      <td>-139.555160</td>\n",
       "      <td>-20.986900</td>\n",
       "      <td>-4.669540</td>\n",
       "      <td>-6.781590</td>\n",
       "      <td>-31.580610</td>\n",
       "      <td>-101.530300</td>\n",
       "      <td>-2.566090</td>\n",
       "      <td>-59.509270</td>\n",
       "      <td>-8.820210</td>\n",
       "    </tr>\n",
       "    <tr>\n",
       "      <th>50%</th>\n",
       "      <td>2002.000000</td>\n",
       "      <td>44.258500</td>\n",
       "      <td>8.417850</td>\n",
       "      <td>10.476320</td>\n",
       "      <td>-0.652840</td>\n",
       "      <td>-6.007770</td>\n",
       "      <td>-11.188390</td>\n",
       "      <td>-2.046670</td>\n",
       "      <td>-1.736450</td>\n",
       "      <td>3.822310</td>\n",
       "      <td>...</td>\n",
       "      <td>9.171850</td>\n",
       "      <td>-53.090060</td>\n",
       "      <td>28.791060</td>\n",
       "      <td>33.623630</td>\n",
       "      <td>0.820840</td>\n",
       "      <td>15.598470</td>\n",
       "      <td>-21.204120</td>\n",
       "      <td>3.117640</td>\n",
       "      <td>7.759730</td>\n",
       "      <td>0.053050</td>\n",
       "    </tr>\n",
       "    <tr>\n",
       "      <th>75%</th>\n",
       "      <td>2006.000000</td>\n",
       "      <td>47.833890</td>\n",
       "      <td>36.124010</td>\n",
       "      <td>29.764820</td>\n",
       "      <td>8.787540</td>\n",
       "      <td>7.741870</td>\n",
       "      <td>-2.388960</td>\n",
       "      <td>6.508580</td>\n",
       "      <td>2.913450</td>\n",
       "      <td>9.961820</td>\n",
       "      <td>...</td>\n",
       "      <td>26.274480</td>\n",
       "      <td>13.478730</td>\n",
       "      <td>89.661770</td>\n",
       "      <td>77.785800</td>\n",
       "      <td>8.470990</td>\n",
       "      <td>67.794960</td>\n",
       "      <td>52.389330</td>\n",
       "      <td>9.967740</td>\n",
       "      <td>86.351610</td>\n",
       "      <td>9.679520</td>\n",
       "    </tr>\n",
       "    <tr>\n",
       "      <th>max</th>\n",
       "      <td>2011.000000</td>\n",
       "      <td>61.970140</td>\n",
       "      <td>384.065730</td>\n",
       "      <td>322.851430</td>\n",
       "      <td>335.771820</td>\n",
       "      <td>262.068870</td>\n",
       "      <td>166.236890</td>\n",
       "      <td>172.402680</td>\n",
       "      <td>126.741270</td>\n",
       "      <td>146.297950</td>\n",
       "      <td>...</td>\n",
       "      <td>840.973380</td>\n",
       "      <td>4469.454870</td>\n",
       "      <td>3210.701700</td>\n",
       "      <td>1734.079690</td>\n",
       "      <td>260.544900</td>\n",
       "      <td>3662.065650</td>\n",
       "      <td>2833.608950</td>\n",
       "      <td>463.419500</td>\n",
       "      <td>7393.398440</td>\n",
       "      <td>677.899630</td>\n",
       "    </tr>\n",
       "  </tbody>\n",
       "</table>\n",
       "<p>8 rows × 91 columns</p>\n",
       "</div>"
      ],
      "text/plain": [
       "                  0              1              2              3   \\\n",
       "count  515345.000000  515345.000000  515345.000000  515345.000000   \n",
       "mean     1998.397082      43.387126       1.289554       8.658347   \n",
       "std        10.931046       6.067558      51.580351      35.268585   \n",
       "min      1922.000000       1.749000    -337.092500    -301.005060   \n",
       "25%      1994.000000      39.954690     -26.059520     -11.462710   \n",
       "50%      2002.000000      44.258500       8.417850      10.476320   \n",
       "75%      2006.000000      47.833890      36.124010      29.764820   \n",
       "max      2011.000000      61.970140     384.065730     322.851430   \n",
       "\n",
       "                  4              5              6              7   \\\n",
       "count  515345.000000  515345.000000  515345.000000  515345.000000   \n",
       "mean        1.164124      -6.553601      -9.521975      -2.391089   \n",
       "std        16.322790      22.860785      12.857751      14.571873   \n",
       "min      -154.183580    -181.953370     -81.794290    -188.214000   \n",
       "25%        -8.487500     -20.666450     -18.440990     -10.780600   \n",
       "50%        -0.652840      -6.007770     -11.188390      -2.046670   \n",
       "75%         8.787540       7.741870      -2.388960       6.508580   \n",
       "max       335.771820     262.068870     166.236890     172.402680   \n",
       "\n",
       "                  8              9   ...             81             82  \\\n",
       "count  515345.000000  515345.000000  ...  515345.000000  515345.000000   \n",
       "mean       -1.793236       3.727876  ...      15.755406     -73.461500   \n",
       "std         7.963827      10.582861  ...      32.099635     175.618889   \n",
       "min       -72.503850    -126.479040  ...    -437.722030   -4402.376440   \n",
       "25%        -6.468420      -2.293660  ...      -1.812650    -139.555160   \n",
       "50%        -1.736450       3.822310  ...       9.171850     -53.090060   \n",
       "75%         2.913450       9.961820  ...      26.274480      13.478730   \n",
       "max       126.741270     146.297950  ...     840.973380    4469.454870   \n",
       "\n",
       "                  83             84             85             86  \\\n",
       "count  515345.000000  515345.000000  515345.000000  515345.000000   \n",
       "mean       41.542422      37.934119       0.315751      17.669213   \n",
       "std       122.228799      95.050631      16.161764     114.427905   \n",
       "min     -1810.689190   -3098.350310    -341.789120   -3168.924570   \n",
       "25%       -20.986900      -4.669540      -6.781590     -31.580610   \n",
       "50%        28.791060      33.623630       0.820840      15.598470   \n",
       "75%        89.661770      77.785800       8.470990      67.794960   \n",
       "max      3210.701700    1734.079690     260.544900    3662.065650   \n",
       "\n",
       "                  87             88             89             90  \n",
       "count  515345.000000  515345.000000  515345.000000  515345.000000  \n",
       "mean      -26.315336       4.458641      20.035136       1.329105  \n",
       "std       173.977336      13.346557     185.558247      22.088576  \n",
       "min     -4319.992320    -236.039260   -7458.378150    -381.424430  \n",
       "25%      -101.530300      -2.566090     -59.509270      -8.820210  \n",
       "50%       -21.204120       3.117640       7.759730       0.053050  \n",
       "75%        52.389330       9.967740      86.351610       9.679520  \n",
       "max      2833.608950     463.419500    7393.398440     677.899630  \n",
       "\n",
       "[8 rows x 91 columns]"
      ]
     },
     "execution_count": 11,
     "metadata": {},
     "output_type": "execute_result"
    }
   ],
   "source": [
    "df.describe()"
   ]
  },
  {
   "cell_type": "markdown",
   "id": "broad-writer",
   "metadata": {
    "id": "broad-writer"
   },
   "source": [
    "Целевая переменная, год выпуска песни, записана в первом столбце. Посмотрим на ее распределение."
   ]
  },
  {
   "cell_type": "code",
   "execution_count": 13,
   "id": "exposed-small",
   "metadata": {
    "id": "exposed-small",
    "outputId": "119f04af-94fd-468e-cb9f-19745336c0d1"
   },
   "outputs": [
    {
     "data": {
      "image/png": "[encoded data removed]",
      "text/plain": [
       "<Figure size 640x480 with 1 Axes>"
      ]
     },
     "metadata": {},
     "output_type": "display_data"
    },
    {
     "name": "stdout",
     "output_type": "stream",
     "text": [
      "Range: 1922 - 2011\n",
      "Unique values: 89\n"
     ]
    }
   ],
   "source": [
    "plt.hist(df.iloc[:, 0], bins=20)\n",
    "plt.xlabel(\"year\")\n",
    "plt.ylabel(\"count\")\n",
    "plt.show()\n",
    "print(f\"Range: {df.iloc[:, 0].min()} - {df.iloc[:, 0].max()}\")\n",
    "print(f\"Unique values: {np.unique(df.iloc[:, 0]).size}\")"
   ]
  },
  {
   "cell_type": "markdown",
   "id": "noted-rebecca",
   "metadata": {
    "id": "noted-rebecca"
   },
   "source": [
    "Разобьем данные на обучение и тест (не меняйте здесь ничего, чтобы сплит был одинаковым у всех)."
   ]
  },
  {
   "cell_type": "code",
   "execution_count": 3,
   "id": "presidential-wisconsin",
   "metadata": {
    "colab": {
     "base_uri": "https://localhost:8080/"
    },
    "id": "presidential-wisconsin",
    "outputId": "b1f5b6c1-35e6-4cc0-ae4e-df4a36acb305"
   },
   "outputs": [
    {
     "data": {
      "text/plain": [
       "((386508, 90), (128837, 90))"
      ]
     },
     "execution_count": 3,
     "metadata": {},
     "output_type": "execute_result"
    }
   ],
   "source": [
    "X = df.iloc[:, 1:].values\n",
    "y = df.iloc[:, 0].values\n",
    "\n",
    "train_size = int(0.75 * X.shape[0])\n",
    "X_train = X[:train_size, :]\n",
    "y_train = y[:train_size]\n",
    "X_test = X[train_size:, :]\n",
    "y_test = y[train_size:]\n",
    "X_train.shape, X_test.shape"
   ]
  },
  {
   "cell_type": "markdown",
   "id": "adaptive-quantity",
   "metadata": {
    "id": "adaptive-quantity"
   },
   "source": [
    "**Задание 0 (0 баллов, но при невыполнении максимальная оценка за всю работу &mdash; 0 баллов).** Мы будем использовать MSE как метрику качества. Прежде чем обучать нейронные сети, нам нужно проверить несколько простых бейзлайнов, чтобы было с чем сравнить более сложные алгоритмы. Для этого бучите `Ridge` регрессию из `sklearn`. Кроме того, посчитайте качество при наилучшем константном прогнозе (также пропишите текстом, какая константа будет лучшей для MSE)."
   ]
  },
  {
   "cell_type": "code",
   "execution_count": 19,
   "id": "mexican-fireplace",
   "metadata": {
    "colab": {
     "base_uri": "https://localhost:8080/"
    },
    "id": "mexican-fireplace",
    "outputId": "66889bef-cd89-4440-c50c-1db830d83af0"
   },
   "outputs": [
    {
     "name": "stdout",
     "output_type": "stream",
     "text": [
      "MSE для Ridge-регрессии: 89.74966397222073\n"
     ]
    }
   ],
   "source": [
    "from sklearn.linear_model import Ridge\n",
    "from sklearn.metrics import mean_squared_error\n",
    "rg = Ridge()\n",
    "\n",
    "rg.fit(X_train, y_train)\n",
    "\n",
    "y_pred = rg.predict(X_test)\n",
    "\n",
    "mse = mean_squared_error(y_test, y_pred)\n",
    "print(f\"MSE для Ridge-регрессии: {mse}\")"
   ]
  },
  {
   "cell_type": "markdown",
   "id": "0f4c6b65",
   "metadata": {},
   "source": [
    "**Ответ:** Минимум MSE достигается при среднем значении целевой переменной. Это можно посчитать, взяв производную MSE и приравняв к нулю."
   ]
  },
  {
   "cell_type": "code",
   "execution_count": 38,
   "id": "39bd459a-a611-429d-bbc2-141dbeb27e0a",
   "metadata": {},
   "outputs": [
    {
     "name": "stdout",
     "output_type": "stream",
     "text": [
      "const  1998.3753660985026\n",
      "MSE для константного прогноза: 117.83191164028968\n"
     ]
    }
   ],
   "source": [
    "c = y_train.mean()\n",
    "\n",
    "print('const ', c)\n",
    "\n",
    "y_pred_1 = np.full_like(y_test, c)\n",
    "\n",
    "mse_1 = mean_squared_error(y_test, y_pred_1)\n",
    "print(f\"MSE для константного прогноза: {mse_1}\")"
   ]
  },
  {
   "cell_type": "markdown",
   "id": "suspected-arbitration",
   "metadata": {
    "id": "suspected-arbitration"
   },
   "source": [
    "Теперь приступим к экспериментам с нейросетями. Для начала отделим от данных валидацию:"
   ]
  },
  {
   "cell_type": "code",
   "execution_count": 5,
   "id": "offensive-publication",
   "metadata": {
    "colab": {
     "base_uri": "https://localhost:8080/"
    },
    "id": "offensive-publication",
    "outputId": "168b4b3c-4f75-4122-9b47-bc993b4a5f2f"
   },
   "outputs": [
    {
     "data": {
      "text/plain": [
       "((289881, 90), (96627, 90))"
      ]
     },
     "execution_count": 5,
     "metadata": {},
     "output_type": "execute_result"
    }
   ],
   "source": [
    "X_train, X_val, y_train, y_val = train_test_split(\n",
    "    X_train, y_train, test_size=0.25, random_state=0xE2E4\n",
    ")\n",
    "X_train.shape, X_val.shape"
   ]
  },
  {
   "cell_type": "markdown",
   "id": "modern-platform",
   "metadata": {
    "id": "modern-platform"
   },
   "source": [
    "## Глава I. Заводим нейронную сеть (5 баллов)\n",
    "\n",
    "**Задание 1.1 (0.5 баллов).** Заполните пропуски в функции `train_and_validate`. Она поможет нам запускать эксперименты. Можете также реализовать поддержку обучения на GPU, чтобы эксперименты считались быстрее. Бесплатно воспользоваться GPU можно на сервисах **Google Colab** и **Kaggle**."
   ]
  },
  {
   "cell_type": "code",
   "execution_count": 9,
   "id": "cooperative-bedroom",
   "metadata": {
    "id": "cooperative-bedroom"
   },
   "outputs": [],
   "source": [
    "def plot_losses(train_losses, train_metrics, val_losses, val_metrics):\n",
    "    \"\"\"\n",
    "    Plot losses and metrics while training\n",
    "      - train_losses: sequence of train losses\n",
    "      - train_metrics: sequence of train MSE values\n",
    "      - val_losses: sequence of validation losses\n",
    "      - val_metrics: sequence of validation MSE values\n",
    "    \"\"\"\n",
    "    clear_output()\n",
    "    fig, axs = plt.subplots(1, 2, figsize=(15, 5))\n",
    "    axs[0].plot(range(1, len(train_losses) + 1), train_losses, label=\"train\")\n",
    "    axs[0].plot(range(1, len(val_losses) + 1), val_losses, label=\"val\")\n",
    "    axs[1].plot(range(1, len(train_metrics) + 1), train_metrics, label=\"train\")\n",
    "    axs[1].plot(range(1, len(val_metrics) + 1), val_metrics, label=\"val\")\n",
    "\n",
    "    if max(train_losses) / min(train_losses) > 10:\n",
    "        axs[0].set_yscale(\"log\")\n",
    "\n",
    "    if max(train_metrics) / min(train_metrics) > 10:\n",
    "        axs[0].set_yscale(\"log\")\n",
    "\n",
    "    for ax in axs:\n",
    "        ax.set_xlabel(\"epoch\")\n",
    "        ax.legend()\n",
    "\n",
    "    axs[0].set_ylabel(\"loss\")\n",
    "    axs[1].set_ylabel(\"MSE\")\n",
    "    plt.show()\n",
    "\n",
    "\n",
    "def train_and_validate(\n",
    "    model,\n",
    "    optimizer,\n",
    "    criterion,\n",
    "    metric,\n",
    "    train_loader,\n",
    "    val_loader,\n",
    "    num_epochs,\n",
    "    verbose=True,\n",
    "):\n",
    "    \"\"\"\n",
    "    Train and validate neural network\n",
    "      - model: neural network to train\n",
    "      - optimizer: optimizer chained to a model\n",
    "      - criterion: loss function class\n",
    "      - metric: function to measure MSE taking neural networks predictions\n",
    "                 and ground truth labels\n",
    "      - train_loader: DataLoader with train set\n",
    "      - val_loader: DataLoader with validation set\n",
    "      - num_epochs: number of epochs to train\n",
    "      - verbose: whether to plot metrics during training\n",
    "    Returns:\n",
    "      - train_mse: training MSE over the last epoch\n",
    "      - val_mse: validation MSE after the last epoch\n",
    "    \"\"\"\n",
    "    train_losses, val_losses = [], []\n",
    "    train_metrics, val_metrics = [], []\n",
    "\n",
    "    for epoch in range(1, num_epochs + 1):\n",
    "        model.train()\n",
    "        running_loss, running_metric = 0, 0\n",
    "        pbar = (\n",
    "            tqdm(train_loader, desc=f\"Training {epoch}/{num_epochs}\")\n",
    "            if verbose\n",
    "            else train_loader\n",
    "        )\n",
    "\n",
    "        for i, (X_batch, y_batch) in enumerate(pbar, 1):\n",
    "            \"\"\"\n",
    "            YOUR CODE HERE (－.－)...zzzZZZzzzZZZ\n",
    "            Do forward and backward passes\n",
    "            predictions = ...\n",
    "            loss = ...\n",
    "            \"\"\"\n",
    "            X_batch = X_batch.to(device)\n",
    "            y_batch = y_batch.to(device)\n",
    "            predictions = model(X_batch)\n",
    "            loss = criterion(predictions, y_batch)\n",
    "            \n",
    "            optimizer.zero_grad()\n",
    "            loss.backward()\n",
    "            optimizer.step()\n",
    "\n",
    "            with torch.no_grad():\n",
    "                metric_value = metric(predictions, y_batch)\n",
    "                if type(metric_value) == torch.Tensor:\n",
    "                    metric_value = metric_value.item()\n",
    "                running_loss += loss.item() * X_batch.shape[0]\n",
    "                running_metric += metric_value * X_batch.shape[0]\n",
    "\n",
    "            if verbose and i % 100 == 0:\n",
    "                pbar.set_postfix({\"loss\": loss.item(), \"MSE\": metric_value})\n",
    "\n",
    "        train_losses += [running_loss / len(train_loader.dataset)]\n",
    "        train_metrics += [running_metric / len(train_loader.dataset)]\n",
    "\n",
    "        model.eval()\n",
    "        running_loss, running_metric = 0, 0\n",
    "        pbar = (\n",
    "            tqdm(val_loader, desc=f\"Validating {epoch}/{num_epochs}\")\n",
    "            if verbose\n",
    "            else val_loader\n",
    "        )\n",
    "\n",
    "        for i, (X_batch, y_batch) in enumerate(pbar, 1):\n",
    "            with torch.no_grad():\n",
    "                \"\"\"\n",
    "                YOUR CODE HERE (－.－)...zzzZZZzzzZZZ\n",
    "                Do evaluation\n",
    "                predictions = ...\n",
    "                loss = ...\n",
    "                \"\"\"\n",
    "                X_batch = X_batch.to(device)\n",
    "                y_batch = y_batch.to(device)\n",
    "                predictions = model(X_batch)\n",
    "                loss = criterion(predictions, y_batch)\n",
    "                \n",
    "                metric_value = metric(predictions, y_batch)\n",
    "                if type(metric_value) == torch.Tensor:\n",
    "                    metric_value = metric_value.item()\n",
    "                running_loss += loss.item() * X_batch.shape[0]\n",
    "                running_metric += metric_value * X_batch.shape[0]\n",
    "\n",
    "            if verbose and i % 100 == 0:\n",
    "                pbar.set_postfix({\"loss\": loss.item(), \"MSE\": metric_value})\n",
    "\n",
    "        val_losses += [running_loss / len(val_loader.dataset)]\n",
    "        val_metrics += [running_metric / len(val_loader.dataset)]\n",
    "\n",
    "        if verbose:\n",
    "            plot_losses(train_losses, train_metrics, val_losses, val_metrics)\n",
    "\n",
    "    if verbose:\n",
    "        print(f\"Validation MSE: {val_metrics[-1]:.3f}\")\n",
    "\n",
    "    return train_metrics[-1], val_metrics[-1]"
   ]
  },
  {
   "cell_type": "markdown",
   "id": "adjacent-grace",
   "metadata": {
    "id": "adjacent-grace"
   },
   "source": [
    "**Задание 1.2 (0.75 балла).** Попробуем обучить нашу первую нейронную сеть. Здесь целевая переменная дискретная &mdash; это год выпуска песни. Поэтому будем учить сеть на классификацию c помощью [кросс-энтропийной функции потерь](https://pytorch.org/docs/stable/generated/torch.nn.CrossEntropyLoss.html).\n",
    "\n",
    "- В качестве архитектуры сети возьмите два линейных слоя с активацией ReLU между ними c числом скрытых нейронов, равным 128.\n",
    "- Используйте SGD с `lr=1e-2`.\n",
    "- Возьмите размер мини-батча около 32-64, примерно 3-4 эпох обучения должно быть достаточно.\n",
    "- Скорее всего вам пригодится `torch.utils.data.TensorDataset`. Когда будете конвертировать numpy-массивы в torch-тензоры, используйте тип `torch.float32`.\n",
    "- Также преобразуйте целевую переменную так, чтобы ее значения принимали значения от $0$ до $C-1$, где $C$ &mdash; число классов (лучше передайте преобразованное значение в TensorDataset, исходное нам еще пригодится)\n",
    "- В качестве параметра `metric` в `train_and_validate` передайте lambda-выражение, которое считает MSE по выходу нейронной сети и целевой переменной. В случае классификации предсказывается класс с наибольшей вероятностью (или, что то же самое, с наибольшим значением **логита**$^1$).\n",
    "\n",
    "$^1$ **Логит** &mdash; выход последнего линейного слоя, может принимать любые вещественные значения. Если применить Softmax к логитам, то получатся вероятности распределения классов."
   ]
  },
  {
   "cell_type": "code",
   "execution_count": 11,
   "id": "6c750bf2-00c7-4f08-9fc3-2fd5b4032368",
   "metadata": {},
   "outputs": [],
   "source": [
    "# Преобразуем метки с помощью словаря\n",
    "\n",
    "def transform_target(vector, mapping):\n",
    "    return np.array([mapping[val] for val in vector])\n",
    "\n",
    "unique_years = np.unique(y_train)\n",
    "mapping = {year: i for i, year in enumerate(unique_years)}\n",
    "\n",
    "y_train_trans = transform_target(y_train, mapping)\n",
    "y_val_trans = transform_target(y_val, mapping)"
   ]
  },
  {
   "cell_type": "code",
   "execution_count": 13,
   "id": "febe2b6c-b7f7-4e93-a016-04a82691f9d2",
   "metadata": {},
   "outputs": [
    {
     "data": {
      "text/plain": [
       "array([ 0,  1,  2,  3,  4,  5,  6,  7,  8,  9, 10, 11, 12, 13, 14, 15, 16,\n",
       "       17, 18, 19, 20, 21, 22, 23, 24, 25, 26, 27, 28, 29, 30, 31, 32, 33,\n",
       "       34, 35, 36, 37, 38, 39, 40, 41, 42, 43, 44, 45, 46, 47, 48, 49, 50,\n",
       "       51, 52, 53, 54, 55, 56, 57, 58, 59, 60, 61, 62, 63, 64, 65, 66, 67,\n",
       "       68, 69, 70, 71, 72, 73, 74, 75, 76, 77, 78, 79, 80, 81, 82, 83, 84,\n",
       "       85, 86, 87, 88])"
      ]
     },
     "execution_count": 13,
     "metadata": {},
     "output_type": "execute_result"
    }
   ],
   "source": [
    "np.unique(y_train_trans)"
   ]
  },
  {
   "cell_type": "code",
   "execution_count": 15,
   "id": "89006984-0001-45ae-bc49-0f66db4b7f8e",
   "metadata": {},
   "outputs": [
    {
     "data": {
      "text/plain": [
       "89"
      ]
     },
     "execution_count": 15,
     "metadata": {},
     "output_type": "execute_result"
    }
   ],
   "source": [
    "len(np.unique(y_train_trans))"
   ]
  },
  {
   "cell_type": "code",
   "execution_count": 19,
   "id": "1dacdec5-e2bd-4368-83a0-955e33e4f25e",
   "metadata": {},
   "outputs": [
    {
     "data": {
      "text/plain": [
       "set()"
      ]
     },
     "execution_count": 19,
     "metadata": {},
     "output_type": "execute_result"
    }
   ],
   "source": [
    "set(np.unique(y_val_trans)) - set(np.unique(y_train_trans))\n",
    "\n",
    "# Проверили, нет ли у нас классов в тесте, которых нет в трейне. Таких классов нет."
   ]
  },
  {
   "cell_type": "code",
   "execution_count": 13,
   "id": "manufactured-beverage",
   "metadata": {
    "id": "manufactured-beverage"
   },
   "outputs": [],
   "source": [
    "device = torch.device('cuda' if torch.cuda.is_available() else 'cpu')\n",
    "\n",
    "input_size = 90\n",
    "hidden_size = 128\n",
    "num_epochs = 4\n",
    "batch_size = 32\n",
    "learning_rate = 1e-2\n",
    "num_classes = 89"
   ]
  },
  {
   "cell_type": "code",
   "execution_count": 25,
   "id": "b27977c0-879b-4c68-88ff-9a4296102eb4",
   "metadata": {},
   "outputs": [],
   "source": [
    "X_train = torch.tensor(X_train, dtype=torch.float32)\n",
    "y_train = torch.tensor(y_train_trans, dtype=torch.long)\n",
    "X_val = torch.tensor(X_val, dtype=torch.float32)\n",
    "y_val = torch.tensor(y_val_trans, dtype=torch.long)\n",
    "\n",
    "train_dataset = torch.utils.data.TensorDataset(X_train, y_train)\n",
    "val_dataset = torch.utils.data.TensorDataset(X_val, y_val)"
   ]
  },
  {
   "cell_type": "code",
   "execution_count": 27,
   "id": "5254e004-e94f-4aa0-bf2c-e4fab6fe1a18",
   "metadata": {},
   "outputs": [],
   "source": [
    "train_loader = torch.utils.data.DataLoader(dataset=train_dataset,\n",
    "                                           batch_size=batch_size,\n",
    "                                           shuffle=True)\n",
    "\n",
    "val_loader = torch.utils.data.DataLoader(dataset=val_dataset,\n",
    "                                          batch_size=batch_size,\n",
    "                                          shuffle=False)"
   ]
  },
  {
   "cell_type": "code",
   "execution_count": 15,
   "id": "9094b501-84e5-4859-943d-b338cf432971",
   "metadata": {},
   "outputs": [],
   "source": [
    "class MyFirstNeuralNetwork(nn.Module):\n",
    "    def __init__(self, input_size, hidden_size, num_classes):\n",
    "        super(MyFirstNeuralNetwork, self).__init__()\n",
    "        self.fc1 = nn.Linear(input_size, hidden_size)\n",
    "        self.relu = nn.ReLU()\n",
    "        self.fc2 = nn.Linear(hidden_size, num_classes)\n",
    "\n",
    "    def forward(self, x):\n",
    "        out = self.fc1(x)\n",
    "        out = self.relu(out)\n",
    "        out = self.fc2(out)\n",
    "        return out\n",
    "\n",
    "model = MyFirstNeuralNetwork(input_size, hidden_size, num_classes).to(device)"
   ]
  },
  {
   "cell_type": "code",
   "execution_count": 17,
   "id": "d30006af-00fe-4b7e-a434-f706093fbdbd",
   "metadata": {},
   "outputs": [],
   "source": [
    "criterion = nn.CrossEntropyLoss()\n",
    "optimizer = torch.optim.SGD(model.parameters(), lr=learning_rate)"
   ]
  },
  {
   "cell_type": "code",
   "execution_count": 33,
   "id": "d6defa55-7747-4454-af1e-1b887722fee6",
   "metadata": {},
   "outputs": [
    {
     "data": {
      "image/png": "[encoded data removed]",
      "text/plain": [
       "<Figure size 1500x500 with 2 Axes>"
      ]
     },
     "metadata": {},
     "output_type": "display_data"
    },
    {
     "name": "stdout",
     "output_type": "stream",
     "text": [
      "Validation MSE: 195.116\n"
     ]
    },
    {
     "data": {
      "text/plain": [
       "(194.28187428666092, 195.11627184940411)"
      ]
     },
     "execution_count": 33,
     "metadata": {},
     "output_type": "execute_result"
    }
   ],
   "source": [
    "def count_mse(pred, true):\n",
    "    return torch.mean(((pred.argmax(dim=1).float() - true.float()) ** 2))\n",
    "\n",
    "train_and_validate(\n",
    "    model = model,\n",
    "    optimizer = optimizer,\n",
    "    criterion = criterion,\n",
    "    metric = count_mse,\n",
    "    train_loader = train_loader,\n",
    "    val_loader = val_loader,\n",
    "    num_epochs= num_epochs,\n",
    "    verbose=True\n",
    ")"
   ]
  },
  {
   "cell_type": "markdown",
   "id": "postal-kingdom",
   "metadata": {
    "id": "postal-kingdom"
   },
   "source": [
    "**Задание 1.3 (0.5 балла).** Прокомментируйте ваши наблюдения. Удалось ли побить бейзлайн? Как вы думаете, хорошая ли идея учить классификатор для этой задачи? Почему?\n",
    "\n",
    "**Ответ:** Нейронная сеть не смогла побить бейзлайн. \n",
    "- Loss показывает быстрое уменьшение функции потерь на обучающей выборке до минимума к 2 эпохе. После этого она остаётся стабильной. Однако Loss на валидации остаётся почти постоянным и почти не уменьшается. MSE на валидации остается одинаковой, когда как на трейне уменьшается на 2й эпохе и затем выходит на плато.\n",
    "- Это говорит о том, что модель плохо обощается и, скорее всего, переобучается. Модель не смогла побить ни константный прогноз, ни Ridge-регрессию. Это чёткий сигнал о том, что текущий подход неэффективен и требует пересмотра. Для ее улучшения стоит добавить дополнительные скрытые слои, подобрать оптимизатор и гиперпараметры. Также необходимо отмасштабировать данные."
   ]
  },
  {
   "cell_type": "markdown",
   "id": "gorgeous-italy",
   "metadata": {
    "id": "gorgeous-italy"
   },
   "source": [
    "**Задание 1.4 (0.75 балла).** Теперь попробуем решать задачу как регрессию. Обучите нейронную сеть на [MSE](https://pytorch.org/docs/stable/generated/torch.nn.MSELoss.html).\n",
    "\n",
    "- Используйте такие же гиперпараметры обучения.\n",
    "- Когда передаете целевую переменную в TensorDataset, сделайте reshape в (-1, 1).\n",
    "- Не забудьте изменить lambda-выражение, которые вы передаете в `train_and_validate`.\n",
    "- Если что-то пойдет не так, можете попробовать меньшие значения `lr`."
   ]
  },
  {
   "cell_type": "code",
   "execution_count": 17,
   "id": "contrary-justice",
   "metadata": {
    "id": "contrary-justice"
   },
   "outputs": [],
   "source": [
    "learning_rate = 1e-6\n",
    "criterion_mse = nn.MSELoss()\n",
    "optimizer = torch.optim.SGD(model.parameters(), lr=learning_rate)"
   ]
  },
  {
   "cell_type": "code",
   "execution_count": 19,
   "id": "71bc1b0d-327f-48e3-8b99-34714b66b809",
   "metadata": {},
   "outputs": [],
   "source": [
    "X_train = torch.tensor(X_train, dtype=torch.float32)\n",
    "y_train = torch.tensor(y_train_trans, dtype=torch.float32).reshape(-1, 1)\n",
    "X_val = torch.tensor(X_val, dtype=torch.float32)\n",
    "y_val = torch.tensor(y_val_trans, dtype=torch.float32).reshape(-1, 1)\n",
    "\n",
    "train_dataset = torch.utils.data.TensorDataset(X_train, y_train)\n",
    "val_dataset = torch.utils.data.TensorDataset(X_val, y_val)"
   ]
  },
  {
   "cell_type": "code",
   "execution_count": 21,
   "id": "fff912f9-c670-43bd-b6c3-13a2451ef68b",
   "metadata": {},
   "outputs": [],
   "source": [
    "train_loader = torch.utils.data.DataLoader(dataset=train_dataset,\n",
    "                                           batch_size=batch_size,\n",
    "                                           shuffle=True)\n",
    "\n",
    "val_loader = torch.utils.data.DataLoader(dataset=val_dataset,\n",
    "                                          batch_size=batch_size,\n",
    "                                          shuffle=False)"
   ]
  },
  {
   "cell_type": "code",
   "execution_count": 23,
   "id": "2272726c-e2da-47e1-838a-a6f5442880ac",
   "metadata": {},
   "outputs": [
    {
     "data": {
      "image/png": "[encoded data removed]",
      "text/plain": [
       "<Figure size 1500x500 with 2 Axes>"
      ]
     },
     "metadata": {},
     "output_type": "display_data"
    },
    {
     "name": "stdout",
     "output_type": "stream",
     "text": [
      "Validation MSE: 184.123\n"
     ]
    },
    {
     "data": {
      "text/plain": [
       "(255.97266165877676, 184.1232415255073)"
      ]
     },
     "execution_count": 23,
     "metadata": {},
     "output_type": "execute_result"
    }
   ],
   "source": [
    "def count_mse(pred, true):\n",
    "    return ((pred.argmax(1).float() - true.float())**2).mean()\n",
    "    \n",
    "train_and_validate(\n",
    "    model = model,\n",
    "    optimizer = optimizer,\n",
    "    criterion = criterion_mse,\n",
    "    metric = count_mse,\n",
    "    train_loader = train_loader,\n",
    "    val_loader = val_loader,\n",
    "    num_epochs= num_epochs,\n",
    "    verbose=True\n",
    ")"
   ]
  },
  {
   "cell_type": "markdown",
   "id": "nonprofit-passenger",
   "metadata": {
    "id": "nonprofit-passenger"
   },
   "source": [
    "**Задание 1.5 (0.5 балла).** Получилось ли у вас стабилизировать обучение? Помогли ли меньшие значения `lr`? Стало ли лучше от замены классификации на регрессию? Как вы думаете, почему так происходит? В качестве подсказки можете посмотреть на распределение целевой переменной и магнитуду значений признаков.\n",
    "\n",
    "**Ответ:** \n",
    "- MSE на валидации составил 184.12, что лучше, чем предыдущая модель 195.12, но всё ещё хуже Ridge-регрессии (89.75) и константного прогноза (117.83).Тем не менее, прогресс есть. Модель начала обучаться осмысленно, в отличие от первой попытки, где loss на тесте не уменьшался.\n",
    "\n",
    "- SGD чувствителен к величине learning rate. Слишком большой learning rate приводил к \"перескакиванию\" минимума и нестабильному градиенту. Поэтому MSE получались nan.\n",
    "\n",
    "- Предсказывать год выпуска - это задача регрессии, и теперь модель решает её корректно. В отличие от классификатора, регрессионная модель учитывает непрерывность и дает численный ответ, который мы можем оптимизировать с помощью MSE.\n",
    "\n",
    "- Года выпуска песен распределены неравномерно: у нас имеется рост количества песен ближе к 2000. В этом случае модель может смещаться в сторону моды, плохо предсказывая редкие года. Это может объяснить, почему константный прогноз работает лучше. Также заметим, что признаки имеют большой разброс, а это означает, что градиенты и веса будут неравномерно обновляться. Это особенно критично для SGD. Поэтому необходимо отмасштабировать все признаки, чтобы модель не пе"
   ]
  },
  {
   "cell_type": "markdown",
   "id": "tested-cleaners",
   "metadata": {
    "id": "tested-cleaners"
   },
   "source": [
    "**Задание 1.6 (0.75 балла).** Начнем с того, что попробуем отнормировать целевую переменную. Для этого воспользуемся min-max нормализацией, чтобы целевая переменная принимала значения от 0 до 1. Реализуйте функции `normalize` и `denormalize`, которые, соответственно, нормируют целевую переменную и применяют обратное преобразование. Минимум и максимум оцените по обучающей выборке (то есть эти константы должны быть фиксированными и не зависеть от передаваемой выборки)."
   ]
  },
  {
   "cell_type": "code",
   "execution_count": null,
   "id": "downtown-stake",
   "metadata": {
    "id": "downtown-stake"
   },
   "outputs": [],
   "source": [
    "def normalize(sample):\n",
    "    \"\"\"\n",
    "    Min-max normalization to convert sample to [0, 1] range\n",
    "    \"\"\"\n",
    "    # YOUR CODE HERE (－.－)...zzzZZZzzzZZZ\n",
    "    pass\n",
    "\n",
    "\n",
    "def denormalize(sample):\n",
    "    \"\"\"\n",
    "    Denormalize sample from [0, 1] to initial range\n",
    "    \"\"\"\n",
    "    # YOUR CODE HERE (－.－)...zzzZZZzzzZZZ\n",
    "    pass"
   ]
  },
  {
   "cell_type": "markdown",
   "id": "official-booking",
   "metadata": {
    "id": "official-booking"
   },
   "source": [
    "Теперь повторите эксперимент из **задания 1.4**, обучаясь на нормированной целевой переменной. Сделаем также еще одно изменение: добавим [сигмоидную активацию](https://pytorch.org/docs/stable/generated/torch.nn.Sigmoid.html) после последнего линейного слоя сети. Таким образом мы гарантируем, что нейронная сеть предсказывает числа из промежутка $[0, 1]$. Использование активации - довольно распространенный прием, когда мы хотим получить числа из определенного диапазона значений. "
   ]
  },
  {
   "cell_type": "code",
   "execution_count": null,
   "id": "olive-brick",
   "metadata": {
    "id": "olive-brick"
   },
   "outputs": [],
   "source": [
    "# YOUR CODE HERE (－.－)...zzzZZZzzzZZZ"
   ]
  },
  {
   "cell_type": "markdown",
   "id": "twenty-pulse",
   "metadata": {
    "id": "twenty-pulse"
   },
   "source": [
    "**Задание 1.7 (0.5 балла).** Сравните результаты этого эксперимента с предыдущим запуском. \n",
    "\n",
    "**Ответ:** ..."
   ]
  },
  {
   "cell_type": "markdown",
   "id": "colonial-slovakia",
   "metadata": {
    "id": "colonial-slovakia"
   },
   "source": [
    "**Задание 1.8 (0.75 балла).** На этот раз попробуем отнормировать не только целевую переменную, но и сами данные, которые подаются сети на вход. Для них будем использовать нормализацию через среднее и стандартное отклонение. Преобразуйте данные и повторите прошлый эксперимент. Скорее всего, имеет смысл увеличить число эпох обучения."
   ]
  },
  {
   "cell_type": "code",
   "execution_count": null,
   "id": "prospective-disabled",
   "metadata": {
    "id": "prospective-disabled"
   },
   "outputs": [],
   "source": [
    "# YOUR CODE HERE (－.－)...zzzZZZzzzZZZ"
   ]
  },
  {
   "cell_type": "markdown",
   "id": "opponent-decision",
   "metadata": {
    "id": "opponent-decision"
   },
   "source": [
    "Если вы все сделали правильно, то у вас должно было получиться качество, сравнимое с `Ridge` регрессией.\n",
    "\n",
    "**Мораль:** как видите, нам пришлось сделать очень много хитрых телодвижений, чтобы нейронная сеть работала хотя бы так же, как и простая линейная модель. Здесь, конечно, показан совсем экстремальный случай, когда без нормализации данных нейронная сеть просто не учится. Как правило, в реальности завести нейронную сеть из коробки не очень сложно, но вот заставить ее работать на полную &mdash; куда более трудоемкая задача. Написание пайплайнов обучения нейросетевых моделей требует большой аккуратности, а дебаг часто превращается в угадайку. К счастью, очень часто на помощь приходит интуиция, и мы надеемся, что вы сможете выработать ее в течение нашего курса. Начнем с двух советов, которые стоит принять на вооружение:\n",
    "\n",
    "- Обязательно начинаем любые эксперименты с бейзлайнов: без них мы бы не поняли, что нейронная сеть не учится в принципе.\n",
    "- При постановке эксперментов старайтесь делать минимальное количество изменений за раз (в идеале одно!): только так можно понять, какие конкретно изменения влияют на результат."
   ]
  },
  {
   "cell_type": "markdown",
   "id": "royal-cholesterol",
   "metadata": {
    "id": "royal-cholesterol"
   },
   "source": [
    "## Часть 2. Улучшаем нейронную сеть (5 баллов)\n",
    "\n",
    "Продолжим экспериментировать с нейронной сетью, чтобы добиться еще лучшего качества."
   ]
  },
  {
   "cell_type": "markdown",
   "id": "ignored-active",
   "metadata": {
    "id": "ignored-active"
   },
   "source": [
    "**Задание 2.1 (1 балл).** Давайте попробуем другие оптимизаторы. Обучите нейросеть с помощью SGD+momentum и Adam. Опишите свои наблюдения и в дальнейших запусках используйте лучший оптимизатор. Для Adam обычно берут learning rate поменьше, в районе $10^{-3}$."
   ]
  },
  {
   "cell_type": "code",
   "execution_count": null,
   "id": "eastern-gnome",
   "metadata": {
    "id": "eastern-gnome"
   },
   "outputs": [],
   "source": [
    "# YOUR CODE HERE (－.－)...zzzZZZzzzZZZ"
   ]
  },
  {
   "cell_type": "markdown",
   "id": "hispanic-postage",
   "metadata": {
    "id": "hispanic-postage"
   },
   "source": [
    "**Задание 2.2 (1 балл).** Теперь сделаем нашу нейронную сеть более сложной. Попробуйте сделать сеть:\n",
    "\n",
    "- более широкой (то есть увеличить размерность скрытого слоя, например, вдвое)\n",
    "- более глубокой (то есть добавить еще один скрытый слой)\n",
    "\n",
    "Опишите, как увеличение числа параметров модели влияет на качество на обучающей и валидационной выборках."
   ]
  },
  {
   "cell_type": "code",
   "execution_count": null,
   "id": "1d466362",
   "metadata": {
    "id": "1d466362"
   },
   "outputs": [],
   "source": [
    "# YOUR CODE HERE (－.－)...zzzZZZzzzZZZ"
   ]
  },
  {
   "cell_type": "markdown",
   "id": "454acdb1",
   "metadata": {
    "id": "454acdb1"
   },
   "source": [
    "**Задание 2.3 (1 балл).** Как вы должны были заметить, более сложная модель стала сильнее переобучаться. Попробуем добавить в обучение регуляризацию, чтобы бороться с переобучением. Добавьте слой дропаута ([`nn.Dropout`](https://pytorch.org/docs/stable/generated/torch.nn.Dropout.html#torch.nn.Dropout)) с параметром $p=0.2$ после каждого линейного слоя, кроме последнего. Почитать про дропаут можете в следующем [блогпосте](https://medium.com/@amarbudhiraja/https-medium-com-amarbudhiraja-learning-less-to-learn-better-dropout-in-deep-machine-learning-74334da4bfc5) или в оригинальной [статье](https://jmlr.org/papers/volume15/srivastava14a/srivastava14a.pdf)\n",
    "\n",
    "Опишите результаты. "
   ]
  },
  {
   "cell_type": "code",
   "execution_count": null,
   "id": "483a941a",
   "metadata": {},
   "outputs": [],
   "source": [
    "# YOUR CODE HERE (－.－)...zzzZZZzzzZZZ"
   ]
  },
  {
   "cell_type": "markdown",
   "id": "9dcbadcc",
   "metadata": {
    "id": "9dcbadcc"
   },
   "source": [
    "**Задание 2.4 (1.5 балла).** Теперь, когда мы определились с выбором архитектуры нейронной сети, пора заняться рутиной DL-инженера &mdash; перебором гиперпараметров. Подберите оптимальное значение lr по значению MSE на валидации (по логарифмической сетке, достаточно посмотреть 3-4 значения), можете воспользоваться `verbose=False` в функции `train_and_validate`.\n",
    "\n",
    "Также подберем оптимальное значение параметра weight decay для данного lr. Weight decay &mdash; это аналог L2-регуляризации для нейронных сетей. Почитать о нем можно, например, [здесь](https://paperswithcode.com/method/weight-decay). В PyTorch он задается как параметр оптимизатора `weight_decay`. Подберите оптимальное значение weight decay по логарифимической сетке (его типичные значения лежат в диапазоне $[10^{-6}, 10^{-3}]$, но не забудьте включить нулевое значение в сетку).\n",
    "\n",
    "Постройте графики зависимости MSE на трейне и на валидации от значений параметров. Прокомментируйте получившиеся зависимости."
   ]
  },
  {
   "cell_type": "code",
   "execution_count": null,
   "id": "8UqadoheOQSu",
   "metadata": {
    "id": "8UqadoheOQSu"
   },
   "outputs": [],
   "source": [
    "# YOUR CODE HERE (－.－)...zzzZZZzzzZZZ"
   ]
  },
  {
   "cell_type": "markdown",
   "id": "8nk3dvibo6SE",
   "metadata": {
    "id": "8nk3dvibo6SE"
   },
   "source": [
    "Как вы могли заметить, еще одна рутина DL-инженера &mdash; утомительное ожидание обучения моделей.\n",
    "\n",
    "**Задание 2.5 (0.5 балла).** Мы провели большое число экспериментов и подобрали оптимальную архитектуру и гиперпараметры. Пришло время обучить модель на полной обучающей выборке, померять качество на тестовой выборке и сравнить с бейзлайнами. Проделайте это. "
   ]
  },
  {
   "cell_type": "code",
   "execution_count": null,
   "id": "pR4FJ4PYYajk",
   "metadata": {
    "id": "pR4FJ4PYYajk"
   },
   "outputs": [],
   "source": [
    "# YOUR CODE HERE (－.－)...zzzZZZzzzZZZ"
   ]
  }
 ],
 "metadata": {
  "colab": {
   "collapsed_sections": [],
   "provenance": []
  },
  "kernelspec": {
   "display_name": "Python 3 (ipykernel)",
   "language": "python",
   "name": "python3"
  },
  "language_info": {
   "codemirror_mode": {
    "name": "ipython",
    "version": 3
   },
   "file_extension": ".py",
   "mimetype": "text/x-python",
   "name": "python",
   "nbconvert_exporter": "python",
   "pygments_lexer": "ipython3",
   "version": "3.11.7"
  },
  "widgets": {
   "application/vnd.jupyter.widget-state+json": {
    "state": {
     "030633418dd143918528136d79e6eccf": {
      "model_module": "@jupyter-widgets/controls",
      "model_module_version": "2.0.0",
      "model_name": "FloatProgressModel",
      "state": {
       "bar_style": "success",
       "layout": "IPY_MODEL_cc3fad4f5dc541778f79ec7408d53b5e",
       "max": 3020,
       "style": "IPY_MODEL_7cb6aee562674e28845f819b1d763079",
       "value": 3020
      }
     },
     "043c3160c3e1446484c5e875a65119fa": {
      "model_module": "@jupyter-widgets/base",
      "model_module_version": "2.0.0",
      "model_name": "LayoutModel",
      "state": {}
     },
     "0854a7af3d234bf6a753cfd4d8be506e": {
      "model_module": "@jupyter-widgets/base",
      "model_module_version": "2.0.0",
      "model_name": "LayoutModel",
      "state": {}
     },
     "08c5c7370a5e4f47ba253da7e5b442d4": {
      "model_module": "@jupyter-widgets/controls",
      "model_module_version": "2.0.0",
      "model_name": "HBoxModel",
      "state": {
       "children": [
        "IPY_MODEL_3454f266477b4c7a8ec1d614725e6a6f",
        "IPY_MODEL_86bbb326b3f746cba8acd4bb31e3a397",
        "IPY_MODEL_1aac4464fd264e79802fca04a5acdadb"
       ],
       "layout": "IPY_MODEL_cfc7eb707c3145d6bd88f534a1578707"
      }
     },
     "0fb0903f1fe34b52a9ff167373c4f5d4": {
      "model_module": "@jupyter-widgets/controls",
      "model_module_version": "2.0.0",
      "model_name": "HTMLModel",
      "state": {
       "layout": "IPY_MODEL_8332acfe74d54369bb7284730574622a",
       "style": "IPY_MODEL_13013c59ad1b4cb8aa98c5b26c11bb2a",
       "value": " 9059/9059 [00:13&lt;00:00, 604.68it/s, loss=430, MSE=430]"
      }
     },
     "12d0ebaa7b9742d3a72cf376e5051f0e": {
      "model_module": "@jupyter-widgets/base",
      "model_module_version": "2.0.0",
      "model_name": "LayoutModel",
      "state": {}
     },
     "13013c59ad1b4cb8aa98c5b26c11bb2a": {
      "model_module": "@jupyter-widgets/controls",
      "model_module_version": "2.0.0",
      "model_name": "HTMLStyleModel",
      "state": {
       "description_width": "",
       "font_size": null,
       "text_color": null
      }
     },
     "16e38d15c1d9479eb6ef1c33bf1e1df5": {
      "model_module": "@jupyter-widgets/controls",
      "model_module_version": "2.0.0",
      "model_name": "HTMLStyleModel",
      "state": {
       "description_width": "",
       "font_size": null,
       "text_color": null
      }
     },
     "1a31a235826f4b4f98f2c9b7b1cc9d08": {
      "model_module": "@jupyter-widgets/controls",
      "model_module_version": "2.0.0",
      "model_name": "HTMLStyleModel",
      "state": {
       "description_width": "",
       "font_size": null,
       "text_color": null
      }
     },
     "1a7d575f38044facb5857bab0db91be1": {
      "model_module": "@jupyter-widgets/controls",
      "model_module_version": "2.0.0",
      "model_name": "ProgressStyleModel",
      "state": {
       "description_width": ""
      }
     },
     "1aac4464fd264e79802fca04a5acdadb": {
      "model_module": "@jupyter-widgets/controls",
      "model_module_version": "2.0.0",
      "model_name": "HTMLModel",
      "state": {
       "layout": "IPY_MODEL_fed11699b5b046da90b10c595d48c91d",
       "style": "IPY_MODEL_e3d922ad76bf43e1a74494d339166b8c",
       "value": " 3020/3020 [00:03&lt;00:00, 935.33it/s, loss=234, MSE=234]"
      }
     },
     "1e3e0366549d4f168bacc656fbfc5629": {
      "model_module": "@jupyter-widgets/controls",
      "model_module_version": "2.0.0",
      "model_name": "HTMLStyleModel",
      "state": {
       "description_width": "",
       "font_size": null,
       "text_color": null
      }
     },
     "1ea3424d4c404be3b653e5658b5a20f5": {
      "model_module": "@jupyter-widgets/controls",
      "model_module_version": "2.0.0",
      "model_name": "ProgressStyleModel",
      "state": {
       "description_width": ""
      }
     },
     "211034c2705a4bc7adeaee94e65ad047": {
      "model_module": "@jupyter-widgets/controls",
      "model_module_version": "2.0.0",
      "model_name": "ProgressStyleModel",
      "state": {
       "description_width": ""
      }
     },
     "2206ce4a75d94f54bfa1b8baa1778b34": {
      "model_module": "@jupyter-widgets/controls",
      "model_module_version": "2.0.0",
      "model_name": "HTMLStyleModel",
      "state": {
       "description_width": "",
       "font_size": null,
       "text_color": null
      }
     },
     "29d28ddbd2a6403585d2ed3d70fecccb": {
      "model_module": "@jupyter-widgets/base",
      "model_module_version": "2.0.0",
      "model_name": "LayoutModel",
      "state": {}
     },
     "2d8ab27d9f894a4bafb07b3220703f4d": {
      "model_module": "@jupyter-widgets/base",
      "model_module_version": "2.0.0",
      "model_name": "LayoutModel",
      "state": {}
     },
     "30324819e5b04f4b979b1ea1817977a4": {
      "model_module": "@jupyter-widgets/controls",
      "model_module_version": "2.0.0",
      "model_name": "HBoxModel",
      "state": {
       "children": [
        "IPY_MODEL_7860fc7b333a4dbbb3f4032dffa89b12",
        "IPY_MODEL_e4490eced0b14543bd007053d9337207",
        "IPY_MODEL_d5bc3d7055b1471097eee65c1dee3139"
       ],
       "layout": "IPY_MODEL_29d28ddbd2a6403585d2ed3d70fecccb"
      }
     },
     "31aac89a6f6b4ef883eb9631d97ca6ce": {
      "model_module": "@jupyter-widgets/base",
      "model_module_version": "2.0.0",
      "model_name": "LayoutModel",
      "state": {}
     },
     "31d0b2afecaa4576bc37d944fb8b3deb": {
      "model_module": "@jupyter-widgets/controls",
      "model_module_version": "2.0.0",
      "model_name": "HBoxModel",
      "state": {
       "children": [
        "IPY_MODEL_b53ce52272f74e119983b9f224d963c2",
        "IPY_MODEL_f60d0d1e2c4f4d8784ff02d94ef968b9",
        "IPY_MODEL_44f000c595ff4ef2a2125beae6d70b49"
       ],
       "layout": "IPY_MODEL_5a76674f50ce417694c7ec3ef703724d"
      }
     },
     "3432b11ec0f7417f9a0504f43a811e06": {
      "model_module": "@jupyter-widgets/base",
      "model_module_version": "2.0.0",
      "model_name": "LayoutModel",
      "state": {}
     },
     "3454f266477b4c7a8ec1d614725e6a6f": {
      "model_module": "@jupyter-widgets/controls",
      "model_module_version": "2.0.0",
      "model_name": "HTMLModel",
      "state": {
       "layout": "IPY_MODEL_c52d6c00ad2944c094089a7670620a38",
       "style": "IPY_MODEL_16e38d15c1d9479eb6ef1c33bf1e1df5",
       "value": "Validating 4/4: 100%"
      }
     },
     "3604e47cca4a4480a4faf9a40467dcd4": {
      "model_module": "@jupyter-widgets/controls",
      "model_module_version": "2.0.0",
      "model_name": "HTMLModel",
      "state": {
       "layout": "IPY_MODEL_3be6504992ce4c37b33a650f32c7b75b",
       "style": "IPY_MODEL_36e137d3164347648b2b4f57c0d98323",
       "value": " 3020/3020 [00:02&lt;00:00, 1114.67it/s, loss=462, MSE=462]"
      }
     },
     "362603207ad643c398d3498305a7c2f9": {
      "model_module": "@jupyter-widgets/base",
      "model_module_version": "2.0.0",
      "model_name": "LayoutModel",
      "state": {}
     },
     "36e137d3164347648b2b4f57c0d98323": {
      "model_module": "@jupyter-widgets/controls",
      "model_module_version": "2.0.0",
      "model_name": "HTMLStyleModel",
      "state": {
       "description_width": "",
       "font_size": null,
       "text_color": null
      }
     },
     "3723aec242bb4a1f8b4a7ed6bab1e53f": {
      "model_module": "@jupyter-widgets/base",
      "model_module_version": "2.0.0",
      "model_name": "LayoutModel",
      "state": {}
     },
     "375efdf6da5b416fb3e52b9262ce0880": {
      "model_module": "@jupyter-widgets/base",
      "model_module_version": "2.0.0",
      "model_name": "LayoutModel",
      "state": {}
     },
     "37715755ab024d849ff2e81da590ffd0": {
      "model_module": "@jupyter-widgets/base",
      "model_module_version": "2.0.0",
      "model_name": "LayoutModel",
      "state": {}
     },
     "381978461c6944fbaba7b10435916013": {
      "model_module": "@jupyter-widgets/base",
      "model_module_version": "2.0.0",
      "model_name": "LayoutModel",
      "state": {}
     },
     "39eb99ed5a2b450a8c3fdeb273e7a086": {
      "model_module": "@jupyter-widgets/controls",
      "model_module_version": "2.0.0",
      "model_name": "HTMLModel",
      "state": {
       "layout": "IPY_MODEL_043c3160c3e1446484c5e875a65119fa",
       "style": "IPY_MODEL_c552899495d24019b47aa29d4781eb24",
       "value": " 3020/3020 [00:02&lt;00:00, 1092.22it/s, loss=520, MSE=520]"
      }
     },
     "3be6504992ce4c37b33a650f32c7b75b": {
      "model_module": "@jupyter-widgets/base",
      "model_module_version": "2.0.0",
      "model_name": "LayoutModel",
      "state": {}
     },
     "44f000c595ff4ef2a2125beae6d70b49": {
      "model_module": "@jupyter-widgets/controls",
      "model_module_version": "2.0.0",
      "model_name": "HTMLModel",
      "state": {
       "layout": "IPY_MODEL_7d31fe2188484e11beec6bc9d3db16f5",
       "style": "IPY_MODEL_1e3e0366549d4f168bacc656fbfc5629",
       "value": " 9059/9059 [00:12&lt;00:00, 690.11it/s, loss=393, MSE=393]"
      }
     },
     "4bd96ee2f5df4e9fa8cc8bce180a6f4b": {
      "model_module": "@jupyter-widgets/controls",
      "model_module_version": "2.0.0",
      "model_name": "HTMLStyleModel",
      "state": {
       "description_width": "",
       "font_size": null,
       "text_color": null
      }
     },
     "4c4a461b0941461ab473db31007ef41d": {
      "model_module": "@jupyter-widgets/base",
      "model_module_version": "2.0.0",
      "model_name": "LayoutModel",
      "state": {}
     },
     "501f891690204931bf5b8f73d97d297b": {
      "model_module": "@jupyter-widgets/base",
      "model_module_version": "2.0.0",
      "model_name": "LayoutModel",
      "state": {}
     },
     "5396de7072714ebb866fd124c66bacc4": {
      "model_module": "@jupyter-widgets/base",
      "model_module_version": "2.0.0",
      "model_name": "LayoutModel",
      "state": {}
     },
     "55ae3cca8ecc4166a087ced6d1d36db7": {
      "model_module": "@jupyter-widgets/controls",
      "model_module_version": "2.0.0",
      "model_name": "HBoxModel",
      "state": {
       "children": [
        "IPY_MODEL_aa2d38114cfc48faa0ff400f73fc7c7f",
        "IPY_MODEL_e689add8ab584cfca5f41925f49c04a7",
        "IPY_MODEL_ae4b851dd6054686a73abc64fb314dca"
       ],
       "layout": "IPY_MODEL_c7e8cbdb75de4f04b67eee77520e49d6"
      }
     },
     "5960d492e0824d929166d0eb2dcd16e5": {
      "model_module": "@jupyter-widgets/base",
      "model_module_version": "2.0.0",
      "model_name": "LayoutModel",
      "state": {}
     },
     "5a76674f50ce417694c7ec3ef703724d": {
      "model_module": "@jupyter-widgets/base",
      "model_module_version": "2.0.0",
      "model_name": "LayoutModel",
      "state": {}
     },
     "5cb91528c72a472c997cbba7b257aed4": {
      "model_module": "@jupyter-widgets/base",
      "model_module_version": "2.0.0",
      "model_name": "LayoutModel",
      "state": {}
     },
     "60451bea72ba4b9ebefd8d1dc99e7a08": {
      "model_module": "@jupyter-widgets/controls",
      "model_module_version": "2.0.0",
      "model_name": "HTMLStyleModel",
      "state": {
       "description_width": "",
       "font_size": null,
       "text_color": null
      }
     },
     "629929d306124efb9758a6faaed0580f": {
      "model_module": "@jupyter-widgets/controls",
      "model_module_version": "2.0.0",
      "model_name": "HTMLModel",
      "state": {
       "layout": "IPY_MODEL_6e853c2e7fba45cf8cb087996fe7a88f",
       "style": "IPY_MODEL_1a31a235826f4b4f98f2c9b7b1cc9d08",
       "value": "Training 3/4: 100%"
      }
     },
     "6a0719106a4442fd81d27ee2ddafb1f1": {
      "model_module": "@jupyter-widgets/controls",
      "model_module_version": "2.0.0",
      "model_name": "HTMLStyleModel",
      "state": {
       "description_width": "",
       "font_size": null,
       "text_color": null
      }
     },
     "6e853c2e7fba45cf8cb087996fe7a88f": {
      "model_module": "@jupyter-widgets/base",
      "model_module_version": "2.0.0",
      "model_name": "LayoutModel",
      "state": {}
     },
     "71ffd7d07f4a490ab32e361870236a13": {
      "model_module": "@jupyter-widgets/controls",
      "model_module_version": "2.0.0",
      "model_name": "HTMLStyleModel",
      "state": {
       "description_width": "",
       "font_size": null,
       "text_color": null
      }
     },
     "7410a38415d44779bc6dbe460289dfa3": {
      "model_module": "@jupyter-widgets/controls",
      "model_module_version": "2.0.0",
      "model_name": "HBoxModel",
      "state": {
       "children": [
        "IPY_MODEL_82a6771e6ac64690921b1f4cb82764c6",
        "IPY_MODEL_e4a39dc516654cc9a7b41aff0ebca29a",
        "IPY_MODEL_0fb0903f1fe34b52a9ff167373c4f5d4"
       ],
       "layout": "IPY_MODEL_e6f131ed88c14037aed7a801e4394c88"
      }
     },
     "75344b6664214c48beafa9f8b539725e": {
      "model_module": "@jupyter-widgets/controls",
      "model_module_version": "2.0.0",
      "model_name": "HBoxModel",
      "state": {
       "children": [
        "IPY_MODEL_629929d306124efb9758a6faaed0580f",
        "IPY_MODEL_913ae11c1df544bd94f68c2998c2a212",
        "IPY_MODEL_e6afb4b05764468a918a0b2e23b9bddc"
       ],
       "layout": "IPY_MODEL_c1cfcb61c1d042be95d90600e99deb24"
      }
     },
     "75679b3fce2942f4894828f168bb861e": {
      "model_module": "@jupyter-widgets/base",
      "model_module_version": "2.0.0",
      "model_name": "LayoutModel",
      "state": {}
     },
     "7860fc7b333a4dbbb3f4032dffa89b12": {
      "model_module": "@jupyter-widgets/controls",
      "model_module_version": "2.0.0",
      "model_name": "HTMLModel",
      "state": {
       "layout": "IPY_MODEL_362603207ad643c398d3498305a7c2f9",
       "style": "IPY_MODEL_2206ce4a75d94f54bfa1b8baa1778b34",
       "value": "Validating 3/4: 100%"
      }
     },
     "7b84560b1a1f4b7fa44b27e91ed870f6": {
      "model_module": "@jupyter-widgets/controls",
      "model_module_version": "2.0.0",
      "model_name": "HTMLStyleModel",
      "state": {
       "description_width": "",
       "font_size": null,
       "text_color": null
      }
     },
     "7cb6aee562674e28845f819b1d763079": {
      "model_module": "@jupyter-widgets/controls",
      "model_module_version": "2.0.0",
      "model_name": "ProgressStyleModel",
      "state": {
       "description_width": ""
      }
     },
     "7d31fe2188484e11beec6bc9d3db16f5": {
      "model_module": "@jupyter-widgets/base",
      "model_module_version": "2.0.0",
      "model_name": "LayoutModel",
      "state": {}
     },
     "7e574dfb512844d8b721e2d6bfd73d53": {
      "model_module": "@jupyter-widgets/controls",
      "model_module_version": "2.0.0",
      "model_name": "ProgressStyleModel",
      "state": {
       "description_width": ""
      }
     },
     "7e8d7148879c4eaa91686563ed6dba4b": {
      "model_module": "@jupyter-widgets/base",
      "model_module_version": "2.0.0",
      "model_name": "LayoutModel",
      "state": {}
     },
     "820d3b227bac422a9245ba45b03c2adc": {
      "model_module": "@jupyter-widgets/base",
      "model_module_version": "2.0.0",
      "model_name": "LayoutModel",
      "state": {}
     },
     "82a6771e6ac64690921b1f4cb82764c6": {
      "model_module": "@jupyter-widgets/controls",
      "model_module_version": "2.0.0",
      "model_name": "HTMLModel",
      "state": {
       "layout": "IPY_MODEL_0854a7af3d234bf6a753cfd4d8be506e",
       "style": "IPY_MODEL_6a0719106a4442fd81d27ee2ddafb1f1",
       "value": "Training 4/4: 100%"
      }
     },
     "8332acfe74d54369bb7284730574622a": {
      "model_module": "@jupyter-widgets/base",
      "model_module_version": "2.0.0",
      "model_name": "LayoutModel",
      "state": {}
     },
     "86bbb326b3f746cba8acd4bb31e3a397": {
      "model_module": "@jupyter-widgets/controls",
      "model_module_version": "2.0.0",
      "model_name": "FloatProgressModel",
      "state": {
       "bar_style": "success",
       "layout": "IPY_MODEL_375efdf6da5b416fb3e52b9262ce0880",
       "max": 3020,
       "style": "IPY_MODEL_1a7d575f38044facb5857bab0db91be1",
       "value": 3020
      }
     },
     "8a370cccb7a646338afa0d0f29cb55f0": {
      "model_module": "@jupyter-widgets/controls",
      "model_module_version": "2.0.0",
      "model_name": "HTMLModel",
      "state": {
       "layout": "IPY_MODEL_5960d492e0824d929166d0eb2dcd16e5",
       "style": "IPY_MODEL_dedab53e68e443dea54912cf483c30c9",
       "value": "Validating 1/4: 100%"
      }
     },
     "8e2b978a3ff449af93d566cfdc3bc1b5": {
      "model_module": "@jupyter-widgets/controls",
      "model_module_version": "2.0.0",
      "model_name": "HTMLStyleModel",
      "state": {
       "description_width": "",
       "font_size": null,
       "text_color": null
      }
     },
     "913ae11c1df544bd94f68c2998c2a212": {
      "model_module": "@jupyter-widgets/controls",
      "model_module_version": "2.0.0",
      "model_name": "FloatProgressModel",
      "state": {
       "bar_style": "success",
       "layout": "IPY_MODEL_7e8d7148879c4eaa91686563ed6dba4b",
       "max": 9059,
       "style": "IPY_MODEL_1ea3424d4c404be3b653e5658b5a20f5",
       "value": 9059
      }
     },
     "9b4e1a7e54f347d995e89e108228f483": {
      "model_module": "@jupyter-widgets/controls",
      "model_module_version": "2.0.0",
      "model_name": "ProgressStyleModel",
      "state": {
       "description_width": ""
      }
     },
     "9d7106bbd04640fab9eaf1f63db0e32d": {
      "model_module": "@jupyter-widgets/controls",
      "model_module_version": "2.0.0",
      "model_name": "HTMLModel",
      "state": {
       "layout": "IPY_MODEL_37715755ab024d849ff2e81da590ffd0",
       "style": "IPY_MODEL_71ffd7d07f4a490ab32e361870236a13",
       "value": "Validating 2/4: 100%"
      }
     },
     "a52331622aa94293a5b00e05b7a50cd1": {
      "model_module": "@jupyter-widgets/controls",
      "model_module_version": "2.0.0",
      "model_name": "ProgressStyleModel",
      "state": {
       "description_width": ""
      }
     },
     "aa2d38114cfc48faa0ff400f73fc7c7f": {
      "model_module": "@jupyter-widgets/controls",
      "model_module_version": "2.0.0",
      "model_name": "HTMLModel",
      "state": {
       "layout": "IPY_MODEL_75679b3fce2942f4894828f168bb861e",
       "style": "IPY_MODEL_60451bea72ba4b9ebefd8d1dc99e7a08",
       "value": "Training 1/4: 100%"
      }
     },
     "ae4b851dd6054686a73abc64fb314dca": {
      "model_module": "@jupyter-widgets/controls",
      "model_module_version": "2.0.0",
      "model_name": "HTMLModel",
      "state": {
       "layout": "IPY_MODEL_3432b11ec0f7417f9a0504f43a811e06",
       "style": "IPY_MODEL_eb7ee5bce2754c4f9b4be5fae6e939f9",
       "value": " 9059/9059 [00:15&lt;00:00, 699.27it/s, loss=595, MSE=595]"
      }
     },
     "b53ce52272f74e119983b9f224d963c2": {
      "model_module": "@jupyter-widgets/controls",
      "model_module_version": "2.0.0",
      "model_name": "HTMLModel",
      "state": {
       "layout": "IPY_MODEL_5396de7072714ebb866fd124c66bacc4",
       "style": "IPY_MODEL_4bd96ee2f5df4e9fa8cc8bce180a6f4b",
       "value": "Training 2/4: 100%"
      }
     },
     "c1cfcb61c1d042be95d90600e99deb24": {
      "model_module": "@jupyter-widgets/base",
      "model_module_version": "2.0.0",
      "model_name": "LayoutModel",
      "state": {}
     },
     "c52d6c00ad2944c094089a7670620a38": {
      "model_module": "@jupyter-widgets/base",
      "model_module_version": "2.0.0",
      "model_name": "LayoutModel",
      "state": {}
     },
     "c552899495d24019b47aa29d4781eb24": {
      "model_module": "@jupyter-widgets/controls",
      "model_module_version": "2.0.0",
      "model_name": "HTMLStyleModel",
      "state": {
       "description_width": "",
       "font_size": null,
       "text_color": null
      }
     },
     "c7e8cbdb75de4f04b67eee77520e49d6": {
      "model_module": "@jupyter-widgets/base",
      "model_module_version": "2.0.0",
      "model_name": "LayoutModel",
      "state": {}
     },
     "cc3fad4f5dc541778f79ec7408d53b5e": {
      "model_module": "@jupyter-widgets/base",
      "model_module_version": "2.0.0",
      "model_name": "LayoutModel",
      "state": {}
     },
     "cfc7eb707c3145d6bd88f534a1578707": {
      "model_module": "@jupyter-widgets/base",
      "model_module_version": "2.0.0",
      "model_name": "LayoutModel",
      "state": {}
     },
     "d5bc3d7055b1471097eee65c1dee3139": {
      "model_module": "@jupyter-widgets/controls",
      "model_module_version": "2.0.0",
      "model_name": "HTMLModel",
      "state": {
       "layout": "IPY_MODEL_4c4a461b0941461ab473db31007ef41d",
       "style": "IPY_MODEL_8e2b978a3ff449af93d566cfdc3bc1b5",
       "value": " 3020/3020 [00:02&lt;00:00, 1129.19it/s, loss=474, MSE=474]"
      }
     },
     "dedab53e68e443dea54912cf483c30c9": {
      "model_module": "@jupyter-widgets/controls",
      "model_module_version": "2.0.0",
      "model_name": "HTMLStyleModel",
      "state": {
       "description_width": "",
       "font_size": null,
       "text_color": null
      }
     },
     "dee38647787746be885951930ed99596": {
      "model_module": "@jupyter-widgets/controls",
      "model_module_version": "2.0.0",
      "model_name": "ProgressStyleModel",
      "state": {
       "description_width": ""
      }
     },
     "e0954222eaa34ec6bdf828fba4f07cd3": {
      "model_module": "@jupyter-widgets/controls",
      "model_module_version": "2.0.0",
      "model_name": "HBoxModel",
      "state": {
       "children": [
        "IPY_MODEL_9d7106bbd04640fab9eaf1f63db0e32d",
        "IPY_MODEL_e1c5c691313b472b8a8dcb55f80c4e27",
        "IPY_MODEL_3604e47cca4a4480a4faf9a40467dcd4"
       ],
       "layout": "IPY_MODEL_5cb91528c72a472c997cbba7b257aed4"
      }
     },
     "e1c5c691313b472b8a8dcb55f80c4e27": {
      "model_module": "@jupyter-widgets/controls",
      "model_module_version": "2.0.0",
      "model_name": "FloatProgressModel",
      "state": {
       "bar_style": "success",
       "layout": "IPY_MODEL_3723aec242bb4a1f8b4a7ed6bab1e53f",
       "max": 3020,
       "style": "IPY_MODEL_dee38647787746be885951930ed99596",
       "value": 3020
      }
     },
     "e3d922ad76bf43e1a74494d339166b8c": {
      "model_module": "@jupyter-widgets/controls",
      "model_module_version": "2.0.0",
      "model_name": "HTMLStyleModel",
      "state": {
       "description_width": "",
       "font_size": null,
       "text_color": null
      }
     },
     "e4490eced0b14543bd007053d9337207": {
      "model_module": "@jupyter-widgets/controls",
      "model_module_version": "2.0.0",
      "model_name": "FloatProgressModel",
      "state": {
       "bar_style": "success",
       "layout": "IPY_MODEL_820d3b227bac422a9245ba45b03c2adc",
       "max": 3020,
       "style": "IPY_MODEL_a52331622aa94293a5b00e05b7a50cd1",
       "value": 3020
      }
     },
     "e4a39dc516654cc9a7b41aff0ebca29a": {
      "model_module": "@jupyter-widgets/controls",
      "model_module_version": "2.0.0",
      "model_name": "FloatProgressModel",
      "state": {
       "bar_style": "success",
       "layout": "IPY_MODEL_501f891690204931bf5b8f73d97d297b",
       "max": 9059,
       "style": "IPY_MODEL_9b4e1a7e54f347d995e89e108228f483",
       "value": 9059
      }
     },
     "e689add8ab584cfca5f41925f49c04a7": {
      "model_module": "@jupyter-widgets/controls",
      "model_module_version": "2.0.0",
      "model_name": "FloatProgressModel",
      "state": {
       "bar_style": "success",
       "layout": "IPY_MODEL_2d8ab27d9f894a4bafb07b3220703f4d",
       "max": 9059,
       "style": "IPY_MODEL_7e574dfb512844d8b721e2d6bfd73d53",
       "value": 9059
      }
     },
     "e6afb4b05764468a918a0b2e23b9bddc": {
      "model_module": "@jupyter-widgets/controls",
      "model_module_version": "2.0.0",
      "model_name": "HTMLModel",
      "state": {
       "layout": "IPY_MODEL_381978461c6944fbaba7b10435916013",
       "style": "IPY_MODEL_7b84560b1a1f4b7fa44b27e91ed870f6",
       "value": " 9059/9059 [00:12&lt;00:00, 723.87it/s, loss=209, MSE=209]"
      }
     },
     "e6f131ed88c14037aed7a801e4394c88": {
      "model_module": "@jupyter-widgets/base",
      "model_module_version": "2.0.0",
      "model_name": "LayoutModel",
      "state": {}
     },
     "eb7ee5bce2754c4f9b4be5fae6e939f9": {
      "model_module": "@jupyter-widgets/controls",
      "model_module_version": "2.0.0",
      "model_name": "HTMLStyleModel",
      "state": {
       "description_width": "",
       "font_size": null,
       "text_color": null
      }
     },
     "f02393bcd7a44032996bb87904a5aea8": {
      "model_module": "@jupyter-widgets/controls",
      "model_module_version": "2.0.0",
      "model_name": "HBoxModel",
      "state": {
       "children": [
        "IPY_MODEL_8a370cccb7a646338afa0d0f29cb55f0",
        "IPY_MODEL_030633418dd143918528136d79e6eccf",
        "IPY_MODEL_39eb99ed5a2b450a8c3fdeb273e7a086"
       ],
       "layout": "IPY_MODEL_12d0ebaa7b9742d3a72cf376e5051f0e"
      }
     },
     "f60d0d1e2c4f4d8784ff02d94ef968b9": {
      "model_module": "@jupyter-widgets/controls",
      "model_module_version": "2.0.0",
      "model_name": "FloatProgressModel",
      "state": {
       "bar_style": "success",
       "layout": "IPY_MODEL_31aac89a6f6b4ef883eb9631d97ca6ce",
       "max": 9059,
       "style": "IPY_MODEL_211034c2705a4bc7adeaee94e65ad047",
       "value": 9059
      }
     },
     "fed11699b5b046da90b10c595d48c91d": {
      "model_module": "@jupyter-widgets/base",
      "model_module_version": "2.0.0",
      "model_name": "LayoutModel",
      "state": {}
     }
    },
    "version_major": 2,
    "version_minor": 0
   }
  }
 },
 "nbformat": 4,
 "nbformat_minor": 5
}
