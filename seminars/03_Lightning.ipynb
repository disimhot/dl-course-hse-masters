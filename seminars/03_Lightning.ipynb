{
 "cells": [
  {
   "cell_type": "markdown",
   "metadata": {
    "id": "JlQl9ihB5T9p"
   },
   "source": [
    "# Семинар 4: Методы оптимизации, PyTorch Lightning\n",
    "\n",
    "## Вступление\n",
    "На предыдущем курсе мы обсуждали с вами методы градиентного спуска и стохастического градиентного спуска. Для нейронных сетей обычно используют более продвинутые методы оптимизации, которые основаны на известном нам градиентном спуске. Сегодня мы посмотрим на то, как использовать их в **PyTorch**, а также разберём библиотеку **PyTorch Lightning**, позволяющую сократить количество кода, которое нам приходится писать на **PyTorch**.\n",
    "\n",
    "### План семинара\n",
    "1. Оптимизируем функцию одной переменной в **PyTorch**\n",
    "2. Изучаем разные методы оптимизации\n",
    "3. Работаем с PyTorch Optimizer\n",
    "4. Работаем с PyTorch Scheduler\n",
    "5. PyTorch VS PyTorch Lightning\n",
    "6. Сравнением работу разных оптимизаторов"
   ]
  },
  {
   "cell_type": "code",
   "execution_count": 1,
   "metadata": {
    "id": "X9-5GA_L5T9q",
    "colab": {
     "base_uri": "https://localhost:8080/"
    },
    "outputId": "4026f9db-e596-4d37-d219-aec0bfaa6b5e"
   },
   "outputs": [
    {
     "output_type": "stream",
     "name": "stdout",
     "text": [
      "Collecting pytorch_lightning\n",
      "  Downloading pytorch_lightning-2.5.1-py3-none-any.whl.metadata (20 kB)\n",
      "Collecting torchmetrics\n",
      "  Downloading torchmetrics-1.7.1-py3-none-any.whl.metadata (21 kB)\n",
      "Requirement already satisfied: torchvision in /usr/local/lib/python3.11/dist-packages (0.21.0+cu124)\n",
      "Requirement already satisfied: torch>=2.1.0 in /usr/local/lib/python3.11/dist-packages (from pytorch_lightning) (2.6.0+cu124)\n",
      "Requirement already satisfied: tqdm>=4.57.0 in /usr/local/lib/python3.11/dist-packages (from pytorch_lightning) (4.67.1)\n",
      "Requirement already satisfied: PyYAML>=5.4 in /usr/local/lib/python3.11/dist-packages (from pytorch_lightning) (6.0.2)\n",
      "Requirement already satisfied: fsspec>=2022.5.0 in /usr/local/lib/python3.11/dist-packages (from fsspec[http]>=2022.5.0->pytorch_lightning) (2025.3.2)\n",
      "Requirement already satisfied: packaging>=20.0 in /usr/local/lib/python3.11/dist-packages (from pytorch_lightning) (24.2)\n",
      "Requirement already satisfied: typing-extensions>=4.4.0 in /usr/local/lib/python3.11/dist-packages (from pytorch_lightning) (4.13.1)\n",
      "Collecting lightning-utilities>=0.10.0 (from pytorch_lightning)\n",
      "  Downloading lightning_utilities-0.14.3-py3-none-any.whl.metadata (5.6 kB)\n",
      "Requirement already satisfied: numpy>1.20.0 in /usr/local/lib/python3.11/dist-packages (from torchmetrics) (2.0.2)\n",
      "Requirement already satisfied: pillow!=8.3.*,>=5.3.0 in /usr/local/lib/python3.11/dist-packages (from torchvision) (11.1.0)\n",
      "Requirement already satisfied: filelock in /usr/local/lib/python3.11/dist-packages (from torch>=2.1.0->pytorch_lightning) (3.18.0)\n",
      "Requirement already satisfied: networkx in /usr/local/lib/python3.11/dist-packages (from torch>=2.1.0->pytorch_lightning) (3.4.2)\n",
      "Requirement already satisfied: jinja2 in /usr/local/lib/python3.11/dist-packages (from torch>=2.1.0->pytorch_lightning) (3.1.6)\n",
      "Collecting nvidia-cuda-nvrtc-cu12==12.4.127 (from torch>=2.1.0->pytorch_lightning)\n",
      "  Downloading nvidia_cuda_nvrtc_cu12-12.4.127-py3-none-manylinux2014_x86_64.whl.metadata (1.5 kB)\n",
      "Collecting nvidia-cuda-runtime-cu12==12.4.127 (from torch>=2.1.0->pytorch_lightning)\n",
      "  Downloading nvidia_cuda_runtime_cu12-12.4.127-py3-none-manylinux2014_x86_64.whl.metadata (1.5 kB)\n",
      "Collecting nvidia-cuda-cupti-cu12==12.4.127 (from torch>=2.1.0->pytorch_lightning)\n",
      "  Downloading nvidia_cuda_cupti_cu12-12.4.127-py3-none-manylinux2014_x86_64.whl.metadata (1.6 kB)\n",
      "Collecting nvidia-cudnn-cu12==9.1.0.70 (from torch>=2.1.0->pytorch_lightning)\n",
      "  Downloading nvidia_cudnn_cu12-9.1.0.70-py3-none-manylinux2014_x86_64.whl.metadata (1.6 kB)\n",
      "Collecting nvidia-cublas-cu12==12.4.5.8 (from torch>=2.1.0->pytorch_lightning)\n",
      "  Downloading nvidia_cublas_cu12-12.4.5.8-py3-none-manylinux2014_x86_64.whl.metadata (1.5 kB)\n",
      "Collecting nvidia-cufft-cu12==11.2.1.3 (from torch>=2.1.0->pytorch_lightning)\n",
      "  Downloading nvidia_cufft_cu12-11.2.1.3-py3-none-manylinux2014_x86_64.whl.metadata (1.5 kB)\n",
      "Collecting nvidia-curand-cu12==10.3.5.147 (from torch>=2.1.0->pytorch_lightning)\n",
      "  Downloading nvidia_curand_cu12-10.3.5.147-py3-none-manylinux2014_x86_64.whl.metadata (1.5 kB)\n",
      "Collecting nvidia-cusolver-cu12==11.6.1.9 (from torch>=2.1.0->pytorch_lightning)\n",
      "  Downloading nvidia_cusolver_cu12-11.6.1.9-py3-none-manylinux2014_x86_64.whl.metadata (1.6 kB)\n",
      "Collecting nvidia-cusparse-cu12==12.3.1.170 (from torch>=2.1.0->pytorch_lightning)\n",
      "  Downloading nvidia_cusparse_cu12-12.3.1.170-py3-none-manylinux2014_x86_64.whl.metadata (1.6 kB)\n",
      "Requirement already satisfied: nvidia-cusparselt-cu12==0.6.2 in /usr/local/lib/python3.11/dist-packages (from torch>=2.1.0->pytorch_lightning) (0.6.2)\n",
      "Requirement already satisfied: nvidia-nccl-cu12==2.21.5 in /usr/local/lib/python3.11/dist-packages (from torch>=2.1.0->pytorch_lightning) (2.21.5)\n",
      "Requirement already satisfied: nvidia-nvtx-cu12==12.4.127 in /usr/local/lib/python3.11/dist-packages (from torch>=2.1.0->pytorch_lightning) (12.4.127)\n",
      "Collecting nvidia-nvjitlink-cu12==12.4.127 (from torch>=2.1.0->pytorch_lightning)\n",
      "  Downloading nvidia_nvjitlink_cu12-12.4.127-py3-none-manylinux2014_x86_64.whl.metadata (1.5 kB)\n",
      "Requirement already satisfied: triton==3.2.0 in /usr/local/lib/python3.11/dist-packages (from torch>=2.1.0->pytorch_lightning) (3.2.0)\n",
      "Requirement already satisfied: sympy==1.13.1 in /usr/local/lib/python3.11/dist-packages (from torch>=2.1.0->pytorch_lightning) (1.13.1)\n",
      "Requirement already satisfied: mpmath<1.4,>=1.1.0 in /usr/local/lib/python3.11/dist-packages (from sympy==1.13.1->torch>=2.1.0->pytorch_lightning) (1.3.0)\n",
      "Requirement already satisfied: aiohttp!=4.0.0a0,!=4.0.0a1 in /usr/local/lib/python3.11/dist-packages (from fsspec[http]>=2022.5.0->pytorch_lightning) (3.11.15)\n",
      "Requirement already satisfied: setuptools in /usr/local/lib/python3.11/dist-packages (from lightning-utilities>=0.10.0->pytorch_lightning) (75.2.0)\n",
      "Requirement already satisfied: aiohappyeyeballs>=2.3.0 in /usr/local/lib/python3.11/dist-packages (from aiohttp!=4.0.0a0,!=4.0.0a1->fsspec[http]>=2022.5.0->pytorch_lightning) (2.6.1)\n",
      "Requirement already satisfied: aiosignal>=1.1.2 in /usr/local/lib/python3.11/dist-packages (from aiohttp!=4.0.0a0,!=4.0.0a1->fsspec[http]>=2022.5.0->pytorch_lightning) (1.3.2)\n",
      "Requirement already satisfied: attrs>=17.3.0 in /usr/local/lib/python3.11/dist-packages (from aiohttp!=4.0.0a0,!=4.0.0a1->fsspec[http]>=2022.5.0->pytorch_lightning) (25.3.0)\n",
      "Requirement already satisfied: frozenlist>=1.1.1 in /usr/local/lib/python3.11/dist-packages (from aiohttp!=4.0.0a0,!=4.0.0a1->fsspec[http]>=2022.5.0->pytorch_lightning) (1.5.0)\n",
      "Requirement already satisfied: multidict<7.0,>=4.5 in /usr/local/lib/python3.11/dist-packages (from aiohttp!=4.0.0a0,!=4.0.0a1->fsspec[http]>=2022.5.0->pytorch_lightning) (6.3.2)\n",
      "Requirement already satisfied: propcache>=0.2.0 in /usr/local/lib/python3.11/dist-packages (from aiohttp!=4.0.0a0,!=4.0.0a1->fsspec[http]>=2022.5.0->pytorch_lightning) (0.3.1)\n",
      "Requirement already satisfied: yarl<2.0,>=1.17.0 in /usr/local/lib/python3.11/dist-packages (from aiohttp!=4.0.0a0,!=4.0.0a1->fsspec[http]>=2022.5.0->pytorch_lightning) (1.18.3)\n",
      "Requirement already satisfied: MarkupSafe>=2.0 in /usr/local/lib/python3.11/dist-packages (from jinja2->torch>=2.1.0->pytorch_lightning) (3.0.2)\n",
      "Requirement already satisfied: idna>=2.0 in /usr/local/lib/python3.11/dist-packages (from yarl<2.0,>=1.17.0->aiohttp!=4.0.0a0,!=4.0.0a1->fsspec[http]>=2022.5.0->pytorch_lightning) (3.10)\n",
      "Downloading pytorch_lightning-2.5.1-py3-none-any.whl (822 kB)\n",
      "\u001b[2K   \u001b[90m━━━━━━━━━━━━━━━━━━━━━━━━━━━━━━━━━━━━━━━━\u001b[0m \u001b[32m823.0/823.0 kB\u001b[0m \u001b[31m18.3 MB/s\u001b[0m eta \u001b[36m0:00:00\u001b[0m\n",
      "\u001b[?25hDownloading torchmetrics-1.7.1-py3-none-any.whl (961 kB)\n",
      "\u001b[2K   \u001b[90m━━━━━━━━━━━━━━━━━━━━━━━━━━━━━━━━━━━━━━━━\u001b[0m \u001b[32m961.5/961.5 kB\u001b[0m \u001b[31m53.6 MB/s\u001b[0m eta \u001b[36m0:00:00\u001b[0m\n",
      "\u001b[?25hDownloading nvidia_cublas_cu12-12.4.5.8-py3-none-manylinux2014_x86_64.whl (363.4 MB)\n",
      "\u001b[2K   \u001b[90m━━━━━━━━━━━━━━━━━━━━━━━━━━━━━━━━━━━━━━━━\u001b[0m \u001b[32m363.4/363.4 MB\u001b[0m \u001b[31m3.3 MB/s\u001b[0m eta \u001b[36m0:00:00\u001b[0m\n",
      "\u001b[?25hDownloading nvidia_cuda_cupti_cu12-12.4.127-py3-none-manylinux2014_x86_64.whl (13.8 MB)\n",
      "\u001b[2K   \u001b[90m━━━━━━━━━━━━━━━━━━━━━━━━━━━━━━━━━━━━━━━━\u001b[0m \u001b[32m13.8/13.8 MB\u001b[0m \u001b[31m33.5 MB/s\u001b[0m eta \u001b[36m0:00:00\u001b[0m\n",
      "\u001b[?25hDownloading nvidia_cuda_nvrtc_cu12-12.4.127-py3-none-manylinux2014_x86_64.whl (24.6 MB)\n",
      "\u001b[2K   \u001b[90m━━━━━━━━━━━━━━━━━━━━━━━━━━━━━━━━━━━━━━━━\u001b[0m \u001b[32m24.6/24.6 MB\u001b[0m \u001b[31m22.4 MB/s\u001b[0m eta \u001b[36m0:00:00\u001b[0m\n",
      "\u001b[?25hDownloading nvidia_cuda_runtime_cu12-12.4.127-py3-none-manylinux2014_x86_64.whl (883 kB)\n",
      "\u001b[2K   \u001b[90m━━━━━━━━━━━━━━━━━━━━━━━━━━━━━━━━━━━━━━━━\u001b[0m \u001b[32m883.7/883.7 kB\u001b[0m \u001b[31m39.9 MB/s\u001b[0m eta \u001b[36m0:00:00\u001b[0m\n",
      "\u001b[?25hDownloading nvidia_cudnn_cu12-9.1.0.70-py3-none-manylinux2014_x86_64.whl (664.8 MB)\n",
      "\u001b[2K   \u001b[90m━━━━━━━━━━━━━━━━━━━━━━━━━━━━━━━━━━━━━━━━\u001b[0m \u001b[32m664.8/664.8 MB\u001b[0m \u001b[31m2.1 MB/s\u001b[0m eta \u001b[36m0:00:00\u001b[0m\n",
      "\u001b[?25hDownloading nvidia_cufft_cu12-11.2.1.3-py3-none-manylinux2014_x86_64.whl (211.5 MB)\n",
      "\u001b[2K   \u001b[90m━━━━━━━━━━━━━━━━━━━━━━━━━━━━━━━━━━━━━━━━\u001b[0m \u001b[32m211.5/211.5 MB\u001b[0m \u001b[31m5.7 MB/s\u001b[0m eta \u001b[36m0:00:00\u001b[0m\n",
      "\u001b[?25hDownloading nvidia_curand_cu12-10.3.5.147-py3-none-manylinux2014_x86_64.whl (56.3 MB)\n",
      "\u001b[2K   \u001b[90m━━━━━━━━━━━━━━━━━━━━━━━━━━━━━━━━━━━━━━━━\u001b[0m \u001b[32m56.3/56.3 MB\u001b[0m \u001b[31m12.4 MB/s\u001b[0m eta \u001b[36m0:00:00\u001b[0m\n",
      "\u001b[?25hDownloading nvidia_cusolver_cu12-11.6.1.9-py3-none-manylinux2014_x86_64.whl (127.9 MB)\n",
      "\u001b[2K   \u001b[90m━━━━━━━━━━━━━━━━━━━━━━━━━━━━━━━━━━━━━━━━\u001b[0m \u001b[32m127.9/127.9 MB\u001b[0m \u001b[31m7.1 MB/s\u001b[0m eta \u001b[36m0:00:00\u001b[0m\n",
      "\u001b[?25hDownloading nvidia_cusparse_cu12-12.3.1.170-py3-none-manylinux2014_x86_64.whl (207.5 MB)\n",
      "\u001b[2K   \u001b[90m━━━━━━━━━━━━━━━━━━━━━━━━━━━━━━━━━━━━━━━━\u001b[0m \u001b[32m207.5/207.5 MB\u001b[0m \u001b[31m5.6 MB/s\u001b[0m eta \u001b[36m0:00:00\u001b[0m\n",
      "\u001b[?25hDownloading nvidia_nvjitlink_cu12-12.4.127-py3-none-manylinux2014_x86_64.whl (21.1 MB)\n",
      "\u001b[2K   \u001b[90m━━━━━━━━━━━━━━━━━━━━━━━━━━━━━━━━━━━━━━━━\u001b[0m \u001b[32m21.1/21.1 MB\u001b[0m \u001b[31m66.5 MB/s\u001b[0m eta \u001b[36m0:00:00\u001b[0m\n",
      "\u001b[?25hDownloading lightning_utilities-0.14.3-py3-none-any.whl (28 kB)\n",
      "Installing collected packages: nvidia-nvjitlink-cu12, nvidia-curand-cu12, nvidia-cufft-cu12, nvidia-cuda-runtime-cu12, nvidia-cuda-nvrtc-cu12, nvidia-cuda-cupti-cu12, nvidia-cublas-cu12, lightning-utilities, nvidia-cusparse-cu12, nvidia-cudnn-cu12, nvidia-cusolver-cu12, torchmetrics, pytorch_lightning\n",
      "  Attempting uninstall: nvidia-nvjitlink-cu12\n",
      "    Found existing installation: nvidia-nvjitlink-cu12 12.5.82\n",
      "    Uninstalling nvidia-nvjitlink-cu12-12.5.82:\n",
      "      Successfully uninstalled nvidia-nvjitlink-cu12-12.5.82\n",
      "  Attempting uninstall: nvidia-curand-cu12\n",
      "    Found existing installation: nvidia-curand-cu12 10.3.6.82\n",
      "    Uninstalling nvidia-curand-cu12-10.3.6.82:\n",
      "      Successfully uninstalled nvidia-curand-cu12-10.3.6.82\n",
      "  Attempting uninstall: nvidia-cufft-cu12\n",
      "    Found existing installation: nvidia-cufft-cu12 11.2.3.61\n",
      "    Uninstalling nvidia-cufft-cu12-11.2.3.61:\n",
      "      Successfully uninstalled nvidia-cufft-cu12-11.2.3.61\n",
      "  Attempting uninstall: nvidia-cuda-runtime-cu12\n",
      "    Found existing installation: nvidia-cuda-runtime-cu12 12.5.82\n",
      "    Uninstalling nvidia-cuda-runtime-cu12-12.5.82:\n",
      "      Successfully uninstalled nvidia-cuda-runtime-cu12-12.5.82\n",
      "  Attempting uninstall: nvidia-cuda-nvrtc-cu12\n",
      "    Found existing installation: nvidia-cuda-nvrtc-cu12 12.5.82\n",
      "    Uninstalling nvidia-cuda-nvrtc-cu12-12.5.82:\n",
      "      Successfully uninstalled nvidia-cuda-nvrtc-cu12-12.5.82\n",
      "  Attempting uninstall: nvidia-cuda-cupti-cu12\n",
      "    Found existing installation: nvidia-cuda-cupti-cu12 12.5.82\n",
      "    Uninstalling nvidia-cuda-cupti-cu12-12.5.82:\n",
      "      Successfully uninstalled nvidia-cuda-cupti-cu12-12.5.82\n",
      "  Attempting uninstall: nvidia-cublas-cu12\n",
      "    Found existing installation: nvidia-cublas-cu12 12.5.3.2\n",
      "    Uninstalling nvidia-cublas-cu12-12.5.3.2:\n",
      "      Successfully uninstalled nvidia-cublas-cu12-12.5.3.2\n",
      "  Attempting uninstall: nvidia-cusparse-cu12\n",
      "    Found existing installation: nvidia-cusparse-cu12 12.5.1.3\n",
      "    Uninstalling nvidia-cusparse-cu12-12.5.1.3:\n",
      "      Successfully uninstalled nvidia-cusparse-cu12-12.5.1.3\n",
      "  Attempting uninstall: nvidia-cudnn-cu12\n",
      "    Found existing installation: nvidia-cudnn-cu12 9.3.0.75\n",
      "    Uninstalling nvidia-cudnn-cu12-9.3.0.75:\n",
      "      Successfully uninstalled nvidia-cudnn-cu12-9.3.0.75\n",
      "  Attempting uninstall: nvidia-cusolver-cu12\n",
      "    Found existing installation: nvidia-cusolver-cu12 11.6.3.83\n",
      "    Uninstalling nvidia-cusolver-cu12-11.6.3.83:\n",
      "      Successfully uninstalled nvidia-cusolver-cu12-11.6.3.83\n",
      "Successfully installed lightning-utilities-0.14.3 nvidia-cublas-cu12-12.4.5.8 nvidia-cuda-cupti-cu12-12.4.127 nvidia-cuda-nvrtc-cu12-12.4.127 nvidia-cuda-runtime-cu12-12.4.127 nvidia-cudnn-cu12-9.1.0.70 nvidia-cufft-cu12-11.2.1.3 nvidia-curand-cu12-10.3.5.147 nvidia-cusolver-cu12-11.6.1.9 nvidia-cusparse-cu12-12.3.1.170 nvidia-nvjitlink-cu12-12.4.127 pytorch_lightning-2.5.1 torchmetrics-1.7.1\n"
     ]
    }
   ],
   "source": [
    "!pip install pytorch_lightning torchmetrics torchvision"
   ]
  },
  {
   "cell_type": "code",
   "execution_count": 2,
   "metadata": {
    "id": "lUJcEdalKlZn"
   },
   "outputs": [],
   "source": [
    "import os\n",
    "import random\n",
    "import sys\n",
    "\n",
    "import matplotlib.pyplot as plt\n",
    "import numpy as np\n",
    "import torch\n",
    "from tqdm import tqdm"
   ]
  },
  {
   "cell_type": "code",
   "execution_count": 3,
   "metadata": {
    "id": "PGd36K4dlgL5"
   },
   "outputs": [],
   "source": [
    "def seed_everything(seed):\n",
    "    # фискирует максимум сидов для корректности сравнения разных экспериментов\n",
    "    random.seed(seed)\n",
    "    os.environ[\"PYTHONHASHSEED\"] = str(seed)\n",
    "    np.random.seed(seed)\n",
    "    torch.manual_seed(seed)\n",
    "    torch.cuda.manual_seed(seed)\n",
    "    torch.backends.cudnn.deterministic = True\n",
    "\n",
    "\n",
    "seed_everything(0xBADBEEF)\n",
    "device = torch.device(\"cuda\") if torch.cuda.is_available() else torch.device(\"cpu\")"
   ]
  },
  {
   "cell_type": "markdown",
   "metadata": {
    "id": "2YmhZSXV4EBp"
   },
   "source": [
    "## PyTorch VS PyTorch Lightning\n",
    "\n",
    "**PyTorch Lightning** это фреймворк для организованной работы с **PyTorch**. В нем упрощена работа по:\n",
    "- Написанию тренировочного цикла\n",
    "- Написанию датасетов\n",
    "- Использованию gpu/tpu/ipu/hpu и тд\n",
    "- Переводу моделей в формат ONNX\n",
    "- И многому другому\n",
    "\n",
    "Фреймворк призван оставить юзеру возможность конфигурировать параметры и проводить эксперименты, а остальное он возьмет на себя. Давайте сравним код на **PyTorch** без и с использованием **Lightning** на примере несложной нейросети на датасете FashionMNIST."
   ]
  },
  {
   "cell_type": "code",
   "execution_count": 4,
   "metadata": {
    "id": "xZEZIiu05T95"
   },
   "outputs": [],
   "source": [
    "from collections import defaultdict, namedtuple\n",
    "\n",
    "import pytorch_lightning as pl\n",
    "import torchvision\n",
    "import torchvision.transforms as transforms\n",
    "from torch.utils.data import DataLoader\n",
    "\n",
    "# крутая библиотека с кучей метрик \"из коробки\"\n",
    "from torchmetrics.functional import accuracy"
   ]
  },
  {
   "cell_type": "markdown",
   "metadata": {
    "id": "IVYuHkoa5T96"
   },
   "source": [
    "### Данные (общее)"
   ]
  },
  {
   "cell_type": "code",
   "execution_count": 5,
   "metadata": {
    "id": "hHAHgGdeKlau",
    "colab": {
     "base_uri": "https://localhost:8080/"
    },
    "outputId": "8bd40d4a-0296-4c48-a7bb-d354920b904c"
   },
   "outputs": [
    {
     "output_type": "stream",
     "name": "stderr",
     "text": [
      "100%|██████████| 26.4M/26.4M [00:01<00:00, 13.3MB/s]\n",
      "100%|██████████| 29.5k/29.5k [00:00<00:00, 212kB/s]\n",
      "100%|██████████| 4.42M/4.42M [00:01<00:00, 3.88MB/s]\n",
      "100%|██████████| 5.15k/5.15k [00:00<00:00, 13.4MB/s]\n",
      "/usr/local/lib/python3.11/dist-packages/torch/utils/data/dataloader.py:624: UserWarning: This DataLoader will create 4 worker processes in total. Our suggested max number of worker in current system is 2, which is smaller than what this DataLoader is going to create. Please be aware that excessive worker creation might get DataLoader running slow or even freeze, lower the worker number to avoid potential slowness/freeze if necessary.\n",
      "  warnings.warn(\n"
     ]
    }
   ],
   "source": [
    "# Train data\n",
    "fashion_mnist_train = torchvision.datasets.FashionMNIST(\n",
    "    \"./data\", download=True, transform=transforms.Compose([transforms.ToTensor()])\n",
    ")\n",
    "train_dataloader = DataLoader(\n",
    "    fashion_mnist_train, batch_size=128, shuffle=True, num_workers=4\n",
    ")\n",
    "\n",
    "# Validation data\n",
    "fashion_mnist_val = torchvision.datasets.FashionMNIST(\n",
    "    \"./data\",\n",
    "    train=False,\n",
    "    download=True,\n",
    "    transform=transforms.Compose([transforms.ToTensor()]),\n",
    ")\n",
    "val_dataloader = DataLoader(fashion_mnist_val, batch_size=128, num_workers=4)"
   ]
  },
  {
   "cell_type": "code",
   "execution_count": 6,
   "metadata": {
    "id": "Sr1MKTjBKlaw"
   },
   "outputs": [],
   "source": [
    "idx_to_label = defaultdict(\n",
    "    None,\n",
    "    {\n",
    "        0: \"T-shirt/Top\",\n",
    "        1: \"Trouser\",\n",
    "        2: \"Pullover\",\n",
    "        3: \"Dress\",\n",
    "        4: \"Coat\",\n",
    "        5: \"Sandal\",\n",
    "        6: \"Shirt\",\n",
    "        7: \"Sneaker\",\n",
    "        8: \"Bag\",\n",
    "        9: \"Ankle Boot\",\n",
    "    },\n",
    ")"
   ]
  },
  {
   "cell_type": "code",
   "execution_count": 7,
   "metadata": {
    "colab": {
     "base_uri": "https://localhost:8080/",
     "height": 879
    },
    "id": "KQfTpcB05ZcB",
    "outputId": "843f548e-f35c-4c6b-e139-8f80b3a2d35c"
   },
   "outputs": [
    {
     "output_type": "stream",
     "name": "stdout",
     "text": [
      "Ankle Boot\n"
     ]
    },
    {
     "output_type": "display_data",
     "data": {
      "text/plain": [
       "<Figure size 640x480 with 1 Axes>"
      ],
      "image/png": "[encoded data removed]"
     },
     "metadata": {}
    },
    {
     "output_type": "stream",
     "name": "stdout",
     "text": [
      "Coat\n"
     ]
    },
    {
     "output_type": "display_data",
     "data": {
      "text/plain": [
       "<Figure size 640x480 with 1 Axes>"
      ],
      "image/png": "[encoded data removed]"
     },
     "metadata": {}
    }
   ],
   "source": [
    "### pictures are normalized\n",
    "for batch in val_dataloader:\n",
    "    # batch_size is 128\n",
    "    images, class_nums = batch\n",
    "    print(idx_to_label[int(class_nums[0])])\n",
    "    plt.imshow(images[0].squeeze())\n",
    "    plt.show()\n",
    "    print(idx_to_label[int(class_nums[127])])\n",
    "    plt.imshow(images[127].squeeze())\n",
    "    plt.show()\n",
    "    break"
   ]
  },
  {
   "cell_type": "markdown",
   "metadata": {
    "id": "Q6Mf1W49f2Fv"
   },
   "source": [
    "### Модель (общее)\n",
    "\n",
    "Создайте класс модели по следующей схеме:\n",
    "\n",
    "1. BatchNorm\n",
    "2. Conv(out=32, kernel=3) -> ReLu -> MaxPool(kernel=2)\n",
    "3. BatchNorm\n",
    "4. Conv(out=64, kernel=3) -> ReLu -> MaxPool(kernel=2)\n",
    "5. Flatten\n",
    "6. Linear(out=128)\n",
    "7. ReLu\n",
    "8. Dropout\n",
    "9. Linear(out=64)\n",
    "10. ReLu\n",
    "11. Linear(out=10)"
   ]
  },
  {
   "cell_type": "code",
   "execution_count": 8,
   "metadata": {
    "id": "QkHmFRSkKlay"
   },
   "outputs": [],
   "source": [
    "class SimpleNet(torch.nn.Module):\n",
    "    def __init__(self, dropout=0.4):\n",
    "        super().__init__()\n",
    "        # TODO:\n",
    "        # Your code here:\n",
    "        # --------------\n",
    "        self.batch_norm1 = torch.nn.BatchNorm2d(1)\n",
    "\n",
    "        self.relu = torch.nn.ReLU()\n",
    "\n",
    "        self.maxpool = torch.nn.MaxPool2d(kernel_size=2)\n",
    "\n",
    "        self.conv1 = torch.nn.Sequential(\n",
    "            torch.nn.Conv2d(in_channels=1, out_channels=32, kernel_size=3),\n",
    "            self.relu,\n",
    "            self.maxpool,\n",
    "        )\n",
    "        self.batch_norm2 = torch.nn.BatchNorm2d(32)\n",
    "\n",
    "        self.conv2 = torch.nn.Sequential(\n",
    "            torch.nn.Conv2d(in_channels=32, out_channels=64, kernel_size=3),\n",
    "            self.relu,\n",
    "            self.maxpool,\n",
    "        )\n",
    "\n",
    "        self.linear1 = torch.nn.Linear(in_features=64 * 5 * 5, out_features=128)\n",
    "        self.linear2 = torch.nn.Linear(in_features=128, out_features=64)\n",
    "\n",
    "        self.output = torch.nn.Linear(in_features=64, out_features=10)\n",
    "\n",
    "        self.dropout = torch.nn.Dropout(p=dropout)\n",
    "\n",
    "        # --------------\n",
    "        self.loss_func = torch.nn.CrossEntropyLoss()\n",
    "        self.targets = torch.Tensor()\n",
    "        self.preds = torch.Tensor()\n",
    "\n",
    "    def _forward(self, x):\n",
    "        # runs the neural network\n",
    "        # TODO:\n",
    "        # Your code here\n",
    "        # --------------\n",
    "        x = self.batch_norm1(x)\n",
    "        x = self.conv1(x)\n",
    "\n",
    "        x = self.batch_norm2(x)\n",
    "        x = self.conv2(x)\n",
    "\n",
    "        x = x.view(x.size(0), -1)\n",
    "        x = self.relu(self.linear1(x))\n",
    "        x = self.dropout(x)\n",
    "        x = self.relu(self.linear2(x))\n",
    "\n",
    "        return self.output(x)\n",
    "        # --------------\n",
    "\n",
    "    def forward(self, images, target=None):\n",
    "        # images ~ (batch size, num channels, height, width)\n",
    "        # target ~ (batch size)\n",
    "        # output ~ (batch size, num classes)\n",
    "        output = self._forward(images)\n",
    "\n",
    "        # get accuracy score and save it to self.accuracy\n",
    "        if target is not None:\n",
    "            loss = self.loss_func(output, target)\n",
    "\n",
    "            self.targets = torch.cat((self.targets, target.cpu()), 0)\n",
    "            pred = torch.argmax(output, dim=-1)\n",
    "            self.preds = torch.cat((self.preds, pred.cpu()), 0)\n",
    "            self.accuracy = accuracy(\n",
    "                self.preds.long(),\n",
    "                self.targets.long(),\n",
    "                task=\"multiclass\",\n",
    "                num_classes=10,\n",
    "            )\n",
    "\n",
    "        return loss if target is not None else output\n",
    "\n",
    "    def get_accuracy(self, reset=False):\n",
    "        # return accuracy by all values till now\n",
    "        if reset:\n",
    "            self.targets = torch.Tensor()\n",
    "            self.preds = torch.Tensor()\n",
    "        return self.accuracy"
   ]
  },
  {
   "cell_type": "markdown",
   "metadata": {
    "id": "zRuVz6TXFANc"
   },
   "source": [
    "### Гиперпараметры"
   ]
  },
  {
   "cell_type": "code",
   "execution_count": 9,
   "metadata": {
    "id": "6xmAPz91FAZb"
   },
   "outputs": [],
   "source": [
    "LossInfo = namedtuple(\n",
    "    \"LossInfo\", [\"full_train_losses\", \"train_epoch_losses\", \"eval_epoch_losses\"]\n",
    ")\n",
    "EPOCHS = 10\n",
    "LR = 0.001"
   ]
  },
  {
   "cell_type": "markdown",
   "metadata": {
    "id": "MkLsRtR2-U6d"
   },
   "source": [
    "### Тренировочные циклы (PyTorch)\n",
    "\n",
    "Здесь нам надо будет объявить функции `train_epoch`, `validate`, `fit`.\n",
    "Структура, напомним, выглядит, в упрощенном виде, так:\n",
    "```\n",
    "def train_epoch():\n",
    "    for batch in train_loader:\n",
    "        train_model_on_batch()\n",
    "def validate():\n",
    "    for batch in val_loader:\n",
    "        validate_model_on_batch()\n",
    "def fit():\n",
    "    for epoch in range(1, num_epochs):\n",
    "        train_epoch()\n",
    "        validate()\n",
    "```\n",
    "Но на деле это все намного сложнее:"
   ]
  },
  {
   "cell_type": "code",
   "execution_count": 10,
   "metadata": {
    "id": "EKZRgiLPKlaz"
   },
   "outputs": [],
   "source": [
    "def train_epoch(\n",
    "    model,\n",
    "    data_loader,\n",
    "    optimizer,\n",
    "    return_losses=False,\n",
    "    device=\"cuda:0\",\n",
    "):\n",
    "    model = model.train()\n",
    "    total_loss = 0\n",
    "    num_batches = 0\n",
    "    all_losses = []\n",
    "    with tqdm(total=len(data_loader), file=sys.stdout) as prbar:\n",
    "        for batch in data_loader:\n",
    "            # move Batch to GPU\n",
    "            batch = [x.to(device=device) for x in batch]\n",
    "            loss = model(*batch)\n",
    "            # update weights\n",
    "            loss.backward()\n",
    "            optimizer.step()\n",
    "            optimizer.zero_grad()\n",
    "            # update description for tqdm\n",
    "            accuracy = model.get_accuracy()\n",
    "            prbar.set_description(\n",
    "                f\"Loss: {round(loss.item(), 4)} \"\n",
    "                f\"Accuracy: {round(accuracy.item() * 100, 4)}\"\n",
    "            )\n",
    "            prbar.update(1)\n",
    "            total_loss += loss.item()\n",
    "            num_batches += 1\n",
    "            all_losses.append(loss.detach().item())\n",
    "    acc = model.get_accuracy(reset=True)\n",
    "    metrics = {\"loss\": total_loss / num_batches, \"accuracy\": acc}\n",
    "    if return_losses:\n",
    "        return metrics, all_losses\n",
    "    else:\n",
    "        return metrics\n",
    "\n",
    "\n",
    "def validate(model, data_loader, device=\"cuda:0\"):\n",
    "    model = model.eval()\n",
    "    total_loss = 0\n",
    "    num_batches = 0\n",
    "    with tqdm(total=len(data_loader), file=sys.stdout) as prbar:\n",
    "        for batch in data_loader:\n",
    "            batch = [x.to(device=device) for x in batch]\n",
    "            loss = model(*batch)\n",
    "            accuracy = model.get_accuracy()\n",
    "            prbar.set_description(\n",
    "                f\"Loss: {round(loss.item(), 4)} \"\n",
    "                f\"Accuracy: {round(accuracy.item() * 100, 4)}\"\n",
    "            )\n",
    "            prbar.update(1)\n",
    "            total_loss += loss.item()\n",
    "            num_batches += 1\n",
    "    acc = model.get_accuracy(reset=True)\n",
    "    metrics = {\"loss\": total_loss / num_batches, \"accuracy\": acc}\n",
    "    return metrics"
   ]
  },
  {
   "cell_type": "code",
   "execution_count": 11,
   "metadata": {
    "id": "KmOlOzBnKla2"
   },
   "outputs": [],
   "source": [
    "def fit(\n",
    "    model,\n",
    "    epochs,\n",
    "    train_data_loader,\n",
    "    validation_data_loader,\n",
    "    optimizer,\n",
    "    scheduler=None,\n",
    "    device=\"cuda:0\",\n",
    "):\n",
    "    all_train_losses = []\n",
    "    epoch_train_losses = []\n",
    "    epoch_eval_losses = []\n",
    "    for epoch in range(epochs):\n",
    "        # construct iterators\n",
    "        train_iterator = iter(train_data_loader)\n",
    "        validation_iterator = iter(validation_data_loader)\n",
    "        # train step\n",
    "        print(f\"Train Epoch: {epoch}\")\n",
    "        train_metrics, one_epoch_train_losses = train_epoch(\n",
    "            model=model,\n",
    "            data_loader=train_iterator,\n",
    "            optimizer=optimizer,\n",
    "            return_losses=True,\n",
    "            device=device,\n",
    "        )\n",
    "        # save train losses\n",
    "        all_train_losses.extend(one_epoch_train_losses)\n",
    "        epoch_train_losses.append(train_metrics[\"loss\"])\n",
    "        # eval step\n",
    "        print(f\"Validation Epoch: {epoch}\")\n",
    "        with torch.no_grad():\n",
    "            validation_metrics = validate(\n",
    "                model=model, data_loader=validation_iterator, device=device\n",
    "            )\n",
    "        # save eval losses\n",
    "        epoch_eval_losses.append(validation_metrics[\"loss\"])\n",
    "        # scheduler step\n",
    "        if scheduler:\n",
    "            scheduler.step()\n",
    "    return LossInfo(all_train_losses, epoch_train_losses, epoch_eval_losses)"
   ]
  },
  {
   "cell_type": "code",
   "execution_count": 12,
   "metadata": {
    "colab": {
     "base_uri": "https://localhost:8080/"
    },
    "id": "SanI3hS6JQrL",
    "outputId": "a8a19b74-9595-4d20-de61-00bac60d7312"
   },
   "outputs": [
    {
     "output_type": "stream",
     "name": "stdout",
     "text": [
      "Train Epoch: 0\n",
      "Loss: 2.179 Accuracy: 23.7567: 100%|██████████| 469/469 [00:10<00:00, 44.79it/s]\n",
      "Validation Epoch: 0\n",
      "Loss: 2.1955 Accuracy: 51.46: 100%|██████████| 79/79 [00:01<00:00, 69.18it/s]\n"
     ]
    }
   ],
   "source": [
    "# проверим, что всё работает (±1 минута на гпу):\n",
    "model = SimpleNet().to(device)\n",
    "_ = fit(\n",
    "    model=model,\n",
    "    epochs=1,\n",
    "    train_data_loader=train_dataloader,\n",
    "    validation_data_loader=val_dataloader,\n",
    "    optimizer=torch.optim.SGD(model.parameters(), lr=LR),\n",
    "    device=device,\n",
    ")"
   ]
  },
  {
   "cell_type": "markdown",
   "metadata": {
    "id": "3b0XCReZ4w0W"
   },
   "source": [
    "### Тренировочные циклы (Lightning)\n",
    "\n",
    "Здесь будет немного другая структура.\n",
    "\n",
    "1) Создается 1 класс отнаследованный от `pl.LightningModule`. В нем описывается сама модель, необходимые функции тренировчного и валидационного шага.\n",
    "\n",
    "2) Создается объект класса `pl.Trainer` с параметрами (напр. номер гпу, кол-во эпох, град. клиппинг и так далее) дока [тут](https://pytorch-lightning.readthedocs.io/en/latest/api/pytorch_lightning.trainer.trainer.Trainer.html?highlight=trainer) или [тут](https://pytorch-lightning.readthedocs.io/en/latest/common/trainer.html?highlight=trainer#trainer-flags).\n",
    "\n",
    "3) Вызывается `trainer.fit(model, train_loader, val_loader)`.\n",
    "\n",
    "\n",
    "```\n",
    "class MyModule(pl.LightningModule):\n",
    "    def init():\n",
    "        init_model()\n",
    "    def forward():\n",
    "        forward_model()\n",
    "    def training_step():\n",
    "        make_1_training_step()\n",
    "    def validation_step():\n",
    "        make_1_validation_step()\n",
    "\n",
    "trainer = pl.Trainer(gpus=1, max_epochs=10)\n",
    "trainer.fit(model, train_loader, val_loader)\n",
    "```\n",
    "Поскольку у нас уже есть модель `SimpleNet`, то исправлять нам много не надо."
   ]
  },
  {
   "cell_type": "code",
   "execution_count": 13,
   "metadata": {
    "id": "XqO3RxM24urH"
   },
   "outputs": [],
   "source": [
    "# 1) create a LightningModule\n",
    "\n",
    "\n",
    "class SimpleModule(pl.LightningModule):\n",
    "    def __init__(self, model, learning_rate):\n",
    "        super().__init__()\n",
    "        self.model = model\n",
    "        self.learning_rate = learning_rate\n",
    "\n",
    "    def forward(self, x):\n",
    "        result = self.model(x)\n",
    "        return result\n",
    "\n",
    "    def configure_optimizers(self):\n",
    "        optimizer = torch.optim.Adam(self.parameters(), lr=self.learning_rate)\n",
    "        return optimizer\n",
    "\n",
    "    def training_step(self, train_batch, batch_idx):\n",
    "        images, target = train_batch\n",
    "        loss = self.model(images, target)\n",
    "        self.log(\n",
    "            \"train_loss\", loss, prog_bar=True\n",
    "        )  # сохраняет логи в папку, но можно несложно добавить wandb\n",
    "        return loss\n",
    "\n",
    "    def validation_step(self, val_batch, batch_idx):\n",
    "        images, target = val_batch\n",
    "        loss = self.model(images, target)\n",
    "        self.log(\"val_loss\", loss, prog_bar=True)"
   ]
  },
  {
   "cell_type": "code",
   "execution_count": 14,
   "metadata": {
    "colab": {
     "base_uri": "https://localhost:8080/",
     "height": 373,
     "referenced_widgets": [
      "e2e0e6cd0c9e4b79ba26b7106083ea61",
      "df86eb10a75b4548ba52db29822ea00e",
      "c63dc87b5bc64d96bbc21a92d9088afe",
      "7797296bc9e7460791119928899606cd",
      "64fb7e70bf1448ff87cffdd0deb046fb",
      "16dbdc1e70b345bab9f4f543779c7171",
      "5352422a99734f0fa9394eb00c6b4ed2",
      "61510f1c92404e279ec4acb5b54ba2be",
      "474d7d806bf545e682ebb71538a24ae7",
      "d92feef089f94fbfa2342b052c2e3ca7",
      "a0b14ddc0f294fb8a2a2e542c463b0ab",
      "6d1dc29e5f8c4b2e90d9420b9f18e7b1",
      "fef207481c0a4f6f90ad6dbe3417892d",
      "d8b20da87f4d4059bae3d4a7e3fcc16e",
      "fdb96d4613dc4791b1a72b1c0de6b5df",
      "790475b40b89455a9ac22083aa107545",
      "a92f7d706d634229b37eaeb41280a792",
      "b46dc47fe4904b99a0a145fc7643fe89",
      "54643c28cc104f58ab7c25176661758b",
      "a92648e196dc487ca88a39cfc3dc8974",
      "e55965dba5b4457f9e1902bb16ec3719",
      "7b51a5e090a5474491b233c156f833cf",
      "4a6b5212ca4f4def8470d0ef4c82f36d",
      "81e7b0ecfb384c5e825af536e6cc75af",
      "e9e2d832258d430d91230e9b49a771ef",
      "0f4cfcf58ad24de8a0fcdc365ce91051",
      "e2da0417c3ee47b9a32fa4e7d3e8f74e",
      "26884f93946d4fbfac6dfd20e7994f4a",
      "36a5175e300f4fc0a463aa885d228292",
      "3e406094f2f84f16aba565b779f7cae7",
      "3f2a10813e5348b688ad79d15d8a7603",
      "364b9d58ff3042ddaf7e2b24e977bd29",
      "0ccae2c7d9c94cb6bff902791f144dfa"
     ]
    },
    "id": "Ihtd_7Qv-rVA",
    "outputId": "6ffda10f-fda1-41dd-c674-301cb1f89995"
   },
   "outputs": [
    {
     "output_type": "stream",
     "name": "stderr",
     "text": [
      "INFO:pytorch_lightning.utilities.rank_zero:You are using the plain ModelCheckpoint callback. Consider using LitModelCheckpoint which with seamless uploading to Model registry.\n",
      "INFO:pytorch_lightning.utilities.rank_zero:GPU available: True (cuda), used: False\n",
      "INFO:pytorch_lightning.utilities.rank_zero:TPU available: False, using: 0 TPU cores\n",
      "INFO:pytorch_lightning.utilities.rank_zero:HPU available: False, using: 0 HPUs\n",
      "/usr/local/lib/python3.11/dist-packages/pytorch_lightning/trainer/setup.py:177: GPU available but not used. You can set it by doing `Trainer(accelerator='gpu')`.\n",
      "INFO:pytorch_lightning.callbacks.model_summary:\n",
      "  | Name  | Type      | Params | Mode \n",
      "--------------------------------------------\n",
      "0 | model | SimpleNet | 232 K  | train\n",
      "--------------------------------------------\n",
      "232 K     Trainable params\n",
      "0         Non-trainable params\n",
      "232 K     Total params\n",
      "0.931     Total estimated model params size (MB)\n",
      "14        Modules in train mode\n",
      "0         Modules in eval mode\n"
     ]
    },
    {
     "output_type": "display_data",
     "data": {
      "text/plain": [
       "Sanity Checking: |          | 0/? [00:00<?, ?it/s]"
      ],
      "application/vnd.jupyter.widget-view+json": {
       "version_major": 2,
       "version_minor": 0,
       "model_id": "e2e0e6cd0c9e4b79ba26b7106083ea61"
      }
     },
     "metadata": {}
    },
    {
     "output_type": "display_data",
     "data": {
      "text/plain": [
       "Training: |          | 0/? [00:00<?, ?it/s]"
      ],
      "application/vnd.jupyter.widget-view+json": {
       "version_major": 2,
       "version_minor": 0,
       "model_id": "6d1dc29e5f8c4b2e90d9420b9f18e7b1"
      }
     },
     "metadata": {}
    },
    {
     "output_type": "display_data",
     "data": {
      "text/plain": [
       "Validation: |          | 0/? [00:00<?, ?it/s]"
      ],
      "application/vnd.jupyter.widget-view+json": {
       "version_major": 2,
       "version_minor": 0,
       "model_id": "4a6b5212ca4f4def8470d0ef4c82f36d"
      }
     },
     "metadata": {}
    },
    {
     "output_type": "stream",
     "name": "stderr",
     "text": [
      "INFO:pytorch_lightning.utilities.rank_zero:`Trainer.fit` stopped: `max_epochs=1` reached.\n"
     ]
    }
   ],
   "source": [
    "# 2) create module\n",
    "\n",
    "\n",
    "model = SimpleNet().to(device)\n",
    "module = SimpleModule(model, learning_rate=LR)\n",
    "\n",
    "# 3) create Trainer and train (±30 seconds on gpu)\n",
    "trainer = pl.Trainer(accelerator=\"cpu\", max_epochs=1)\n",
    "trainer.fit(module, train_dataloader, val_dataloader)\n",
    "\n",
    "# 3.5) we can also find best learning rate like this: https://pytorch-lightning.readthedocs.io/en/1.4.5/advanced/lr_finder.html\n",
    "# trainer = pl.Trainer(accelerator=\"gpu\", max_epochs=2, auto_lr_find=True)\n",
    "# trainer.tune(module, train_dataloader, eval_dataloader)\n",
    "# trainer.fit(module, train_dataloader, eval_dataloader)"
   ]
  },
  {
   "cell_type": "markdown",
   "metadata": {
    "id": "XThjhAsA-pxW"
   },
   "source": [
    "Обратите внимание **насколько** поведение `trainer.fit()` сильно похоже на написанную нами ранее функцию `fit()`\n",
    "\n",
    "\n",
    "Заметьте также, что на Lightning мы:\n",
    "1.   Не описывали тренировочный цикл ни по эпохам, ни по батчам\n",
    "2.   Не рисковали забыть zero_grad, .backward()\n",
    "3.   Не переносили ни модель, ни данные на GPU\n",
    "4.   Получили всякие приколы типа auto_lr_find\n",
    "5.   Сохранили возможность использования многих тонкостей **PyTorch** типа [schedulers](https://pytorch-lightning.readthedocs.io/en/stable/common/optimization.html), логирование через [wandb](https://docs.wandb.ai/guides/integrations/lightning) и так далее"
   ]
  },
  {
   "cell_type": "markdown",
   "metadata": {
    "id": "VTnyRAFB8266"
   },
   "source": [
    "## Сравнением работу разных оптимизаторов\n",
    "\n",
    "### SGD"
   ]
  },
  {
   "cell_type": "code",
   "execution_count": 15,
   "metadata": {
    "colab": {
     "base_uri": "https://localhost:8080/"
    },
    "id": "Xe-wjJqEXzOY",
    "outputId": "a5973684-3c4a-46d7-e1ef-fded67bb6158"
   },
   "outputs": [
    {
     "output_type": "stream",
     "name": "stdout",
     "text": [
      "Train Epoch: 0\n",
      "Loss: 2.1719 Accuracy: 19.68: 100%|██████████| 469/469 [00:10<00:00, 44.94it/s]\n",
      "Validation Epoch: 0\n",
      "Loss: 2.1626 Accuracy: 45.1: 100%|██████████| 79/79 [00:01<00:00, 63.59it/s]\n",
      "Train Epoch: 1\n",
      "Loss: 1.8494 Accuracy: 37.8733: 100%|██████████| 469/469 [00:10<00:00, 45.12it/s]\n",
      "Validation Epoch: 1\n",
      "Loss: 1.8677 Accuracy: 52.67: 100%|██████████| 79/79 [00:01<00:00, 57.34it/s]\n",
      "Train Epoch: 2\n",
      "Loss: 1.589 Accuracy: 49.8267: 100%|██████████| 469/469 [00:10<00:00, 45.00it/s]\n",
      "Validation Epoch: 2\n",
      "Loss: 1.3678 Accuracy: 66.02: 100%|██████████| 79/79 [00:01<00:00, 63.61it/s]\n",
      "Train Epoch: 3\n",
      "Loss: 1.0943 Accuracy: 58.9167: 100%|██████████| 469/469 [00:10<00:00, 44.98it/s]\n",
      "Validation Epoch: 3\n",
      "Loss: 0.9442 Accuracy: 68.08: 100%|██████████| 79/79 [00:01<00:00, 62.97it/s]\n",
      "Train Epoch: 4\n",
      "Loss: 1.0506 Accuracy: 62.9067: 100%|██████████| 469/469 [00:10<00:00, 44.14it/s]\n",
      "Validation Epoch: 4\n",
      "Loss: 0.7134 Accuracy: 70.1: 100%|██████████| 79/79 [00:01<00:00, 64.43it/s]\n",
      "Train Epoch: 5\n",
      "Loss: 1.032 Accuracy: 66.7833: 100%|██████████| 469/469 [00:10<00:00, 44.80it/s]\n",
      "Validation Epoch: 5\n",
      "Loss: 0.585 Accuracy: 72.19: 100%|██████████| 79/79 [00:01<00:00, 63.48it/s]\n",
      "Train Epoch: 6\n",
      "Loss: 0.7618 Accuracy: 69.0683: 100%|██████████| 469/469 [00:10<00:00, 44.71it/s]\n",
      "Validation Epoch: 6\n",
      "Loss: 0.5211 Accuracy: 73.32: 100%|██████████| 79/79 [00:01<00:00, 63.03it/s]\n",
      "Train Epoch: 7\n",
      "Loss: 0.8267 Accuracy: 71.1733: 100%|██████████| 469/469 [00:10<00:00, 44.47it/s]\n",
      "Validation Epoch: 7\n",
      "Loss: 0.4686 Accuracy: 74.22: 100%|██████████| 79/79 [00:01<00:00, 63.71it/s]\n",
      "Train Epoch: 8\n",
      "Loss: 0.7262 Accuracy: 72.5133: 100%|██████████| 469/469 [00:10<00:00, 45.60it/s]\n",
      "Validation Epoch: 8\n",
      "Loss: 0.4349 Accuracy: 74.94: 100%|██████████| 79/79 [00:01<00:00, 63.69it/s]\n",
      "Train Epoch: 9\n",
      "Loss: 0.7891 Accuracy: 73.3567: 100%|██████████| 469/469 [00:10<00:00, 45.29it/s]\n",
      "Validation Epoch: 9\n",
      "Loss: 0.4088 Accuracy: 75.55: 100%|██████████| 79/79 [00:01<00:00, 51.99it/s]\n"
     ]
    }
   ],
   "source": [
    "model = SimpleNet().to(device=device)\n",
    "sgd_loss_info = fit(\n",
    "    model=model,\n",
    "    epochs=EPOCHS,\n",
    "    train_data_loader=train_dataloader,\n",
    "    validation_data_loader=val_dataloader,\n",
    "    optimizer=torch.optim.SGD(model.parameters(), lr=LR),\n",
    "    device=device,\n",
    ")"
   ]
  },
  {
   "cell_type": "markdown",
   "metadata": {
    "id": "XNsHDEOuX_I8"
   },
   "source": [
    "### SGD with Momentum"
   ]
  },
  {
   "cell_type": "code",
   "execution_count": 16,
   "metadata": {
    "colab": {
     "base_uri": "https://localhost:8080/"
    },
    "id": "WETr80TZXo1Z",
    "outputId": "27167bd4-2248-40d1-987f-1b1aa1c6fc12"
   },
   "outputs": [
    {
     "output_type": "stream",
     "name": "stdout",
     "text": [
      "Train Epoch: 0\n",
      "Loss: 0.6768 Accuracy: 55.255: 100%|██████████| 469/469 [00:09<00:00, 47.57it/s]\n",
      "Validation Epoch: 0\n",
      "Loss: 0.4967 Accuracy: 73.25: 100%|██████████| 79/79 [00:01<00:00, 44.89it/s]\n",
      "Train Epoch: 1\n",
      "Loss: 0.6456 Accuracy: 75.6783: 100%|██████████| 469/469 [00:09<00:00, 49.26it/s]\n",
      "Validation Epoch: 1\n",
      "Loss: 0.3433 Accuracy: 78.25: 100%|██████████| 79/79 [00:01<00:00, 45.14it/s]\n",
      "Train Epoch: 2\n",
      "Loss: 0.6184 Accuracy: 79.765: 100%|██████████| 469/469 [00:09<00:00, 48.09it/s]\n",
      "Validation Epoch: 2\n",
      "Loss: 0.2653 Accuracy: 81.6: 100%|██████████| 79/79 [00:01<00:00, 52.31it/s]\n",
      "Train Epoch: 3\n",
      "Loss: 0.459 Accuracy: 82.1183: 100%|██████████| 469/469 [00:10<00:00, 46.34it/s]\n",
      "Validation Epoch: 3\n",
      "Loss: 0.2011 Accuracy: 83.95: 100%|██████████| 79/79 [00:01<00:00, 56.21it/s]\n",
      "Train Epoch: 4\n",
      "Loss: 0.4171 Accuracy: 83.995: 100%|██████████| 469/469 [00:10<00:00, 45.02it/s]\n",
      "Validation Epoch: 4\n",
      "Loss: 0.1449 Accuracy: 84.91: 100%|██████████| 79/79 [00:01<00:00, 58.35it/s]\n",
      "Train Epoch: 5\n",
      "Loss: 0.3434 Accuracy: 85.305: 100%|██████████| 469/469 [00:10<00:00, 46.42it/s]\n",
      "Validation Epoch: 5\n",
      "Loss: 0.1403 Accuracy: 84.53: 100%|██████████| 79/79 [00:01<00:00, 63.31it/s]\n",
      "Train Epoch: 6\n",
      "Loss: 0.2741 Accuracy: 86.1533: 100%|██████████| 469/469 [00:10<00:00, 45.92it/s]\n",
      "Validation Epoch: 6\n",
      "Loss: 0.1579 Accuracy: 86.55: 100%|██████████| 79/79 [00:01<00:00, 64.08it/s]\n",
      "Train Epoch: 7\n",
      "Loss: 0.6246 Accuracy: 86.8567: 100%|██████████| 469/469 [00:10<00:00, 43.79it/s]\n",
      "Validation Epoch: 7\n",
      "Loss: 0.147 Accuracy: 87.19: 100%|██████████| 79/79 [00:01<00:00, 63.32it/s]\n",
      "Train Epoch: 8\n",
      "Loss: 0.2766 Accuracy: 87.4767: 100%|██████████| 469/469 [00:10<00:00, 44.83it/s]\n",
      "Validation Epoch: 8\n",
      "Loss: 0.1532 Accuracy: 87.26: 100%|██████████| 79/79 [00:01<00:00, 52.20it/s]\n",
      "Train Epoch: 9\n",
      "Loss: 0.3608 Accuracy: 87.7833: 100%|██████████| 469/469 [00:10<00:00, 44.07it/s]\n",
      "Validation Epoch: 9\n",
      "Loss: 0.1484 Accuracy: 87.57: 100%|██████████| 79/79 [00:01<00:00, 62.66it/s]\n"
     ]
    }
   ],
   "source": [
    "model = SimpleNet().to(device=device)\n",
    "sgd_momentum_loss_info = fit(\n",
    "    model=model,\n",
    "    epochs=EPOCHS,\n",
    "    train_data_loader=train_dataloader,\n",
    "    validation_data_loader=val_dataloader,\n",
    "    optimizer=torch.optim.SGD(model.parameters(), momentum=0.9, lr=LR),\n",
    "    device=device,\n",
    ")"
   ]
  },
  {
   "cell_type": "markdown",
   "metadata": {
    "id": "ra4g-7ztvBC3"
   },
   "source": [
    "### RMSprop"
   ]
  },
  {
   "cell_type": "code",
   "execution_count": 17,
   "metadata": {
    "colab": {
     "base_uri": "https://localhost:8080/"
    },
    "id": "pP7tS4gsu_7o",
    "outputId": "b452a1e7-27c2-4743-bc38-726446d270ef"
   },
   "outputs": [
    {
     "output_type": "stream",
     "name": "stdout",
     "text": [
      "Train Epoch: 0\n",
      "Loss: 0.3628 Accuracy: 80.8883: 100%|██████████| 469/469 [00:10<00:00, 44.65it/s]\n",
      "Validation Epoch: 0\n",
      "Loss: 0.1698 Accuracy: 86.84: 100%|██████████| 79/79 [00:01<00:00, 63.85it/s]\n",
      "Train Epoch: 1\n",
      "Loss: 0.2066 Accuracy: 87.43: 100%|██████████| 469/469 [00:10<00:00, 44.29it/s]\n",
      "Validation Epoch: 1\n",
      "Loss: 0.1543 Accuracy: 88.29: 100%|██████████| 79/79 [00:01<00:00, 64.41it/s]\n",
      "Train Epoch: 2\n",
      "Loss: 0.302 Accuracy: 89.0: 100%|██████████| 469/469 [00:10<00:00, 43.98it/s]\n",
      "Validation Epoch: 2\n",
      "Loss: 0.174 Accuracy: 89.01: 100%|██████████| 79/79 [00:01<00:00, 63.26it/s]\n",
      "Train Epoch: 3\n",
      "Loss: 0.2269 Accuracy: 89.94: 100%|██████████| 469/469 [00:10<00:00, 44.94it/s]\n",
      "Validation Epoch: 3\n",
      "Loss: 0.1251 Accuracy: 90.09: 100%|██████████| 79/79 [00:01<00:00, 64.40it/s]\n",
      "Train Epoch: 4\n",
      "Loss: 0.314 Accuracy: 90.6667: 100%|██████████| 469/469 [00:10<00:00, 44.09it/s]\n",
      "Validation Epoch: 4\n",
      "Loss: 0.2074 Accuracy: 90.02: 100%|██████████| 79/79 [00:01<00:00, 63.68it/s]\n",
      "Train Epoch: 5\n",
      "Loss: 0.2204 Accuracy: 91.4667: 100%|██████████| 469/469 [00:10<00:00, 44.87it/s]\n",
      "Validation Epoch: 5\n",
      "Loss: 0.0292 Accuracy: 90.63: 100%|██████████| 79/79 [00:01<00:00, 63.01it/s]\n",
      "Train Epoch: 6\n",
      "Loss: 0.1624 Accuracy: 91.9117: 100%|██████████| 469/469 [00:10<00:00, 45.22it/s]\n",
      "Validation Epoch: 6\n",
      "Loss: 0.1733 Accuracy: 90.48: 100%|██████████| 79/79 [00:01<00:00, 63.47it/s]\n",
      "Train Epoch: 7\n",
      "Loss: 0.1965 Accuracy: 92.2483: 100%|██████████| 469/469 [00:10<00:00, 44.30it/s]\n",
      "Validation Epoch: 7\n",
      "Loss: 0.0543 Accuracy: 91.46: 100%|██████████| 79/79 [00:01<00:00, 60.79it/s]\n",
      "Train Epoch: 8\n",
      "Loss: 0.1936 Accuracy: 92.68: 100%|██████████| 469/469 [00:09<00:00, 46.94it/s]\n",
      "Validation Epoch: 8\n",
      "Loss: 0.0566 Accuracy: 90.79: 100%|██████████| 79/79 [00:01<00:00, 47.24it/s]\n",
      "Train Epoch: 9\n",
      "Loss: 0.1761 Accuracy: 93.1483: 100%|██████████| 469/469 [00:09<00:00, 47.61it/s]\n",
      "Validation Epoch: 9\n",
      "Loss: 0.0999 Accuracy: 90.91: 100%|██████████| 79/79 [00:01<00:00, 43.08it/s]\n"
     ]
    }
   ],
   "source": [
    "model = SimpleNet().to(device=device)\n",
    "rmsprop_loss_info = fit(\n",
    "    model=model,\n",
    "    epochs=EPOCHS,\n",
    "    train_data_loader=train_dataloader,\n",
    "    validation_data_loader=val_dataloader,\n",
    "    optimizer=torch.optim.RMSprop(model.parameters(), lr=LR),\n",
    "    device=device,\n",
    ")"
   ]
  },
  {
   "cell_type": "markdown",
   "metadata": {
    "id": "Y1-4TFPaYNFP"
   },
   "source": [
    "### Adam"
   ]
  },
  {
   "cell_type": "code",
   "execution_count": 18,
   "metadata": {
    "colab": {
     "base_uri": "https://localhost:8080/"
    },
    "id": "AgDi8etcYKxL",
    "outputId": "83000f58-5462-4eed-e33b-c24cbf17d245"
   },
   "outputs": [
    {
     "output_type": "stream",
     "name": "stdout",
     "text": [
      "Train Epoch: 0\n",
      "Loss: 0.2542 Accuracy: 80.8067: 100%|██████████| 469/469 [00:09<00:00, 49.25it/s]\n",
      "Validation Epoch: 0\n",
      "Loss: 0.1457 Accuracy: 86.18: 100%|██████████| 79/79 [00:01<00:00, 45.89it/s]\n",
      "Train Epoch: 1\n",
      "Loss: 0.3016 Accuracy: 87.375: 100%|██████████| 469/469 [00:09<00:00, 48.95it/s]\n",
      "Validation Epoch: 1\n",
      "Loss: 0.137 Accuracy: 89.42: 100%|██████████| 79/79 [00:01<00:00, 54.73it/s]\n",
      "Train Epoch: 2\n",
      "Loss: 0.2012 Accuracy: 89.0867: 100%|██████████| 469/469 [00:10<00:00, 46.17it/s]\n",
      "Validation Epoch: 2\n",
      "Loss: 0.1244 Accuracy: 89.06: 100%|██████████| 79/79 [00:01<00:00, 59.27it/s]\n",
      "Train Epoch: 3\n",
      "Loss: 0.4893 Accuracy: 90.1883: 100%|██████████| 469/469 [00:10<00:00, 46.37it/s]\n",
      "Validation Epoch: 3\n",
      "Loss: 0.0971 Accuracy: 90.0: 100%|██████████| 79/79 [00:01<00:00, 63.42it/s]\n",
      "Train Epoch: 4\n",
      "Loss: 0.2852 Accuracy: 91.1017: 100%|██████████| 469/469 [00:13<00:00, 35.85it/s]\n",
      "Validation Epoch: 4\n",
      "Loss: 0.1064 Accuracy: 90.46: 100%|██████████| 79/79 [00:01<00:00, 43.27it/s]\n",
      "Train Epoch: 5\n",
      "Loss: 0.317 Accuracy: 91.8717: 100%|██████████| 469/469 [00:09<00:00, 46.91it/s]\n",
      "Validation Epoch: 5\n",
      "Loss: 0.1503 Accuracy: 90.46: 100%|██████████| 79/79 [00:01<00:00, 42.96it/s]\n",
      "Train Epoch: 6\n",
      "Loss: 0.1366 Accuracy: 91.9867: 100%|██████████| 469/469 [00:09<00:00, 48.75it/s]\n",
      "Validation Epoch: 6\n",
      "Loss: 0.0907 Accuracy: 90.19: 100%|██████████| 79/79 [00:01<00:00, 49.28it/s]\n",
      "Train Epoch: 7\n",
      "Loss: 0.097 Accuracy: 92.6517: 100%|██████████| 469/469 [00:12<00:00, 38.20it/s]\n",
      "Validation Epoch: 7\n",
      "Loss: 0.1118 Accuracy: 90.73: 100%|██████████| 79/79 [00:01<00:00, 47.94it/s]\n",
      "Train Epoch: 8\n",
      "Loss: 0.1606 Accuracy: 93.0967: 100%|██████████| 469/469 [00:10<00:00, 44.97it/s]\n",
      "Validation Epoch: 8\n",
      "Loss: 0.0713 Accuracy: 91.22: 100%|██████████| 79/79 [00:01<00:00, 45.08it/s]\n",
      "Train Epoch: 9\n",
      "Loss: 0.1108 Accuracy: 93.6133: 100%|██████████| 469/469 [00:09<00:00, 46.92it/s]\n",
      "Validation Epoch: 9\n",
      "Loss: 0.1617 Accuracy: 90.69: 100%|██████████| 79/79 [00:01<00:00, 44.02it/s]\n"
     ]
    }
   ],
   "source": [
    "model = SimpleNet().to(device=device)\n",
    "adam_loss_info = fit(\n",
    "    model=model,\n",
    "    epochs=EPOCHS,\n",
    "    train_data_loader=train_dataloader,\n",
    "    validation_data_loader=val_dataloader,\n",
    "    optimizer=torch.optim.Adam(model.parameters(), lr=LR),\n",
    "    device=device,\n",
    ")"
   ]
  },
  {
   "cell_type": "markdown",
   "metadata": {
    "id": "2-EKFButKxn6"
   },
   "source": [
    "### Adam + Scheduler"
   ]
  },
  {
   "cell_type": "code",
   "execution_count": 19,
   "metadata": {
    "colab": {
     "base_uri": "https://localhost:8080/"
    },
    "id": "7uWBSiBG5T-A",
    "outputId": "408bbee4-ab4c-454d-c70f-05fdc75e05df"
   },
   "outputs": [
    {
     "output_type": "stream",
     "name": "stdout",
     "text": [
      "Train Epoch: 0\n",
      "Loss: 0.3619 Accuracy: 80.3033: 100%|██████████| 469/469 [00:09<00:00, 49.11it/s]\n",
      "Validation Epoch: 0\n",
      "Loss: 0.274 Accuracy: 86.55: 100%|██████████| 79/79 [00:01<00:00, 47.32it/s]\n",
      "Train Epoch: 1\n",
      "Loss: 0.3072 Accuracy: 87.61: 100%|██████████| 469/469 [00:09<00:00, 48.48it/s]\n",
      "Validation Epoch: 1\n",
      "Loss: 0.1699 Accuracy: 88.68: 100%|██████████| 79/79 [00:01<00:00, 56.62it/s]\n",
      "Train Epoch: 2\n",
      "Loss: 0.2207 Accuracy: 89.1167: 100%|██████████| 469/469 [00:10<00:00, 46.55it/s]\n",
      "Validation Epoch: 2\n",
      "Loss: 0.1337 Accuracy: 89.42: 100%|██████████| 79/79 [00:01<00:00, 62.76it/s]\n",
      "Train Epoch: 3\n",
      "Loss: 0.2377 Accuracy: 90.2567: 100%|██████████| 469/469 [00:11<00:00, 42.53it/s]\n",
      "Validation Epoch: 3\n",
      "Loss: 0.0768 Accuracy: 90.49: 100%|██████████| 79/79 [00:01<00:00, 63.51it/s]\n",
      "Train Epoch: 4\n",
      "Loss: 0.231 Accuracy: 91.0467: 100%|██████████| 469/469 [00:11<00:00, 41.10it/s]\n",
      "Validation Epoch: 4\n",
      "Loss: 0.1467 Accuracy: 90.48: 100%|██████████| 79/79 [00:01<00:00, 63.51it/s]\n",
      "Train Epoch: 5\n",
      "Loss: 0.1147 Accuracy: 91.6717: 100%|██████████| 469/469 [00:10<00:00, 44.44it/s]\n",
      "Validation Epoch: 5\n",
      "Loss: 0.0757 Accuracy: 90.47: 100%|██████████| 79/79 [00:01<00:00, 62.36it/s]\n",
      "Train Epoch: 6\n",
      "Loss: 0.1194 Accuracy: 92.3817: 100%|██████████| 469/469 [00:10<00:00, 43.84it/s]\n",
      "Validation Epoch: 6\n",
      "Loss: 0.0451 Accuracy: 91.1: 100%|██████████| 79/79 [00:01<00:00, 55.53it/s]\n",
      "Train Epoch: 7\n",
      "Loss: 0.2371 Accuracy: 92.6717: 100%|██████████| 469/469 [00:10<00:00, 44.32it/s]\n",
      "Validation Epoch: 7\n",
      "Loss: 0.1242 Accuracy: 90.98: 100%|██████████| 79/79 [00:01<00:00, 62.06it/s]\n",
      "Train Epoch: 8\n",
      "Loss: 0.1998 Accuracy: 93.2817: 100%|██████████| 469/469 [00:10<00:00, 43.74it/s]\n",
      "Validation Epoch: 8\n",
      "Loss: 0.1626 Accuracy: 91.24: 100%|██████████| 79/79 [00:01<00:00, 62.78it/s]\n",
      "Train Epoch: 9\n",
      "Loss: 0.2439 Accuracy: 93.6867: 100%|██████████| 469/469 [00:10<00:00, 42.89it/s]\n",
      "Validation Epoch: 9\n",
      "Loss: 0.1253 Accuracy: 91.11: 100%|██████████| 79/79 [00:01<00:00, 62.87it/s]\n"
     ]
    }
   ],
   "source": [
    "model = SimpleNet().to(device=device)\n",
    "lambda_func = lambda epoch: 0.975**epoch\n",
    "optimizer = torch.optim.Adam(model.parameters(), lr=LR)\n",
    "scheduler = torch.optim.lr_scheduler.LambdaLR(optimizer, lr_lambda=lambda_func)\n",
    "adam_scheduler_loss_info = fit(\n",
    "    model=model,\n",
    "    epochs=EPOCHS,\n",
    "    train_data_loader=train_dataloader,\n",
    "    validation_data_loader=val_dataloader,\n",
    "    optimizer=optimizer,\n",
    "    scheduler=scheduler,\n",
    "    device=device,\n",
    ")"
   ]
  },
  {
   "cell_type": "markdown",
   "metadata": {
    "id": "LVPEOb_I5T-A"
   },
   "source": [
    "На валидации получается значение несколько лучше, чем у просто Adam."
   ]
  },
  {
   "cell_type": "markdown",
   "metadata": {
    "id": "0iVVwKYV5T-A"
   },
   "source": [
    "### Графики падения лосса при разных способах оптимизации"
   ]
  },
  {
   "cell_type": "code",
   "execution_count": 20,
   "metadata": {
    "colab": {
     "base_uri": "https://localhost:8080/",
     "height": 430
    },
    "id": "9HsXUU8y5T-A",
    "outputId": "bc84833e-7429-46c7-a732-0ea7a035c875"
   },
   "outputs": [
    {
     "output_type": "display_data",
     "data": {
      "text/plain": [
       "<Figure size 640x480 with 1 Axes>"
      ],
      "image/png": "[encoded data removed]"
     },
     "metadata": {}
    }
   ],
   "source": [
    "plt.plot(\n",
    "    np.arange(len(train_dataloader) * 10),\n",
    "    sgd_loss_info.full_train_losses,\n",
    "    label=\"SGD\",\n",
    "    c=\"grey\",\n",
    ")\n",
    "plt.plot(\n",
    "    np.arange(len(train_dataloader) * 10),\n",
    "    sgd_momentum_loss_info.full_train_losses,\n",
    "    label=\"SGD Momentum\",\n",
    "    c=\"blue\",\n",
    ")\n",
    "plt.plot(\n",
    "    np.arange(len(train_dataloader) * 10),\n",
    "    rmsprop_loss_info.full_train_losses,\n",
    "    label=\"RMSProp\",\n",
    "    c=\"green\",\n",
    ")\n",
    "plt.plot(\n",
    "    np.arange(len(train_dataloader) * 10),\n",
    "    adam_loss_info.full_train_losses,\n",
    "    label=\"Adam\",\n",
    "    c=\"red\",\n",
    ")\n",
    "plt.plot(\n",
    "    np.arange(len(train_dataloader) * 10),\n",
    "    adam_scheduler_loss_info.full_train_losses,\n",
    "    label=\"Adam+Scheduler\",\n",
    "    c=\"black\",\n",
    ")\n",
    "\n",
    "plt.legend()\n",
    "plt.show()"
   ]
  },
  {
   "cell_type": "code",
   "execution_count": 21,
   "metadata": {
    "colab": {
     "base_uri": "https://localhost:8080/",
     "height": 433
    },
    "id": "3XsczR-v5T-A",
    "outputId": "598fa055-63a4-4f21-8afe-adcdc3eb3093"
   },
   "outputs": [
    {
     "output_type": "display_data",
     "data": {
      "text/plain": [
       "<Figure size 640x480 with 1 Axes>"
      ],
      "image/png": "[encoded data removed]"
     },
     "metadata": {}
    }
   ],
   "source": [
    "plt.plot(np.arange(10), sgd_loss_info.eval_epoch_losses, label=\"SGD\", c=\"grey\")\n",
    "plt.plot(\n",
    "    np.arange(10),\n",
    "    sgd_momentum_loss_info.eval_epoch_losses,\n",
    "    label=\"SGD Momentum\",\n",
    "    c=\"blue\",\n",
    ")\n",
    "plt.plot(np.arange(10), rmsprop_loss_info.eval_epoch_losses, label=\"RMSprop\", c=\"green\")\n",
    "plt.plot(np.arange(10), adam_loss_info.eval_epoch_losses, label=\"Adam\", c=\"red\")\n",
    "plt.plot(\n",
    "    np.arange(10),\n",
    "    adam_scheduler_loss_info.eval_epoch_losses,\n",
    "    label=\"Adam+Scheduler\",\n",
    "    c=\"black\",\n",
    ")\n",
    "plt.legend()\n",
    "plt.show()"
   ]
  },
  {
   "cell_type": "code",
   "source": [],
   "metadata": {
    "id": "V2JW_oX8xHzJ"
   },
   "execution_count": null,
   "outputs": []
  }
 ],
 "metadata": {
  "accelerator": "GPU",
  "colab": {
   "provenance": []
  },
  "kernelspec": {
   "display_name": "Python 3 (ipykernel)",
   "language": "python",
   "name": "python3"
  },
  "language_info": {
   "codemirror_mode": {
    "name": "ipython",
    "version": 3
   },
   "file_extension": ".py",
   "mimetype": "text/x-python",
   "name": "python",
   "nbconvert_exporter": "python",
   "pygments_lexer": "ipython3",
   "version": "3.10.4"
  },
  "widgets": {
   "application/vnd.jupyter.widget-state+json": {
    "e2e0e6cd0c9e4b79ba26b7106083ea61": {
     "model_module": "@jupyter-widgets/controls",
     "model_name": "HBoxModel",
     "model_module_version": "1.5.0",
     "state": {
      "_dom_classes": [],
      "_model_module": "@jupyter-widgets/controls",
      "_model_module_version": "1.5.0",
      "_model_name": "HBoxModel",
      "_view_count": null,
      "_view_module": "@jupyter-widgets/controls",
      "_view_module_version": "1.5.0",
      "_view_name": "HBoxView",
      "box_style": "",
      "children": [
       "IPY_MODEL_df86eb10a75b4548ba52db29822ea00e",
       "IPY_MODEL_c63dc87b5bc64d96bbc21a92d9088afe",
       "IPY_MODEL_7797296bc9e7460791119928899606cd"
      ],
      "layout": "IPY_MODEL_64fb7e70bf1448ff87cffdd0deb046fb"
     }
    },
    "df86eb10a75b4548ba52db29822ea00e": {
     "model_module": "@jupyter-widgets/controls",
     "model_name": "HTMLModel",
     "model_module_version": "1.5.0",
     "state": {
      "_dom_classes": [],
      "_model_module": "@jupyter-widgets/controls",
      "_model_module_version": "1.5.0",
      "_model_name": "HTMLModel",
      "_view_count": null,
      "_view_module": "@jupyter-widgets/controls",
      "_view_module_version": "1.5.0",
      "_view_name": "HTMLView",
      "description": "",
      "description_tooltip": null,
      "layout": "IPY_MODEL_16dbdc1e70b345bab9f4f543779c7171",
      "placeholder": "​",
      "style": "IPY_MODEL_5352422a99734f0fa9394eb00c6b4ed2",
      "value": "Sanity Checking DataLoader 0: 100%"
     }
    },
    "c63dc87b5bc64d96bbc21a92d9088afe": {
     "model_module": "@jupyter-widgets/controls",
     "model_name": "FloatProgressModel",
     "model_module_version": "1.5.0",
     "state": {
      "_dom_classes": [],
      "_model_module": "@jupyter-widgets/controls",
      "_model_module_version": "1.5.0",
      "_model_name": "FloatProgressModel",
      "_view_count": null,
      "_view_module": "@jupyter-widgets/controls",
      "_view_module_version": "1.5.0",
      "_view_name": "ProgressView",
      "bar_style": "",
      "description": "",
      "description_tooltip": null,
      "layout": "IPY_MODEL_61510f1c92404e279ec4acb5b54ba2be",
      "max": 2,
      "min": 0,
      "orientation": "horizontal",
      "style": "IPY_MODEL_474d7d806bf545e682ebb71538a24ae7",
      "value": 2
     }
    },
    "7797296bc9e7460791119928899606cd": {
     "model_module": "@jupyter-widgets/controls",
     "model_name": "HTMLModel",
     "model_module_version": "1.5.0",
     "state": {
      "_dom_classes": [],
      "_model_module": "@jupyter-widgets/controls",
      "_model_module_version": "1.5.0",
      "_model_name": "HTMLModel",
      "_view_count": null,
      "_view_module": "@jupyter-widgets/controls",
      "_view_module_version": "1.5.0",
      "_view_name": "HTMLView",
      "description": "",
      "description_tooltip": null,
      "layout": "IPY_MODEL_d92feef089f94fbfa2342b052c2e3ca7",
      "placeholder": "​",
      "style": "IPY_MODEL_a0b14ddc0f294fb8a2a2e542c463b0ab",
      "value": " 2/2 [00:00&lt;00:00,  5.25it/s]"
     }
    },
    "64fb7e70bf1448ff87cffdd0deb046fb": {
     "model_module": "@jupyter-widgets/base",
     "model_name": "LayoutModel",
     "model_module_version": "1.2.0",
     "state": {
      "_model_module": "@jupyter-widgets/base",
      "_model_module_version": "1.2.0",
      "_model_name": "LayoutModel",
      "_view_count": null,
      "_view_module": "@jupyter-widgets/base",
      "_view_module_version": "1.2.0",
      "_view_name": "LayoutView",
      "align_content": null,
      "align_items": null,
      "align_self": null,
      "border": null,
      "bottom": null,
      "display": "inline-flex",
      "flex": null,
      "flex_flow": "row wrap",
      "grid_area": null,
      "grid_auto_columns": null,
      "grid_auto_flow": null,
      "grid_auto_rows": null,
      "grid_column": null,
      "grid_gap": null,
      "grid_row": null,
      "grid_template_areas": null,
      "grid_template_columns": null,
      "grid_template_rows": null,
      "height": null,
      "justify_content": null,
      "justify_items": null,
      "left": null,
      "margin": null,
      "max_height": null,
      "max_width": null,
      "min_height": null,
      "min_width": null,
      "object_fit": null,
      "object_position": null,
      "order": null,
      "overflow": null,
      "overflow_x": null,
      "overflow_y": null,
      "padding": null,
      "right": null,
      "top": null,
      "visibility": "hidden",
      "width": "100%"
     }
    },
    "16dbdc1e70b345bab9f4f543779c7171": {
     "model_module": "@jupyter-widgets/base",
     "model_name": "LayoutModel",
     "model_module_version": "1.2.0",
     "state": {
      "_model_module": "@jupyter-widgets/base",
      "_model_module_version": "1.2.0",
      "_model_name": "LayoutModel",
      "_view_count": null,
      "_view_module": "@jupyter-widgets/base",
      "_view_module_version": "1.2.0",
      "_view_name": "LayoutView",
      "align_content": null,
      "align_items": null,
      "align_self": null,
      "border": null,
      "bottom": null,
      "display": null,
      "flex": null,
      "flex_flow": null,
      "grid_area": null,
      "grid_auto_columns": null,
      "grid_auto_flow": null,
      "grid_auto_rows": null,
      "grid_column": null,
      "grid_gap": null,
      "grid_row": null,
      "grid_template_areas": null,
      "grid_template_columns": null,
      "grid_template_rows": null,
      "height": null,
      "justify_content": null,
      "justify_items": null,
      "left": null,
      "margin": null,
      "max_height": null,
      "max_width": null,
      "min_height": null,
      "min_width": null,
      "object_fit": null,
      "object_position": null,
      "order": null,
      "overflow": null,
      "overflow_x": null,
      "overflow_y": null,
      "padding": null,
      "right": null,
      "top": null,
      "visibility": null,
      "width": null
     }
    },
    "5352422a99734f0fa9394eb00c6b4ed2": {
     "model_module": "@jupyter-widgets/controls",
     "model_name": "DescriptionStyleModel",
     "model_module_version": "1.5.0",
     "state": {
      "_model_module": "@jupyter-widgets/controls",
      "_model_module_version": "1.5.0",
      "_model_name": "DescriptionStyleModel",
      "_view_count": null,
      "_view_module": "@jupyter-widgets/base",
      "_view_module_version": "1.2.0",
      "_view_name": "StyleView",
      "description_width": ""
     }
    },
    "61510f1c92404e279ec4acb5b54ba2be": {
     "model_module": "@jupyter-widgets/base",
     "model_name": "LayoutModel",
     "model_module_version": "1.2.0",
     "state": {
      "_model_module": "@jupyter-widgets/base",
      "_model_module_version": "1.2.0",
      "_model_name": "LayoutModel",
      "_view_count": null,
      "_view_module": "@jupyter-widgets/base",
      "_view_module_version": "1.2.0",
      "_view_name": "LayoutView",
      "align_content": null,
      "align_items": null,
      "align_self": null,
      "border": null,
      "bottom": null,
      "display": null,
      "flex": "2",
      "flex_flow": null,
      "grid_area": null,
      "grid_auto_columns": null,
      "grid_auto_flow": null,
      "grid_auto_rows": null,
      "grid_column": null,
      "grid_gap": null,
      "grid_row": null,
      "grid_template_areas": null,
      "grid_template_columns": null,
      "grid_template_rows": null,
      "height": null,
      "justify_content": null,
      "justify_items": null,
      "left": null,
      "margin": null,
      "max_height": null,
      "max_width": null,
      "min_height": null,
      "min_width": null,
      "object_fit": null,
      "object_position": null,
      "order": null,
      "overflow": null,
      "overflow_x": null,
      "overflow_y": null,
      "padding": null,
      "right": null,
      "top": null,
      "visibility": null,
      "width": null
     }
    },
    "474d7d806bf545e682ebb71538a24ae7": {
     "model_module": "@jupyter-widgets/controls",
     "model_name": "ProgressStyleModel",
     "model_module_version": "1.5.0",
     "state": {
      "_model_module": "@jupyter-widgets/controls",
      "_model_module_version": "1.5.0",
      "_model_name": "ProgressStyleModel",
      "_view_count": null,
      "_view_module": "@jupyter-widgets/base",
      "_view_module_version": "1.2.0",
      "_view_name": "StyleView",
      "bar_color": null,
      "description_width": ""
     }
    },
    "d92feef089f94fbfa2342b052c2e3ca7": {
     "model_module": "@jupyter-widgets/base",
     "model_name": "LayoutModel",
     "model_module_version": "1.2.0",
     "state": {
      "_model_module": "@jupyter-widgets/base",
      "_model_module_version": "1.2.0",
      "_model_name": "LayoutModel",
      "_view_count": null,
      "_view_module": "@jupyter-widgets/base",
      "_view_module_version": "1.2.0",
      "_view_name": "LayoutView",
      "align_content": null,
      "align_items": null,
      "align_self": null,
      "border": null,
      "bottom": null,
      "display": null,
      "flex": null,
      "flex_flow": null,
      "grid_area": null,
      "grid_auto_columns": null,
      "grid_auto_flow": null,
      "grid_auto_rows": null,
      "grid_column": null,
      "grid_gap": null,
      "grid_row": null,
      "grid_template_areas": null,
      "grid_template_columns": null,
      "grid_template_rows": null,
      "height": null,
      "justify_content": null,
      "justify_items": null,
      "left": null,
      "margin": null,
      "max_height": null,
      "max_width": null,
      "min_height": null,
      "min_width": null,
      "object_fit": null,
      "object_position": null,
      "order": null,
      "overflow": null,
      "overflow_x": null,
      "overflow_y": null,
      "padding": null,
      "right": null,
      "top": null,
      "visibility": null,
      "width": null
     }
    },
    "a0b14ddc0f294fb8a2a2e542c463b0ab": {
     "model_module": "@jupyter-widgets/controls",
     "model_name": "DescriptionStyleModel",
     "model_module_version": "1.5.0",
     "state": {
      "_model_module": "@jupyter-widgets/controls",
      "_model_module_version": "1.5.0",
      "_model_name": "DescriptionStyleModel",
      "_view_count": null,
      "_view_module": "@jupyter-widgets/base",
      "_view_module_version": "1.2.0",
      "_view_name": "StyleView",
      "description_width": ""
     }
    },
    "6d1dc29e5f8c4b2e90d9420b9f18e7b1": {
     "model_module": "@jupyter-widgets/controls",
     "model_name": "HBoxModel",
     "model_module_version": "1.5.0",
     "state": {
      "_dom_classes": [],
      "_model_module": "@jupyter-widgets/controls",
      "_model_module_version": "1.5.0",
      "_model_name": "HBoxModel",
      "_view_count": null,
      "_view_module": "@jupyter-widgets/controls",
      "_view_module_version": "1.5.0",
      "_view_name": "HBoxView",
      "box_style": "",
      "children": [
       "IPY_MODEL_fef207481c0a4f6f90ad6dbe3417892d",
       "IPY_MODEL_d8b20da87f4d4059bae3d4a7e3fcc16e",
       "IPY_MODEL_fdb96d4613dc4791b1a72b1c0de6b5df"
      ],
      "layout": "IPY_MODEL_790475b40b89455a9ac22083aa107545"
     }
    },
    "fef207481c0a4f6f90ad6dbe3417892d": {
     "model_module": "@jupyter-widgets/controls",
     "model_name": "HTMLModel",
     "model_module_version": "1.5.0",
     "state": {
      "_dom_classes": [],
      "_model_module": "@jupyter-widgets/controls",
      "_model_module_version": "1.5.0",
      "_model_name": "HTMLModel",
      "_view_count": null,
      "_view_module": "@jupyter-widgets/controls",
      "_view_module_version": "1.5.0",
      "_view_name": "HTMLView",
      "description": "",
      "description_tooltip": null,
      "layout": "IPY_MODEL_a92f7d706d634229b37eaeb41280a792",
      "placeholder": "​",
      "style": "IPY_MODEL_b46dc47fe4904b99a0a145fc7643fe89",
      "value": "Epoch 0: 100%"
     }
    },
    "d8b20da87f4d4059bae3d4a7e3fcc16e": {
     "model_module": "@jupyter-widgets/controls",
     "model_name": "FloatProgressModel",
     "model_module_version": "1.5.0",
     "state": {
      "_dom_classes": [],
      "_model_module": "@jupyter-widgets/controls",
      "_model_module_version": "1.5.0",
      "_model_name": "FloatProgressModel",
      "_view_count": null,
      "_view_module": "@jupyter-widgets/controls",
      "_view_module_version": "1.5.0",
      "_view_name": "ProgressView",
      "bar_style": "success",
      "description": "",
      "description_tooltip": null,
      "layout": "IPY_MODEL_54643c28cc104f58ab7c25176661758b",
      "max": 469,
      "min": 0,
      "orientation": "horizontal",
      "style": "IPY_MODEL_a92648e196dc487ca88a39cfc3dc8974",
      "value": 469
     }
    },
    "fdb96d4613dc4791b1a72b1c0de6b5df": {
     "model_module": "@jupyter-widgets/controls",
     "model_name": "HTMLModel",
     "model_module_version": "1.5.0",
     "state": {
      "_dom_classes": [],
      "_model_module": "@jupyter-widgets/controls",
      "_model_module_version": "1.5.0",
      "_model_name": "HTMLModel",
      "_view_count": null,
      "_view_module": "@jupyter-widgets/controls",
      "_view_module_version": "1.5.0",
      "_view_name": "HTMLView",
      "description": "",
      "description_tooltip": null,
      "layout": "IPY_MODEL_e55965dba5b4457f9e1902bb16ec3719",
      "placeholder": "​",
      "style": "IPY_MODEL_7b51a5e090a5474491b233c156f833cf",
      "value": " 469/469 [00:59&lt;00:00,  7.93it/s, v_num=0, train_loss=0.366, val_loss=0.365]"
     }
    },
    "790475b40b89455a9ac22083aa107545": {
     "model_module": "@jupyter-widgets/base",
     "model_name": "LayoutModel",
     "model_module_version": "1.2.0",
     "state": {
      "_model_module": "@jupyter-widgets/base",
      "_model_module_version": "1.2.0",
      "_model_name": "LayoutModel",
      "_view_count": null,
      "_view_module": "@jupyter-widgets/base",
      "_view_module_version": "1.2.0",
      "_view_name": "LayoutView",
      "align_content": null,
      "align_items": null,
      "align_self": null,
      "border": null,
      "bottom": null,
      "display": "inline-flex",
      "flex": null,
      "flex_flow": "row wrap",
      "grid_area": null,
      "grid_auto_columns": null,
      "grid_auto_flow": null,
      "grid_auto_rows": null,
      "grid_column": null,
      "grid_gap": null,
      "grid_row": null,
      "grid_template_areas": null,
      "grid_template_columns": null,
      "grid_template_rows": null,
      "height": null,
      "justify_content": null,
      "justify_items": null,
      "left": null,
      "margin": null,
      "max_height": null,
      "max_width": null,
      "min_height": null,
      "min_width": null,
      "object_fit": null,
      "object_position": null,
      "order": null,
      "overflow": null,
      "overflow_x": null,
      "overflow_y": null,
      "padding": null,
      "right": null,
      "top": null,
      "visibility": null,
      "width": "100%"
     }
    },
    "a92f7d706d634229b37eaeb41280a792": {
     "model_module": "@jupyter-widgets/base",
     "model_name": "LayoutModel",
     "model_module_version": "1.2.0",
     "state": {
      "_model_module": "@jupyter-widgets/base",
      "_model_module_version": "1.2.0",
      "_model_name": "LayoutModel",
      "_view_count": null,
      "_view_module": "@jupyter-widgets/base",
      "_view_module_version": "1.2.0",
      "_view_name": "LayoutView",
      "align_content": null,
      "align_items": null,
      "align_self": null,
      "border": null,
      "bottom": null,
      "display": null,
      "flex": null,
      "flex_flow": null,
      "grid_area": null,
      "grid_auto_columns": null,
      "grid_auto_flow": null,
      "grid_auto_rows": null,
      "grid_column": null,
      "grid_gap": null,
      "grid_row": null,
      "grid_template_areas": null,
      "grid_template_columns": null,
      "grid_template_rows": null,
      "height": null,
      "justify_content": null,
      "justify_items": null,
      "left": null,
      "margin": null,
      "max_height": null,
      "max_width": null,
      "min_height": null,
      "min_width": null,
      "object_fit": null,
      "object_position": null,
      "order": null,
      "overflow": null,
      "overflow_x": null,
      "overflow_y": null,
      "padding": null,
      "right": null,
      "top": null,
      "visibility": null,
      "width": null
     }
    },
    "b46dc47fe4904b99a0a145fc7643fe89": {
     "model_module": "@jupyter-widgets/controls",
     "model_name": "DescriptionStyleModel",
     "model_module_version": "1.5.0",
     "state": {
      "_model_module": "@jupyter-widgets/controls",
      "_model_module_version": "1.5.0",
      "_model_name": "DescriptionStyleModel",
      "_view_count": null,
      "_view_module": "@jupyter-widgets/base",
      "_view_module_version": "1.2.0",
      "_view_name": "StyleView",
      "description_width": ""
     }
    },
    "54643c28cc104f58ab7c25176661758b": {
     "model_module": "@jupyter-widgets/base",
     "model_name": "LayoutModel",
     "model_module_version": "1.2.0",
     "state": {
      "_model_module": "@jupyter-widgets/base",
      "_model_module_version": "1.2.0",
      "_model_name": "LayoutModel",
      "_view_count": null,
      "_view_module": "@jupyter-widgets/base",
      "_view_module_version": "1.2.0",
      "_view_name": "LayoutView",
      "align_content": null,
      "align_items": null,
      "align_self": null,
      "border": null,
      "bottom": null,
      "display": null,
      "flex": "2",
      "flex_flow": null,
      "grid_area": null,
      "grid_auto_columns": null,
      "grid_auto_flow": null,
      "grid_auto_rows": null,
      "grid_column": null,
      "grid_gap": null,
      "grid_row": null,
      "grid_template_areas": null,
      "grid_template_columns": null,
      "grid_template_rows": null,
      "height": null,
      "justify_content": null,
      "justify_items": null,
      "left": null,
      "margin": null,
      "max_height": null,
      "max_width": null,
      "min_height": null,
      "min_width": null,
      "object_fit": null,
      "object_position": null,
      "order": null,
      "overflow": null,
      "overflow_x": null,
      "overflow_y": null,
      "padding": null,
      "right": null,
      "top": null,
      "visibility": null,
      "width": null
     }
    },
    "a92648e196dc487ca88a39cfc3dc8974": {
     "model_module": "@jupyter-widgets/controls",
     "model_name": "ProgressStyleModel",
     "model_module_version": "1.5.0",
     "state": {
      "_model_module": "@jupyter-widgets/controls",
      "_model_module_version": "1.5.0",
      "_model_name": "ProgressStyleModel",
      "_view_count": null,
      "_view_module": "@jupyter-widgets/base",
      "_view_module_version": "1.2.0",
      "_view_name": "StyleView",
      "bar_color": null,
      "description_width": ""
     }
    },
    "e55965dba5b4457f9e1902bb16ec3719": {
     "model_module": "@jupyter-widgets/base",
     "model_name": "LayoutModel",
     "model_module_version": "1.2.0",
     "state": {
      "_model_module": "@jupyter-widgets/base",
      "_model_module_version": "1.2.0",
      "_model_name": "LayoutModel",
      "_view_count": null,
      "_view_module": "@jupyter-widgets/base",
      "_view_module_version": "1.2.0",
      "_view_name": "LayoutView",
      "align_content": null,
      "align_items": null,
      "align_self": null,
      "border": null,
      "bottom": null,
      "display": null,
      "flex": null,
      "flex_flow": null,
      "grid_area": null,
      "grid_auto_columns": null,
      "grid_auto_flow": null,
      "grid_auto_rows": null,
      "grid_column": null,
      "grid_gap": null,
      "grid_row": null,
      "grid_template_areas": null,
      "grid_template_columns": null,
      "grid_template_rows": null,
      "height": null,
      "justify_content": null,
      "justify_items": null,
      "left": null,
      "margin": null,
      "max_height": null,
      "max_width": null,
      "min_height": null,
      "min_width": null,
      "object_fit": null,
      "object_position": null,
      "order": null,
      "overflow": null,
      "overflow_x": null,
      "overflow_y": null,
      "padding": null,
      "right": null,
      "top": null,
      "visibility": null,
      "width": null
     }
    },
    "7b51a5e090a5474491b233c156f833cf": {
     "model_module": "@jupyter-widgets/controls",
     "model_name": "DescriptionStyleModel",
     "model_module_version": "1.5.0",
     "state": {
      "_model_module": "@jupyter-widgets/controls",
      "_model_module_version": "1.5.0",
      "_model_name": "DescriptionStyleModel",
      "_view_count": null,
      "_view_module": "@jupyter-widgets/base",
      "_view_module_version": "1.2.0",
      "_view_name": "StyleView",
      "description_width": ""
     }
    },
    "4a6b5212ca4f4def8470d0ef4c82f36d": {
     "model_module": "@jupyter-widgets/controls",
     "model_name": "HBoxModel",
     "model_module_version": "1.5.0",
     "state": {
      "_dom_classes": [],
      "_model_module": "@jupyter-widgets/controls",
      "_model_module_version": "1.5.0",
      "_model_name": "HBoxModel",
      "_view_count": null,
      "_view_module": "@jupyter-widgets/controls",
      "_view_module_version": "1.5.0",
      "_view_name": "HBoxView",
      "box_style": "",
      "children": [
       "IPY_MODEL_81e7b0ecfb384c5e825af536e6cc75af",
       "IPY_MODEL_e9e2d832258d430d91230e9b49a771ef",
       "IPY_MODEL_0f4cfcf58ad24de8a0fcdc365ce91051"
      ],
      "layout": "IPY_MODEL_e2da0417c3ee47b9a32fa4e7d3e8f74e"
     }
    },
    "81e7b0ecfb384c5e825af536e6cc75af": {
     "model_module": "@jupyter-widgets/controls",
     "model_name": "HTMLModel",
     "model_module_version": "1.5.0",
     "state": {
      "_dom_classes": [],
      "_model_module": "@jupyter-widgets/controls",
      "_model_module_version": "1.5.0",
      "_model_name": "HTMLModel",
      "_view_count": null,
      "_view_module": "@jupyter-widgets/controls",
      "_view_module_version": "1.5.0",
      "_view_name": "HTMLView",
      "description": "",
      "description_tooltip": null,
      "layout": "IPY_MODEL_26884f93946d4fbfac6dfd20e7994f4a",
      "placeholder": "​",
      "style": "IPY_MODEL_36a5175e300f4fc0a463aa885d228292",
      "value": "Validation DataLoader 0: 100%"
     }
    },
    "e9e2d832258d430d91230e9b49a771ef": {
     "model_module": "@jupyter-widgets/controls",
     "model_name": "FloatProgressModel",
     "model_module_version": "1.5.0",
     "state": {
      "_dom_classes": [],
      "_model_module": "@jupyter-widgets/controls",
      "_model_module_version": "1.5.0",
      "_model_name": "FloatProgressModel",
      "_view_count": null,
      "_view_module": "@jupyter-widgets/controls",
      "_view_module_version": "1.5.0",
      "_view_name": "ProgressView",
      "bar_style": "",
      "description": "",
      "description_tooltip": null,
      "layout": "IPY_MODEL_3e406094f2f84f16aba565b779f7cae7",
      "max": 79,
      "min": 0,
      "orientation": "horizontal",
      "style": "IPY_MODEL_3f2a10813e5348b688ad79d15d8a7603",
      "value": 79
     }
    },
    "0f4cfcf58ad24de8a0fcdc365ce91051": {
     "model_module": "@jupyter-widgets/controls",
     "model_name": "HTMLModel",
     "model_module_version": "1.5.0",
     "state": {
      "_dom_classes": [],
      "_model_module": "@jupyter-widgets/controls",
      "_model_module_version": "1.5.0",
      "_model_name": "HTMLModel",
      "_view_count": null,
      "_view_module": "@jupyter-widgets/controls",
      "_view_module_version": "1.5.0",
      "_view_name": "HTMLView",
      "description": "",
      "description_tooltip": null,
      "layout": "IPY_MODEL_364b9d58ff3042ddaf7e2b24e977bd29",
      "placeholder": "​",
      "style": "IPY_MODEL_0ccae2c7d9c94cb6bff902791f144dfa",
      "value": " 79/79 [00:03&lt;00:00, 20.04it/s]"
     }
    },
    "e2da0417c3ee47b9a32fa4e7d3e8f74e": {
     "model_module": "@jupyter-widgets/base",
     "model_name": "LayoutModel",
     "model_module_version": "1.2.0",
     "state": {
      "_model_module": "@jupyter-widgets/base",
      "_model_module_version": "1.2.0",
      "_model_name": "LayoutModel",
      "_view_count": null,
      "_view_module": "@jupyter-widgets/base",
      "_view_module_version": "1.2.0",
      "_view_name": "LayoutView",
      "align_content": null,
      "align_items": null,
      "align_self": null,
      "border": null,
      "bottom": null,
      "display": "inline-flex",
      "flex": null,
      "flex_flow": "row wrap",
      "grid_area": null,
      "grid_auto_columns": null,
      "grid_auto_flow": null,
      "grid_auto_rows": null,
      "grid_column": null,
      "grid_gap": null,
      "grid_row": null,
      "grid_template_areas": null,
      "grid_template_columns": null,
      "grid_template_rows": null,
      "height": null,
      "justify_content": null,
      "justify_items": null,
      "left": null,
      "margin": null,
      "max_height": null,
      "max_width": null,
      "min_height": null,
      "min_width": null,
      "object_fit": null,
      "object_position": null,
      "order": null,
      "overflow": null,
      "overflow_x": null,
      "overflow_y": null,
      "padding": null,
      "right": null,
      "top": null,
      "visibility": "hidden",
      "width": "100%"
     }
    },
    "26884f93946d4fbfac6dfd20e7994f4a": {
     "model_module": "@jupyter-widgets/base",
     "model_name": "LayoutModel",
     "model_module_version": "1.2.0",
     "state": {
      "_model_module": "@jupyter-widgets/base",
      "_model_module_version": "1.2.0",
      "_model_name": "LayoutModel",
      "_view_count": null,
      "_view_module": "@jupyter-widgets/base",
      "_view_module_version": "1.2.0",
      "_view_name": "LayoutView",
      "align_content": null,
      "align_items": null,
      "align_self": null,
      "border": null,
      "bottom": null,
      "display": null,
      "flex": null,
      "flex_flow": null,
      "grid_area": null,
      "grid_auto_columns": null,
      "grid_auto_flow": null,
      "grid_auto_rows": null,
      "grid_column": null,
      "grid_gap": null,
      "grid_row": null,
      "grid_template_areas": null,
      "grid_template_columns": null,
      "grid_template_rows": null,
      "height": null,
      "justify_content": null,
      "justify_items": null,
      "left": null,
      "margin": null,
      "max_height": null,
      "max_width": null,
      "min_height": null,
      "min_width": null,
      "object_fit": null,
      "object_position": null,
      "order": null,
      "overflow": null,
      "overflow_x": null,
      "overflow_y": null,
      "padding": null,
      "right": null,
      "top": null,
      "visibility": null,
      "width": null
     }
    },
    "36a5175e300f4fc0a463aa885d228292": {
     "model_module": "@jupyter-widgets/controls",
     "model_name": "DescriptionStyleModel",
     "model_module_version": "1.5.0",
     "state": {
      "_model_module": "@jupyter-widgets/controls",
      "_model_module_version": "1.5.0",
      "_model_name": "DescriptionStyleModel",
      "_view_count": null,
      "_view_module": "@jupyter-widgets/base",
      "_view_module_version": "1.2.0",
      "_view_name": "StyleView",
      "description_width": ""
     }
    },
    "3e406094f2f84f16aba565b779f7cae7": {
     "model_module": "@jupyter-widgets/base",
     "model_name": "LayoutModel",
     "model_module_version": "1.2.0",
     "state": {
      "_model_module": "@jupyter-widgets/base",
      "_model_module_version": "1.2.0",
      "_model_name": "LayoutModel",
      "_view_count": null,
      "_view_module": "@jupyter-widgets/base",
      "_view_module_version": "1.2.0",
      "_view_name": "LayoutView",
      "align_content": null,
      "align_items": null,
      "align_self": null,
      "border": null,
      "bottom": null,
      "display": null,
      "flex": "2",
      "flex_flow": null,
      "grid_area": null,
      "grid_auto_columns": null,
      "grid_auto_flow": null,
      "grid_auto_rows": null,
      "grid_column": null,
      "grid_gap": null,
      "grid_row": null,
      "grid_template_areas": null,
      "grid_template_columns": null,
      "grid_template_rows": null,
      "height": null,
      "justify_content": null,
      "justify_items": null,
      "left": null,
      "margin": null,
      "max_height": null,
      "max_width": null,
      "min_height": null,
      "min_width": null,
      "object_fit": null,
      "object_position": null,
      "order": null,
      "overflow": null,
      "overflow_x": null,
      "overflow_y": null,
      "padding": null,
      "right": null,
      "top": null,
      "visibility": null,
      "width": null
     }
    },
    "3f2a10813e5348b688ad79d15d8a7603": {
     "model_module": "@jupyter-widgets/controls",
     "model_name": "ProgressStyleModel",
     "model_module_version": "1.5.0",
     "state": {
      "_model_module": "@jupyter-widgets/controls",
      "_model_module_version": "1.5.0",
      "_model_name": "ProgressStyleModel",
      "_view_count": null,
      "_view_module": "@jupyter-widgets/base",
      "_view_module_version": "1.2.0",
      "_view_name": "StyleView",
      "bar_color": null,
      "description_width": ""
     }
    },
    "364b9d58ff3042ddaf7e2b24e977bd29": {
     "model_module": "@jupyter-widgets/base",
     "model_name": "LayoutModel",
     "model_module_version": "1.2.0",
     "state": {
      "_model_module": "@jupyter-widgets/base",
      "_model_module_version": "1.2.0",
      "_model_name": "LayoutModel",
      "_view_count": null,
      "_view_module": "@jupyter-widgets/base",
      "_view_module_version": "1.2.0",
      "_view_name": "LayoutView",
      "align_content": null,
      "align_items": null,
      "align_self": null,
      "border": null,
      "bottom": null,
      "display": null,
      "flex": null,
      "flex_flow": null,
      "grid_area": null,
      "grid_auto_columns": null,
      "grid_auto_flow": null,
      "grid_auto_rows": null,
      "grid_column": null,
      "grid_gap": null,
      "grid_row": null,
      "grid_template_areas": null,
      "grid_template_columns": null,
      "grid_template_rows": null,
      "height": null,
      "justify_content": null,
      "justify_items": null,
      "left": null,
      "margin": null,
      "max_height": null,
      "max_width": null,
      "min_height": null,
      "min_width": null,
      "object_fit": null,
      "object_position": null,
      "order": null,
      "overflow": null,
      "overflow_x": null,
      "overflow_y": null,
      "padding": null,
      "right": null,
      "top": null,
      "visibility": null,
      "width": null
     }
    },
    "0ccae2c7d9c94cb6bff902791f144dfa": {
     "model_module": "@jupyter-widgets/controls",
     "model_name": "DescriptionStyleModel",
     "model_module_version": "1.5.0",
     "state": {
      "_model_module": "@jupyter-widgets/controls",
      "_model_module_version": "1.5.0",
      "_model_name": "DescriptionStyleModel",
      "_view_count": null,
      "_view_module": "@jupyter-widgets/base",
      "_view_module_version": "1.2.0",
      "_view_name": "StyleView",
      "description_width": ""
     }
    }
   }
  }
 },
 "nbformat": 4,
 "nbformat_minor": 0
}