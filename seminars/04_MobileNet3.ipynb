{
 "nbformat": 4,
 "nbformat_minor": 0,
 "metadata": {
  "colab": {
   "provenance": []
  },
  "kernelspec": {
   "name": "python3",
   "display_name": "Python 3"
  },
  "language_info": {
   "name": "python"
  }
 },
 "cells": [
  {
   "cell_type": "code",
   "execution_count": 8,
   "metadata": {
    "id": "fHlKzBdLvJLI"
   },
   "outputs": [],
   "source": [
    "import torch\n",
    "import torch.nn as nn\n",
    "import torch.nn.functional as F\n",
    "\n",
    "\n",
    "class MBConvSE(nn.Module):\n",
    "    def __init__(\n",
    "        self,\n",
    "        in_channels,\n",
    "        out_channels,\n",
    "        expansion_factor=6,\n",
    "        kernel_size=3,\n",
    "        stride=1,\n",
    "        se_ratio=0.25,\n",
    "    ) -> None:\n",
    "        super().__init__()\n",
    "        hidden_dim = in_channels * expansion_factor\n",
    "        self.use_residual = in_channels == out_channels and stride == 1\n",
    "\n",
    "        # Expansion\n",
    "        self.expand = (\n",
    "            nn.Conv2d(\n",
    "                in_channels=in_channels,\n",
    "                out_channels=hidden_dim,\n",
    "                kernel_size=1,\n",
    "                bias=False,\n",
    "            )\n",
    "            if expansion_factor > 1\n",
    "            else None\n",
    "        )\n",
    "        self.bn1 = nn.BatchNorm2d(hidden_dim) if expansion_factor > 1 else None\n",
    "\n",
    "        # Depthwise Convolution\n",
    "        self.depthwise = nn.Conv2d(\n",
    "            in_channels=hidden_dim,\n",
    "            out_channels=hidden_dim,\n",
    "            kernel_size=kernel_size,\n",
    "            bias=False,\n",
    "            stride=stride,\n",
    "            padding=kernel_size // 2,\n",
    "            groups=hidden_dim,\n",
    "        )\n",
    "        self.bn2 = nn.BatchNorm2d(hidden_dim)\n",
    "\n",
    "        # Squeeze-and-Excite\n",
    "        se_hidden_dim = max(1, int(hidden_dim * se_ratio))\n",
    "        self.se = (\n",
    "            nn.Sequential(\n",
    "                nn.AdaptiveAvgPool2d(1),\n",
    "                nn.Conv2d(hidden_dim, se_hidden_dim, kernel_size=1),\n",
    "                nn.ReLU(inplace=True),\n",
    "                nn.Conv2d(se_hidden_dim, hidden_dim, kernel_size=1),\n",
    "                nn.Sigmoid(),\n",
    "            )\n",
    "            if se_ratio > 0\n",
    "            else None\n",
    "        )\n",
    "\n",
    "        # Projection\n",
    "        self.project = nn.Conv2d(\n",
    "            hidden_dim, out_channels=out_channels, kernel_size=1, bias=False\n",
    "        )\n",
    "        self.bn3 = nn.BatchNorm2d(out_channels)\n",
    "\n",
    "    def forward(self, x):\n",
    "        out = x\n",
    "\n",
    "        if self.expand:\n",
    "            print(\"EXPANSION USED\")\n",
    "            out = F.relu6(self.bn1(self.expand(out)))\n",
    "\n",
    "        out = F.relu6(self.bn2(self.depthwise(out)))\n",
    "\n",
    "        if self.se:\n",
    "            print(\"SE USED\")\n",
    "            out *= self.se(out)\n",
    "\n",
    "        out = self.bn3(self.project(out))\n",
    "\n",
    "        if self.use_residual:\n",
    "            print(\"RESIDUAL USED\")\n",
    "            out += x\n",
    "\n",
    "        return out"
   ]
  },
  {
   "cell_type": "code",
   "source": [
    "inp = torch.randn(1, 16, 32, 32)\n",
    "model = MBConvSE(16, 16)\n",
    "model(inp).size()"
   ],
   "metadata": {
    "colab": {
     "base_uri": "https://localhost:8080/"
    },
    "id": "ghgvLG7d2A9T",
    "outputId": "cc28c016-9695-456d-f0d3-b3153cc920fd"
   },
   "execution_count": 9,
   "outputs": [
    {
     "output_type": "stream",
     "name": "stdout",
     "text": [
      "EXPANSION USED\n",
      "SE USED\n",
      "RESIDUAL USED\n"
     ]
    },
    {
     "output_type": "execute_result",
     "data": {
      "text/plain": [
       "torch.Size([1, 16, 32, 32])"
      ]
     },
     "metadata": {},
     "execution_count": 9
    }
   ]
  },
  {
   "cell_type": "code",
   "source": [],
   "metadata": {
    "id": "JuaqoUt_2SJP"
   },
   "execution_count": null,
   "outputs": []
  }
 ]
}